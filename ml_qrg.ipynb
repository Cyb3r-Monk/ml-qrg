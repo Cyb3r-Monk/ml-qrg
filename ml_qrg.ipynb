{
 "cells": [
  {
   "cell_type": "code",
   "execution_count": 1,
   "id": "5f731ace-762d-4381-aa92-9ea3d2d1122f",
   "metadata": {},
   "outputs": [],
   "source": [
    "# Run this cell first if you intend to run other Python cells later.\n",
    "# This cell notwithstanding, all other cells are independent.\n",
    "# If you are only reading the text and equations, you don't have to run this cell.\n",
    "import numpy as np\n",
    "import matplotlib.pyplot as plt\n",
    "from sklearn.decomposition import PCA\n",
    "%matplotlib inline"
   ]
  },
  {
   "cell_type": "markdown",
   "id": "6f39c6c7-dfd8-4f61-b9dd-e1c2e0643328",
   "metadata": {},
   "source": [
    "## Multi-Layer Perceptron (MLP)"
   ]
  },
  {
   "cell_type": "markdown",
   "id": "d46ba01e-47c3-45df-a1ee-8490109af68f",
   "metadata": {},
   "source": [
    "### Matrix shapes"
   ]
  },
  {
   "cell_type": "markdown",
   "id": "d35c8644-fa7b-4337-b032-96f82076e01f",
   "metadata": {},
   "source": [
    "#### Overview\n",
    "This section describes the shape (dimensions) of common matrices in a neural network."
   ]
  },
  {
   "cell_type": "markdown",
   "id": "663807a5-8c8f-4ae4-b17d-4ef2aedcea09",
   "metadata": {},
   "source": [
    "#### X: Input dataset\n",
    "Each column is a training example and each row is a feature. The transpose of this matrix is used for linear and logistic regression analyses with sklearn. The number of training examples is $m$ and the number of input features is either $n_0$ or $n_x$. If each training example is a multi-dimensional array, such as a grayscale image (2D: length x width) or color image (3D: length x width x 3 RBG channels), it must be unrolled into a column vector whereby the number of rows is equal to the production of all dimensions.\n",
    "\n",
    "It is common to vertically split $X$ into 3 parts after shuffling the examples: training, validating, and testing. Typical percentage splits between $J_{train}$/$J_{cv}$/$J_{test}$ are 70/15/15 or 60/20/20. As the number of training examples increases, $J_{train}$ can also increase. If there are millions of examples, a 98/1/1 split may be adequate.\n",
    "\n",
    "$$\n",
    "X ({n_0}, m) = A^{[0]} =\n",
    "\\begin{bmatrix}\n",
    "x^{(1)}_1 & x^{(2)}_1 & \\cdots & x^{(m)}_1 \\\\\n",
    "x^{(1)}_2 & x^{(2)}_2 & \\cdots & x^{(m)}_2 \\\\\n",
    "\\vdots & \\vdots & \\ddots & \\vdots \\\\\n",
    "x^{(1)}_{n_0} & x^{(2)}_{n_0} & \\cdots & x^{(m)}_{n_0}\n",
    "\\end{bmatrix}\n",
    "$$"
   ]
  },
  {
   "cell_type": "markdown",
   "id": "a7490804-44b9-41e3-bf43-7a46b868f2a9",
   "metadata": {},
   "source": [
    "#### Y: Expected outputs/labels\n",
    "For linear and logistic regression problems, there will be a \"right answer\" corresponding to each training example. These neural networks will have a single unit in the output layer $(n_L=1)$. A multi-class problem (e.g. softmax) will also have one label per training example, although it is commonly one-hot encoded (OHE) into one label per class, represented by rows. This corresponds to one unit per class in the output layer of the neural network. Likewise, a multi-label problem (e.g. many yes/no questions at once) will have a similar shape, albeit without the one-hot restriction. Predictions/inferences from the model are stored in $\\hat{y}$ or \"y-hat\" which always has the same shape as $y$ once OHE, if required, is complete.\n",
    "\n",
    "$$\n",
    "\\begin{align}\n",
    "Y_{singleclass} (1, m) & =\n",
    "\\begin{bmatrix}\n",
    "y^{(1)} & y^{(2)} & \\cdots & y^{(m)} \\\\\n",
    "\\end{bmatrix} \\\\\n",
    "y_{multiclass} (n_L, m) & =\n",
    "\\begin{bmatrix}\n",
    "y^{(1)}_1 & y^{(2)}_1 & \\cdots & y^{(m)}_1 \\\\\n",
    "y^{(1)}_2 & y^{(2)}_2 & \\cdots & y^{(m)}_2 \\\\\n",
    "\\vdots & \\vdots & \\ddots & \\vdots \\\\\n",
    "y^{(1)}_{n_L} & y^{(2)}_{n_L} & \\cdots & y^{(m)}_{n_L}\n",
    "\\end{bmatrix}\n",
    "\\end{align}\n",
    "$$"
   ]
  },
  {
   "cell_type": "markdown",
   "id": "a4823298-acea-4fe1-b0e4-2c9420f43186",
   "metadata": {
    "jp-MarkdownHeadingCollapsed": true
   },
   "source": [
    "#### W: Weights\n",
    "Each value corresponds to an edge, interconnecting units from the current layer to units in the previous layer. The rows correspond to the current layer's units while the columns correspond to the previous layer's units. Note that this matrix is a function of the neural network architecture and not a function of the training example quantity. No $W$ matrix ever has a dimension of $m$.\n",
    "\n",
    "$$\n",
    "W^{[l]} (n_l, {n_{l-1}}) =\n",
    "\\begin{bmatrix}\n",
    "w_{1,1} & w_{1,2} & \\cdots & w_{1,n_{l-1}} \\\\\n",
    "w_{2,1} & w_{2,2} & \\cdots & w_{2,n_{l-1}} \\\\\n",
    "\\vdots & \\vdots & \\ddots & \\vdots \\\\\n",
    "w_{n_l,1} & w_{n_l,2} & \\cdots & w_{n_l,n_{l-1}}\n",
    "\\end{bmatrix}\n",
    "$$"
   ]
  },
  {
   "cell_type": "markdown",
   "id": "6b03b54d-3e3f-407f-8999-b459d60c4901",
   "metadata": {},
   "source": [
    "#### b: Biases\n",
    "A column vector with a value for each unit in the current layer. Like weights, the shape of this matrix depends upon the neural network's architecture (current layer only) and not the number of training examples $m$.\n",
    "\n",
    "$$\n",
    "b^{[l]} (n_l, 1)=\n",
    "\\begin{bmatrix}\n",
    "b_1 \\\\\n",
    "b_2 \\\\\n",
    "\\vdots \\\\\n",
    "b_{n_l} \\\\\n",
    "\\end{bmatrix}\n",
    "$$"
   ]
  },
  {
   "cell_type": "markdown",
   "id": "843ea9da-cca1-478c-8e37-fbba5de67d98",
   "metadata": {},
   "source": [
    "#### Z: Linear outputs\n",
    "The algebraic combination of weights, biases, and previous layer activations. At the first layer, the previous layer activations is equal to $X$, the input data. Each column corresponds to a training example just like $X$ and $Y$ while the rows correspond to the number of units in the current layer.\n",
    "\n",
    "$$\n",
    "Z^{[l]} (n_l, m)=\n",
    "\\begin{bmatrix}\n",
    "z^{(1)}_1 & z^{(2)}_1 & \\cdots & z^{(m)}_1 \\\\\n",
    "z^{(1)}_2 & z^{(2)}_2 & \\cdots & z^{(m)}_2 \\\\\n",
    "\\vdots & \\vdots & \\ddots & \\vdots \\\\\n",
    "z^{(1)}_{n_l} & z^{(2)}_{n_l} & \\cdots & z^{(m)}_{n_l}\n",
    "\\end{bmatrix}\n",
    "$$"
   ]
  },
  {
   "cell_type": "markdown",
   "id": "01ec2166-bc71-4fa6-90f8-01361dd45ac9",
   "metadata": {},
   "source": [
    "#### A: Activations\n",
    "A transform function that enables a layer to represent the linear output in a more meaningful way to the next layer. Same shape as $Z$.\n",
    "\n",
    "$$\n",
    "A^{[l]} (n_l, m)=\n",
    "\\begin{bmatrix}\n",
    "a^{(1)}_1 & a^{(2)}_1 & \\cdots & a^{(m)}_1 \\\\\n",
    "a^{(1)}_2 & a^{(2)}_2 & \\cdots & a^{(m)}_2 \\\\\n",
    "\\vdots & \\vdots & \\ddots & \\vdots \\\\\n",
    "a^{(1)}_{n_l} & a^{(2)}_{n_l} & \\cdots & a^{(m)}_{n_l}\n",
    "\\end{bmatrix}\n",
    "$$"
   ]
  },
  {
   "cell_type": "markdown",
   "id": "003e5561-faa5-488d-ab85-a87b7fb1a4ca",
   "metadata": {},
   "source": [
    "### Categorical Feature Encoding"
   ]
  },
  {
   "cell_type": "markdown",
   "id": "1a0a3950-55f1-48b4-9988-23b6eafe1712",
   "metadata": {},
   "source": [
    "#### Overview\n",
    "Sometimes features (rows of $X$ or $Y$) are represented by non-numeric identifiers, such as strings. This section explains how such data can be encoded in a machine-friendly format."
   ]
  },
  {
   "cell_type": "markdown",
   "id": "2a3ef5a0-5676-4084-a473-fbc25ba5febf",
   "metadata": {},
   "source": [
    "#### Ordinal Encoding\n",
    "Ordinal encoding maps each unique string into a unique number. Such a technique is useful for decision trees or other algorithms that can learn/split on categorical values. It also works well when there is an intrinsic order to the categories, such as small (1), medium (2) and large (3). Ordinal encoding is sometimes known as \"label encoding\", not to be confused with the expected output labels of $Y$.\n",
    "\n",
    "Consider $X$ with 3 features: height in inches, weight in pounds, and T-shirt size. Ordinal encoding answers the open-ended question in a single row of $X$: \"What is the T-shirt size?\"\n",
    "\n",
    "$$\n",
    "X =\n",
    "\\begin{bmatrix}\n",
    "60 & 65 & 62 & \\cdots & 70 \\\\\n",
    "100 & 140 & 110 & \\cdots & 180 \\\\\n",
    "\\text{small} & \\text{medium} & \\text{small} & \\cdots & \\text{large}\n",
    "\\end{bmatrix}\n",
    "\\verb|--(ordinal_encode)-->|\n",
    "\\begin{bmatrix}\n",
    "60 & 65 & 62 & \\cdots & 70 \\\\\n",
    "100 & 140 & 110 & \\cdots & 180 \\\\\n",
    "1 & 2 & 1 & \\cdots & 3\n",
    "\\end{bmatrix}\n",
    "$$\n",
    "\n",
    "Ordinal encoding does not require a meaningful amount of additional disk space or memory as it does not change the dimensionality of the source matrix. However, it's a poor choice for nominal, unorderable features. For example, the average of man (1), bear (2), pig (3) would be bear (2), which doesn't make sense."
   ]
  },
  {
   "cell_type": "markdown",
   "id": "9cdd044f-4f24-4026-b2be-efd197df4647",
   "metadata": {},
   "source": [
    "#### One-hot Encoding (OHE)\n",
    "One-hot encoding can be applied to features of $X$ or $Y$ (rows) to create a binary representation of the classes. Each training example in $X$ or label in $Y$ (columns) will have a single 1 with all other values set to 0.\n",
    "\n",
    "For input features of $X$, OHE works better for nominal categories whereby there is no implicit ordering, such as the eeye colors of brown, blue, and green. Unlike T-shirt sizes, eye color is unlikely to be correlated with height or weight, and there is no direct comparison between the colors. A new feature is created for each possible category, which each answer a binary question:\n",
    "  1. Is the eye color brown?\n",
    "  2. Is the eye color blue?\n",
    "  3. Is the eye color green?\n",
    "\n",
    "Consider $X$ with 3 features: height in inches, weight in pounds, and eye color.\n",
    "\n",
    "$$\n",
    "X =\n",
    "\\begin{bmatrix}\n",
    "60 & 65 & 62 & \\cdots & 70 \\\\\n",
    "100 & 140 & 110 & \\cdots & 180 \\\\\n",
    "\\, \\text{brown} & \\text{green} & \\text{brown} & \\cdots & \\text{blue}\\, \n",
    "\\end{bmatrix}\n",
    "\\, \\verb|--(one_hot_encode)-->|\\, \n",
    "\\begin{bmatrix}\n",
    "60 & 65 & 62 & \\cdots & 70 \\\\\n",
    "100 & 140 & 110 & \\cdots & 180 \\\\\n",
    "1 & 0 & 1 & \\cdots & 0 \\\\\n",
    "0 & 0 & 0 & \\cdots & 1 \\\\\n",
    "0 & 1 & 0 & \\cdots & 0\n",
    "\\end{bmatrix}\n",
    "$$\n",
    "\n",
    "For output features of $Y$, OHE is the preferred approach for softmax regression as each training example will corresponded to a prediction containing $N$ different probabilities where $N$ is the number of categories. This is the structure of $\\hat{Y}$. Consider $Y$ that corresponds with the $X$ example above containing height in inches, weight in pounds, and eye color. The model predicts hair color based on those inputs, selecting from the colors of black, brown, or blonde ($N=3$). A new feature is created for each possible category, which answers a binary question:\n",
    "  1. Is the hair color black?\n",
    "  2. Is the hair color brown?\n",
    "  3. Is the hair color blonde?\n",
    "\n",
    "$$\n",
    "Y =\n",
    "\\begin{bmatrix}\n",
    "\\, \\text{black} & \\text{brown} & \\text{black} & \\cdots & \\text{blonde}\\, \n",
    "\\end{bmatrix}\n",
    "\\, \\verb|--(one_hot_encode)-->|\\, \n",
    "\\begin{bmatrix}\n",
    "1 & 0 & 1 & \\cdots & 0 \\\\\n",
    "0 & 1 & 0 & \\cdots & 0 \\\\\n",
    "0 & 0 & 0 & \\cdots & 1\n",
    "\\end{bmatrix}\n",
    "$$\n",
    "\n",
    "The one-hot encoded version of $Y$ is now directly comparable with the softmax predictions $\\hat{Y}$. This simplifies the cost calculation its corresponding derivatives.\n",
    "\n",
    "The benefit of OHE is that it allows most machine learning algorithms, such as those used in neural networks, to train on nominal categories. The drawback is the increase in dimensionality. For a large number of input categories, the number of rows in $X$ (features) increases rapidly. At a minimum, this requires a large input layer to account for these features of $X$, increeasing the size of $W[1]$ and $b[1]$. Likewise, many output categories increases the number of rows of $Y$, thus increasing the size of $W[L]$ and $b[L]$. Training such a model may be more computationally expensive and require more time."
   ]
  },
  {
   "cell_type": "markdown",
   "id": "85bc3db3-1ecb-4a74-b202-883d192801af",
   "metadata": {},
   "source": [
    "### Principal Component Analysis (PCA)"
   ]
  },
  {
   "cell_type": "markdown",
   "id": "645ad8a3-5453-4cae-bf4f-eb15df2eaf9f",
   "metadata": {},
   "source": [
    "#### Overview\n",
    "This unsupervised machine learning algorithm is not directly related to neural networks. However, it is commonly used to visualize the input data $X$. When $X$ has many features, PCA can compress the data to reduce the number of features. Visualizing highly dimensional data in 2 or 3 dimensions helps engineers surface correlations and patterns. PCA's ability to reduce dimensionality also reduces the computing time and power required to train a neural network.\n",
    "\n",
    "In practice, PCA is more commonly used for visualization/exploration. It is less commonly used to speed up training as this reduction does cause some loss of granularity/variance, leading to worse predictions. Given the computing resources available in modern times, compressing the input data is less important than it was in years past.\n",
    "\n",
    "Some practitioners have suggested using PCA to reduce dimensionality when one-hot encoding (OHE) is in use. For example, applying OHE to a classification with 4 choices only yields 4 features. Apply the same logic to a country code may yield 200 features. This explosion of data may not have much predictive relevance for the model; reducing it with PCA might be worthwhile."
   ]
  },
  {
   "attachments": {},
   "cell_type": "markdown",
   "id": "326c7b86-a514-4552-8013-5750bbdf3839",
   "metadata": {},
   "source": [
    "#### Data Visualization\n",
    "Suppose we have this input data matrix $X$, which compares the height, shoulder width, hip circumference, weight, and body fat percentange for several human adults. As is typical with deep network input matrices, these features are listed along the rows. Lengths are measured in inches and weights are measured in pounds. Columns identify training examples. This is the standard $(n,m)$ structure used for deep learning.\n",
    "\n",
    "The final row identifies whether the person is a man (1)or not (0), which are labels of vector $y$. For simplicity, the first 10 are men and the last 10 are not men.\n",
    "\n",
    "|         |   1 |   2 |   3 |   4 |   5 |   6 |   7 |   8 |   9 |  10 |  11 |  12 |  13 |  14 |  15 |  16 |  17 |  18 |  19 |  20 | \n",
    "| ------- | --- | --- | --- | --- | --- | --- | --- | --- | --- | --- | --- | --- | --- | --- | --- | --- | --- | --- | --- | --- |\n",
    "| Height  |  71 |  68 |  64 |  61 |  70 |  74 |  69 |  65 |  62 |  66 |  49 |  52 |  55 |  50 |  51 |  50 |  53 |  54 |  55 |  53 |\n",
    "| S width |  14 |  15 |  16 |  14 |  14 |  18 |  17 |  17 |  16 |  18 |  12 |  15 |  15 |  14 |  14 |  16 |  12 |  14 |  12 |  16 |\n",
    "| H circ  |  40 |  41 |  40 |  41 |  37 |  37 |  40 |  40 |  38 |  41 |  39 |  41 |  41 |  36 |  39 |  40 |  39 |  41 |  36 |  37 |\n",
    "| Weight  | 180 | 173 | 170 | 145 | 190 | 255 | 212 | 168 | 140 | 225 | 100 | 120 | 155 | 105 |  98 | 131 | 116 | 130 | 170 | 127 |\n",
    "| BFat %  |  13 |  16 |  12 |  12 |  13 |  25 |  11 |  10 |  14 |  18 |  23 |  23 |  29 |  31 |  22 |  25 |  29 |  31 |  30 |  22 |\n",
    "| IS MAN? |   1 |   1 |   1 |   1 |   1 |   1 |   1 |   1 |   1 |   1 |   0 |   0 |   0 |   0 |   0 |   0 |   0 |   0 |   0 |   0 |"
   ]
  },
  {
   "cell_type": "markdown",
   "id": "805b7a30-b983-4e9f-8e32-315b53538afd",
   "metadata": {},
   "source": [
    "The code below defines the input matrix $X$. Many of the features within scikit-learn (`sklearn`) require the rows of $X$ to represent training examples and the columns to represent features. Therefore, we first transpose $X$ to achieve a shape of $(m,n)$. Note that the label vector $y$ remains undefined as labels do not factor into PCA.\n",
    "\n",
    "You must first decide how many principal components (PCs) are required. Each PC is ranked by magnitude of explained variance. That is to say, PC1 will always explain the greatest amount of variance in the training data, with PC2 explaining the second greatest amount, etc. In data sets where correlation between features is high, a small number of PCs can capture most of the variance. In noisier data sets with weaker correlation between features, more PCs are required to capture most of the variance.\n",
    "\n",
    "In this example, PC1 explains nearly all of the variance with PC2 contributing a small amount. Together, these two PCs account for more than 99% of the variance. Although the data set $X$ had 5 unique features, PCA has reduced it to 2 features while still retaining the vast majority of the variance. This is because many of the features are highly correlated, such as height and weight, weight and body fat, etc. Some features, such as hip circumference (at least in this fabricated example) do not appear predictive. They likely correlated poorly to other features as the mean values are similar for \"men\" and \"not men\" labels."
   ]
  },
  {
   "cell_type": "code",
   "execution_count": 2,
   "id": "3152ce7f-046c-4bca-a598-04bdb070f486",
   "metadata": {},
   "outputs": [
    {
     "name": "stdout",
     "output_type": "stream",
     "text": [
      "PCA 1 explained variance ratio: 96.6138%\n",
      "PCA 2 explained variance ratio: 2.8472%\n",
      "Total variance retained by PCA: 99.4611%\n"
     ]
    }
   ],
   "source": [
    "X = np.array([\n",
    "    [71, 68, 64, 61, 70, 74, 69, 65, 62, 66, 49, 52, 55, 50, 51, 50, 53, 54, 55, 53],\n",
    "    [14, 15, 16, 14, 14, 18, 17, 17, 16, 18, 12, 15, 15, 14, 14, 16, 12, 14, 12, 16],\n",
    "    [40, 41, 40, 41, 37, 37, 40, 40, 38, 41, 39, 41, 41, 36, 39, 40, 39, 41, 36, 37],\n",
    "    [180, 173, 170, 145, 190, 255, 212, 168, 140, 225, 100, 120, 155, 105, 98, 131, 116, 130, 170, 127],\n",
    "    [13, 16, 12, 12, 13, 25, 11, 10, 14, 18, 23, 23, 29, 31, 22, 25, 29, 31, 30, 22],\n",
    "])\n",
    "X = X.T\n",
    "pca_2 = PCA(n_components=2)\n",
    "pca_2.fit(X)\n",
    "for i, evr in enumerate(pca_2.explained_variance_ratio_):\n",
    "    print(f\"PCA {i+1} explained variance ratio: {(evr * 100):.4f}%\")\n",
    "print(f\"Total variance retained by PCA: {(np.sum(pca_2.explained_variance_ratio_) * 100):.4f}%\")"
   ]
  },
  {
   "cell_type": "markdown",
   "id": "7c0ac8ac-952a-4e55-ab2e-b14ec968cdef",
   "metadata": {},
   "source": [
    "To visualize the data, use a scatterplot. This one is enhanced with color-coding based on the expected label; again, labels have no influence over PCA. This helps emphasize the diagonal decision boundary separating \"men\" from \"not men\". It is also not common to annotate individual points with their example number. Doing so here helps further reinforce the visualization of the clusters.\n",
    "\n",
    "By definition, PC1 accounts for a greater share of the variance than PC2. The difference between the leftmost (15) and rightmost (6) values is about 160 along the PC1 axis. The difference between the topmost (19) and bottommost (8) is about 22 along the PC2 axis. If we completely ignored PC2 and only projected all the points onto a number line representing PC1, we still have a pretty good idea of how the data separates. However, adding the second dimension with the PC2 axis gives us a clearer picture. It also helps to draw a better decision boundary."
   ]
  },
  {
   "cell_type": "code",
   "execution_count": 3,
   "id": "507ecaa2-5301-4349-9508-8425cd12b3e1",
   "metadata": {},
   "outputs": [
    {
     "data": {
      "text/plain": [
       "<matplotlib.legend.Legend at 0x12a841060>"
      ]
     },
     "execution_count": 3,
     "metadata": {},
     "output_type": "execute_result"
    },
    {
     "data": {
      "image/png": "[encoded data removed]",
      "text/plain": [
       "<Figure size 1200x400 with 2 Axes>"
      ]
     },
     "metadata": {},
     "output_type": "display_data"
    }
   ],
   "source": [
    "X_pca_2 = pca_2.transform(X)\n",
    "pc1 = X_pca_2[:, 0]\n",
    "pc2 = X_pca_2[:, 1]\n",
    "\n",
    "fig, ax = plt.subplots(nrows=1, ncols=2)\n",
    "fig.set_size_inches(12, 4)\n",
    "ax[0].scatter(pc1[:10], pc2[:10], color=\"b\", label=r\"$y=1$\")\n",
    "ax[0].scatter(pc1[10:], pc2[10:], color=\"r\", label=r\"$y=0$\")\n",
    "ax[0].set_xlabel(\"PC1\"); ax[0].set_ylabel(\"PC2\")\n",
    "ax[0].set_title(\"PC1 and PC2 in 2D\"); ax[0].legend()\n",
    "for i in range(X.shape[0]):\n",
    "    ax[0].annotate(i+1, (pc1[i], pc2[i]))\n",
    "\n",
    "ax[1].scatter(pc1[:10], np.zeros(10), color=\"b\", label=r\"$y=1$\")\n",
    "ax[1].scatter(pc1[10:], np.zeros(10), color=\"r\", label=r\"$y=0$\")\n",
    "ax[1].set_xlabel(\"PC1\"); ax[1].get_yaxis().set_visible(False)\n",
    "ax[1].set_title(\"PC1 only in 1D\"); ax[1].legend()"
   ]
  },
  {
   "cell_type": "markdown",
   "id": "42ffaf67-31fb-4527-9324-5cbea5192b5b",
   "metadata": {},
   "source": [
    "#### Simplified Supervised Training\n",
    "The `transform()` function performs dimensionality reduction after the PCs have been discovered by the `fit()` function. The code below compares a logistic regression model trained on all features of $X$, versus another logistic regression model trained on the PCA-reduced dimensions of $X$. Because the PCs represent more than 99% of the variance, we expect both models to perform about the same, with the PCA-trained model performing slightly worse. Whenever you compress data using PCA, you forfeit a bit of granularity for a significant decrease in dimensionality (at least in theory).\n",
    "\n",
    "There are 4 example queries shown below. The first 2 are \"men\" and the second 2 are \"not men\". When making predictions with a PCA-trained model, one must transform the input query (containing all 5 features) into a PCA-compatible query containing only 2 features represented by PCs. Behind the scenes, PCA applies Z-score normalization (standardization) to the data; this is also required at prediction time, hence the call to `transform()`. In this simple test, both models get all 4 predictions correct."
   ]
  },
  {
   "cell_type": "code",
   "execution_count": 4,
   "id": "58d633c8-a6ca-4ecf-b617-60d5a0ef001a",
   "metadata": {},
   "outputs": [
    {
     "name": "stdout",
     "output_type": "stream",
     "text": [
      "Full X shape: (20, 5)\n",
      "[[70, 15, 42, 195, 16]] True\n",
      "[[67, 14, 39, 180, 13]] True\n",
      "[[56, 14, 39, 110, 20]] False\n",
      "[[60, 12, 45, 130, 22]] False\n",
      "\n",
      "PCA2 X shape: (20, 2)\n",
      "[[70, 15, 42, 195, 16]] True\n",
      "[[67, 14, 39, 180, 13]] True\n",
      "[[56, 14, 39, 110, 20]] False\n",
      "[[60, 12, 45, 130, 22]] False\n"
     ]
    }
   ],
   "source": [
    "from sklearn import linear_model\n",
    "\n",
    "queries = [\n",
    "    [[70, 15, 42, 195, 16]], # is a man, y=1\n",
    "    [[67, 14, 39, 180, 13]], # is a man, y=1\n",
    "    [[56, 14, 39, 110, 20]], # not a man, y=0\n",
    "    [[60, 12, 45, 130, 22]], # not a man, y=0\n",
    "]\n",
    "y = np.concatenate((np.ones(10), np.zeros(10)))\n",
    "\n",
    "# training with full-featured X\n",
    "full_logreg = linear_model.LogisticRegression()\n",
    "print(\"Full X shape:\", X.shape)\n",
    "full_logreg.fit(X, y)\n",
    "for query in queries:\n",
    "    print(query, bool(full_logreg.predict(query)[0]))\n",
    "\n",
    "# training with X after transform with 2 PCAs\n",
    "pca_logreg = linear_model.LogisticRegression()\n",
    "print(\"\\nPCA2 X shape:\", X_pca_2.shape)\n",
    "pca_logreg.fit(X_pca_2, y)\n",
    "for query in queries:\n",
    "    # must transform query based on PCA values (mean, etc).\n",
    "    pca_2_query = pca_2.transform(query)\n",
    "    print(query, bool(pca_logreg.predict(pca_2_query)[0]))"
   ]
  },
  {
   "cell_type": "markdown",
   "id": "36797ac8-010e-4c33-9112-0ac4d4b474d0",
   "metadata": {},
   "source": [
    "#### Limitations\n",
    "PCA has several limitations. Because the purpose of PCA is to find correlations between sets of features, no/weak correlation makes PCA ineffective. The PCs would only account for small amounts of the variance.\n",
    "\n",
    "The PCs are linear combinations of numbers which makes it hard to determine which original features contribute most to a given PC. Due to PCA's linear nature, it is not effective at measuring non-linear relationships between features. Consider scaling your data using exponential (logarithmic curve to line) or logarithmic (exponential curve to line) transforms to make it linear before running PCA. "
   ]
  },
  {
   "cell_type": "markdown",
   "id": "55d02189-e973-4aca-a3dd-e7f10737dc59",
   "metadata": {},
   "source": [
    "### Normalization"
   ]
  },
  {
   "cell_type": "markdown",
   "id": "48cc50ab-e3b0-4298-bd23-8f135cb53237",
   "metadata": {},
   "source": [
    "#### Overview\n",
    "This section describes normalizers used for feature or neural network layer scaling. For all methods, be sure to apply normalization when making predictions using the same computed values (such as $\\mu$, $\\sigma$, and various minimums/maximums) to the new input. Normalization is not applied to categorical features of $X$ or labels of $\\hat{Y}$.\n",
    "\n",
    "The main benefit is that the ranges between values of a feature, and between features, will shrink. This allows you to use a larger learning rate $\\alpha$ in gradient descent, reducing both time and computational energy required to train a model."
   ]
  },
  {
   "cell_type": "markdown",
   "id": "8396b682-3fa0-41dd-a527-b39618c7ea43",
   "metadata": {},
   "source": [
    "#### Z-score\n",
    "Given $\\vec{x}$, this method subtracts the mean $\\mu$ then divides by the standard deviation $\\sigma$ (not related to sigmoid activation function). This is most commonly used for general features, although may perform poorly with some extreme outliers. The mean is 0 and the standard deviation is 1. Positive numbers represent values above the mean while negative numbers represent values below the mean. It is also called \"standardization\" or \"the standard scaler\".\n",
    "\n",
    "$$\n",
    "\\begin{align}\n",
    "\\mu = & \\frac{1}{n} \\cdot \\sum\\limits^n_{i=1}x_i \\\\\n",
    "\\sigma = & \\sqrt{\\frac{1}{n} \\cdot \\sum\\limits^n_{i=1}{(x_i)}^2} \\\\\n",
    "\\vec{x}' = & \\frac{\\vec{x}-\\mu}{\\sigma}\n",
    "\\end{align}\n",
    "$$"
   ]
  },
  {
   "cell_type": "code",
   "execution_count": 5,
   "id": "6d53d95d-125f-47a9-8621-845a84e11690",
   "metadata": {},
   "outputs": [
    {
     "data": {
      "text/plain": [
       "[<matplotlib.lines.Line2D at 0x12cb65ea0>]"
      ]
     },
     "execution_count": 5,
     "metadata": {},
     "output_type": "execute_result"
    },
    {
     "data": {
      "image/png": "[encoded data removed]",
      "text/plain": [
       "<Figure size 1200x400 with 2 Axes>"
      ]
     },
     "metadata": {},
     "output_type": "display_data"
    }
   ],
   "source": [
    "def zscore_norm(xvec):\n",
    "    return (xvec - np.mean(xvec)) / np.std(xvec)\n",
    "\n",
    "x_1 = np.random.randint(0, 1000, (20,))\n",
    "x_2 = np.random.randint(0, 10, (20,))\n",
    "\n",
    "# Make 3 subplots, one per option, then graph each function\n",
    "fig, ax = plt.subplots(nrows=1, ncols=2)\n",
    "fig.set_size_inches(12, 4)\n",
    "ax[0].set_ylabel(\"$x_2$\")\n",
    "ax[0].set_xlabel(\"$x_1$\")\n",
    "ax[0].set_title(\"No norm\")\n",
    "ax[0].plot(x_1, x_2, linestyle=\"\",marker=\"o\")\n",
    "\n",
    "ax[1].set_ylabel(\"$x_2$\")\n",
    "ax[1].set_xlabel(\"$x_1$\")\n",
    "ax[1].set_title(\"Z-score norm\")\n",
    "ax[1].plot(zscore_norm(x_1), zscore_norm(x_2), linestyle=\"\", marker=\"o\")"
   ]
  },
  {
   "cell_type": "markdown",
   "id": "8b9d785d-05b9-4daa-bc52-2a78de4e3366",
   "metadata": {},
   "source": [
    "#### Clipping\n",
    "Given $\\vec{x}$ plus user-defined minimum and maximum thresholds, this method assigns extremely large outliers to the maximum and extremely small outliers to the minimum. Unlike the other methods, this only modifies a subset of values and may have no effect if the dataset lacks outliers.\n",
    "\n",
    "$$\n",
    "\\vec{x}' =\n",
    "\\begin{cases}\n",
    "x > \\text{user}_{max}: & x := \\text{user}_{max} \\\\\n",
    "x < \\text{user}_{min}: & x := \\text{user}_{min}\n",
    "\\end{cases}\n",
    "$$"
   ]
  },
  {
   "cell_type": "code",
   "execution_count": 6,
   "id": "a9586555-fea1-4c5b-b4c7-9d83106fd780",
   "metadata": {},
   "outputs": [
    {
     "data": {
      "text/plain": [
       "[<matplotlib.lines.Line2D at 0x12cc74bb0>]"
      ]
     },
     "execution_count": 6,
     "metadata": {},
     "output_type": "execute_result"
    },
    {
     "data": {
      "image/png": "[encoded data removed]",
      "text/plain": [
       "<Figure size 1200x400 with 2 Axes>"
      ]
     },
     "metadata": {},
     "output_type": "display_data"
    }
   ],
   "source": [
    "def clip_norm(xvec, umin, umax):\n",
    "    xnew = np.copy(xvec)\n",
    "    xnew[xvec > umax] = umax\n",
    "    xnew[xvec < umin] = umin\n",
    "    return xnew\n",
    "\n",
    "x_1 = np.random.randint(40, 50, (18,))\n",
    "x_1 = np.append(x_1, 20)\n",
    "x_1 = np.append(x_1, 70)\n",
    "x_2 = np.random.randint(5, 10, (18,))\n",
    "x_2 = np.append(x_2, 1)\n",
    "x_2 = np.append(x_2, 15)\n",
    "\n",
    "# Make 3 subplots, one per option, then graph each function\n",
    "fig, ax = plt.subplots(nrows=1, ncols=2)\n",
    "fig.set_size_inches(12, 4)\n",
    "ax[0].set_ylabel(\"$x_2$\")\n",
    "ax[0].set_xlabel(\"$x_1$\")\n",
    "ax[0].set_title(\"No norm\")\n",
    "ax[0].plot(x_1, x_2, linestyle=\"\",marker=\"o\")\n",
    "\n",
    "ax[1].set_ylabel(\"$x_2$\")\n",
    "ax[1].set_xlabel(\"$x_1$\")\n",
    "ax[1].set_title(\"Clip norm\")\n",
    "ax[1].plot(clip_norm(x_1, 37, 55), clip_norm(x_2, 4, 11), linestyle=\"\",marker=\"o\")"
   ]
  },
  {
   "cell_type": "markdown",
   "id": "dea86ed8-7aa7-4b90-8aa4-7a0cf039de90",
   "metadata": {},
   "source": [
    "#### Mean\n",
    "Given $\\vec{x}$, this method subtracts the mean $\\mu$, then divides by the difference between the largest and smallest values within $\\vec{x}$. The values always sum to 0 with a maximum span of 1 between smallest and largest values. In other words, ${x_{max}-x_{min}} = 1$ after normalization. Because the values cluster near the origin, they are all relatively small.\n",
    "\n",
    "$$\n",
    "\\begin{align}\n",
    "\\mu = & \\frac{1}{n} \\cdot \\sum\\limits^n_{i=1}x_i \\\\\n",
    "\\vec{x}' = & \\frac{\\vec{x}-\\mu}{x_{max}-x_{min}}\n",
    "\\end{align}\n",
    "$$"
   ]
  },
  {
   "cell_type": "code",
   "execution_count": 7,
   "id": "9683b35e-a42a-477d-98bd-c24be2406df1",
   "metadata": {},
   "outputs": [
    {
     "data": {
      "text/plain": [
       "[<matplotlib.lines.Line2D at 0x12cd61d20>]"
      ]
     },
     "execution_count": 7,
     "metadata": {},
     "output_type": "execute_result"
    },
    {
     "data": {
      "image/png": "[encoded data removed]",
      "text/plain": [
       "<Figure size 1200x400 with 2 Axes>"
      ]
     },
     "metadata": {},
     "output_type": "display_data"
    }
   ],
   "source": [
    "def mean_norm(xvec):\n",
    "    return (xvec - np.mean(xvec)) / (np.max(xvec) - np.min(xvec))\n",
    "\n",
    "x_1 = np.random.randint(0, 100000, (20,))\n",
    "x_2 = np.random.randint(0, 10, (20,))\n",
    "\n",
    "# Make 3 subplots, one per option, then graph each function\n",
    "fig, ax = plt.subplots(nrows=1, ncols=2)\n",
    "fig.set_size_inches(12, 4)\n",
    "ax[0].set_ylabel(\"$x_2$\")\n",
    "ax[0].set_xlabel(\"$x_1$\")\n",
    "ax[0].set_title(\"No norm\")\n",
    "ax[0].plot(x_1, x_2, linestyle=\"\",marker=\"o\")\n",
    "\n",
    "ax[1].set_ylabel(\"$x_2$\")\n",
    "ax[1].set_xlabel(\"$x_1$\")\n",
    "ax[1].set_title(\"Mean norm\")\n",
    "ax[1].plot(mean_norm(x_1), mean_norm(x_2), linestyle=\"\",marker=\"o\")"
   ]
  },
  {
   "cell_type": "markdown",
   "id": "6f5c9394-8697-4726-af5a-28e9483bfcb6",
   "metadata": {},
   "source": [
    "#### Linear\n",
    "Given $\\vec{x}$, this method subtracts the smallest value within $\\vec{x}$, then divides by the difference between the largest and smallest values within $\\vec{x}$. It works when the feature is uniformly distributed (evenly spaced) across a range. Results are guaranteed to be between 0 and 1. It is sometimes called \"min max\" normalization as well.\n",
    "\n",
    "$$\n",
    "\\vec{x}' = \\frac{\\vec{x}-x_{min}}{x_{max}-x_{min}}\n",
    "$$"
   ]
  },
  {
   "cell_type": "code",
   "execution_count": 8,
   "id": "dbfa2207-fc73-49c8-907b-0486b67bc032",
   "metadata": {},
   "outputs": [
    {
     "data": {
      "text/plain": [
       "[<matplotlib.lines.Line2D at 0x12cd91300>]"
      ]
     },
     "execution_count": 8,
     "metadata": {},
     "output_type": "execute_result"
    },
    {
     "data": {
      "image/png": "[encoded data removed]",
      "text/plain": [
       "<Figure size 1200x400 with 2 Axes>"
      ]
     },
     "metadata": {},
     "output_type": "display_data"
    }
   ],
   "source": [
    "def linear_norm(xvec):\n",
    "    return (xvec - np.min(xvec)) / (np.max(xvec) - np.min(xvec))\n",
    "\n",
    "x_1 = np.random.randint(0, 1000, (20,))\n",
    "x_2 = np.random.randint(0, 10, (20,))\n",
    "\n",
    "# Make 3 subplots, one per option, then graph each function\n",
    "fig, ax = plt.subplots(nrows=1, ncols=2)\n",
    "fig.set_size_inches(12, 4)\n",
    "ax[0].set_ylabel(\"$x_2$\")\n",
    "ax[0].set_xlabel(\"$x_1$\")\n",
    "ax[0].set_title(\"No norm\")\n",
    "ax[0].plot(x_1, x_2, linestyle=\"\",marker=\"o\")\n",
    "\n",
    "ax[1].set_ylabel(\"$x_2$\")\n",
    "ax[1].set_xlabel(\"$x_1$\")\n",
    "ax[1].set_title(\"Linear norm\")\n",
    "ax[1].plot(linear_norm(x_1), linear_norm(x_2), linestyle=\"\",marker=\"o\")"
   ]
  },
  {
   "cell_type": "markdown",
   "id": "6f50abb3-d8d9-46b4-839f-2244a58fc089",
   "metadata": {},
   "source": [
    "#### Logarithmic\n",
    "Given $\\vec{x}$ and a user-specific log base $b$, this method applies a logarithm to \"power law\" feature values (ie, it looks like $f(x) = \\frac{1}{x}$ on a plot). The result is data better suited to linear arithmetic. Cannot be used with input value of 0 unless this case is explicitly handled in the implementation.\n",
    "\n",
    "$$\n",
    "\\vec{x}' = \\log_b(\\vec{x})\n",
    "$$"
   ]
  },
  {
   "cell_type": "code",
   "execution_count": 9,
   "id": "252a2daf-0a34-42e7-9701-d458e2d87afc",
   "metadata": {},
   "outputs": [
    {
     "ename": "NameError",
     "evalue": "name 'log_norm' is not defined",
     "output_type": "error",
     "traceback": [
      "\u001b[0;31m---------------------------------------------------------------------------\u001b[0m",
      "\u001b[0;31mNameError\u001b[0m                                 Traceback (most recent call last)",
      "Cell \u001b[0;32mIn[9], line 18\u001b[0m\n\u001b[1;32m     16\u001b[0m ax[\u001b[38;5;241m1\u001b[39m]\u001b[38;5;241m.\u001b[39mset_xlabel(\u001b[38;5;124m\"\u001b[39m\u001b[38;5;124m$x_1$\u001b[39m\u001b[38;5;124m\"\u001b[39m)\n\u001b[1;32m     17\u001b[0m ax[\u001b[38;5;241m1\u001b[39m]\u001b[38;5;241m.\u001b[39mset_title(\u001b[38;5;124m\"\u001b[39m\u001b[38;5;124mLogarithmic norm\u001b[39m\u001b[38;5;124m\"\u001b[39m)\n\u001b[0;32m---> 18\u001b[0m ax[\u001b[38;5;241m1\u001b[39m]\u001b[38;5;241m.\u001b[39mplot(\u001b[43mlog_norm\u001b[49m(x_1), logarithmic_norm(x_2), linestyle\u001b[38;5;241m=\u001b[39m\u001b[38;5;124m\"\u001b[39m\u001b[38;5;124m\"\u001b[39m,marker\u001b[38;5;241m=\u001b[39m\u001b[38;5;124m\"\u001b[39m\u001b[38;5;124mo\u001b[39m\u001b[38;5;124m\"\u001b[39m)\n",
      "\u001b[0;31mNameError\u001b[0m: name 'log_norm' is not defined"
     ]
    },
    {
     "data": {
      "image/png": "[encoded data removed]",
      "text/plain": [
       "<Figure size 1200x400 with 2 Axes>"
      ]
     },
     "metadata": {},
     "output_type": "display_data"
    }
   ],
   "source": [
    "def logarithmic_norm(xvec, base=10):\n",
    "    return np.emath.logn(base, xvec)\n",
    "\n",
    "x_1 = np.random.randint(1, 1000, (20,))\n",
    "x_2 = np.random.randint(1, 10, (20,))\n",
    "\n",
    "# Make 3 subplots, one per option, then graph each function\n",
    "fig, ax = plt.subplots(nrows=1, ncols=2)\n",
    "fig.set_size_inches(12, 4)\n",
    "ax[0].set_ylabel(\"$x_2$\")\n",
    "ax[0].set_xlabel(\"$x_1$\")\n",
    "ax[0].set_title(\"No norm\")\n",
    "ax[0].plot(x_1, x_2, linestyle=\"\",marker=\"o\")\n",
    "\n",
    "ax[1].set_ylabel(\"$x_2$\")\n",
    "ax[1].set_xlabel(\"$x_1$\")\n",
    "ax[1].set_title(\"Logarithmic norm\")\n",
    "ax[1].plot(log_norm(x_1), logarithmic_norm(x_2), linestyle=\"\",marker=\"o\")"
   ]
  },
  {
   "cell_type": "markdown",
   "id": "172efe8f-fd03-4543-85d5-ac11b62ed723",
   "metadata": {},
   "source": [
    "#### Batch\n",
    "Just as with $X$, layered outputs within a neural network can be normalized. It is possible to apply this normalization to the linear output $Z^{[l]}$ or the activation output $A^{[l]}$, although it is more commonly applied to $Z^{[l]}$. You could replace all instances of $Z^{[l]}$ with $A^{[l]}$ in these equations to batch normalize the results after activation.\n",
    "\n",
    "For every feature $_j$ of $Z^{[l]}$ (which corresponds to a unit in that layer), compute the mean $\\mu$ and variance $\\sigma^2$.\n",
    "\n",
    "$$\n",
    "\\begin{align}\n",
    "\\mu & = \\frac{1}{m} \\cdot \\sum\\limits_{j=1}^m Z^{[l]}_j \\\\\n",
    "\\sigma^2 & = \\frac{1}{m} \\cdot \\sum\\limits_{j=1}^m (Z^{[l]}_j - \\mu)^2 \\\\\n",
    "\\end{align}\n",
    "$$\n",
    "\n",
    "Then, normalize $Z^{[l]}_j$ to yield $Z^{[l]norm}_j$ which has a mean of 0 in a variance of 1 for each feature. The presence of $\\varepsilon$ is for numeric stability and has an infinitesimal impact on the mean and variance just described. Two additional per-layer parameters, $\\gamma^{[l]}$ and $\\beta^{[l]}$, are introduced to further transform the result. To retain a mean of zero, in a variance of one, use $\\gamma^{[l]}=1$ and $\\beta^{[l]}=0$. To nullify the batch normalization process entirely, use $\\gamma^{[l]}=\\sqrt{\\sigma^2 + \\varepsilon}$ and $\\beta^{[l]}=\\mu$. Like the weights $W^{[l]}$ and biases $b^{[l]}$, $\\gamma^{[l]}$ and $\\beta^{[l]}$ are learnable. Finally, all of $\\tilde{Z}^{[l]}$ becomes an input to the activation function $g()$ and the process continues as usual.\n",
    "\n",
    "$$\n",
    "\\begin{align}\n",
    "Z^{[l]norm}_j & = \\frac{Z^{[l]}_j - \\mu}{\\sqrt{\\sigma^2 + \\varepsilon}} \\\\\n",
    "\\tilde{Z}^{[l]}_j & = (\\gamma^{[l]} \\cdot Z^{[l]norm}_j) + \\beta^{[l]} \\\\\n",
    "A^{[l+1]} & = g(\\tilde{Z}^{[l]})\n",
    "\\end{align}\n",
    "$$\n",
    "\n",
    "Note that bias $b^{[l]}$ becomes irrelevant with batch normalization because the mean $\\mu$ is set to 0. Instead, $\\beta^{[l]}$ serves as the per-unit offset. You can either set all biases to 0 or remove it from your algorithm entirely. Like the bias matrix $b^{[l]}$, both $\\gamma^{[l]}$ and $\\beta^{[l]}$ are applied unit-wise and thus have a shape of $(n_l, 1)$. Additionally, batch normalization has a slight regularizing effect when combined with mini-batch gradient descent. Due to the scaling by the mean $\\mu$ and variance $\\sigma^2$ of a mini-batch (which doesn't represent all of $X$), the precise activation values become noisier. The smaller the mini-batch size, the greater the regularization effect.\n",
    "\n",
    "To make predictions when mini-batches are use, we must estimate $\\mu$ and $\\sigma^2$ since the values computed for a single mini-batch cannot be used at test time. Instead, use an EWMA across the $\\mu$ and $\\sigma^2$ values for each mini-batch. These are non-learnable parameters of the algorithm."
   ]
  },
  {
   "cell_type": "markdown",
   "id": "ba8642c9-4584-4c5b-b317-595a624ee3d2",
   "metadata": {},
   "source": [
    "### Weight Initialization"
   ]
  },
  {
   "cell_type": "markdown",
   "id": "338d76bd-8742-4644-8e24-2a6430f4cb31",
   "metadata": {},
   "source": [
    "#### Overview\n",
    "Proper initialization of weights is necessary to prevent exploding and vanishing gradient problems in deep neural networks (those with many layers). Derivatives used during back propagation can become too large (exploding), which causes divergence, if the weights are initialized too large. They can also become too small (vanishing), which causes an inability to converge, if the weights are initialized too small. Initializing the weights with values slightly less than 1 and slightly greater than 1 mitigates the problem, although does not completely solve it.\n",
    "\n",
    "Additionally, weight initialization avoids the \"symmetry\" problem whereby by every units learns the same thing, reducing the entire neural network to a single unit. Such a model is only as powerful as linear or logistic regression in isolation. Note that you can also initialize biases the same way. It is common to initialize biases to zero as this will not inhibit a model's ability to learn.\n",
    "\n",
    "In the formulas that follow, $\\mathcal{N}$ refers to a normal (Gaussian) distribution of random values matching the proper matrix shape at a given layer."
   ]
  },
  {
   "cell_type": "markdown",
   "id": "d138fb4f-1458-4e07-879f-86ea88b12efd",
   "metadata": {},
   "source": [
    "#### Xavier\n",
    "This method works best on layers using the linear, sigmoid, tanh, or softmax activation functions. As $n_{l-1}$ increases (which represents a more populous previous layer), the resulting vector values creep closer to zero.\n",
    "\n",
    "$$\n",
    "W^{[l]}_{init} = \\mathcal{N} \\cdot \\sqrt{\\frac{1}{n_{l-1}}}\n",
    "$$"
   ]
  },
  {
   "cell_type": "code",
   "execution_count": null,
   "id": "42409bb6-524a-4b75-bbd5-2db7f086e0ae",
   "metadata": {},
   "outputs": [],
   "source": [
    "norm = np.random.randn(2, 5)\n",
    "print(f\"norm distro\\n{norm}\")\n",
    "for prev_n in np.array([10, 20, 50]):\n",
    "    print(f\"\\nn_l-1 = {prev_n}\\n{norm * np.sqrt(1/prev_n)}\")"
   ]
  },
  {
   "cell_type": "markdown",
   "id": "cd681cc0-5ee8-4f6a-bfa0-8dc383bac814",
   "metadata": {},
   "source": [
    "#### Normalized Xavier\n",
    "This method is similar to Xavier except it considers both the input and output unit counts (sometimes called \"fan in\" and \"fan out\") between layers. If these two terms are equal, it yields identical results as Xavier. As the $(n_{l-1} + n_l)$ denominator term increases, the resulting vector values creep closer to zero.\n",
    "\n",
    "$$\n",
    "W^{[l]}_{init} = \\mathcal{N} \\cdot \\sqrt{\\frac{2}{n_{l-1} + n_l}}\n",
    "$$"
   ]
  },
  {
   "cell_type": "code",
   "execution_count": null,
   "id": "1d3701dd-827b-484e-ac94-0fb7bd7640e6",
   "metadata": {},
   "outputs": [],
   "source": [
    "norm = np.random.randn(2, 5)\n",
    "cur_n = 20\n",
    "print(f\"norm distro\\n{norm}\")\n",
    "for prev_n in np.array([10, 20, 50]):\n",
    "    print(f\"\\nn_l-1 = {prev_n}, n_l = {cur_n}\\n{norm * np.sqrt(2/(prev_n + cur_n))}\")"
   ]
  },
  {
   "cell_type": "markdown",
   "id": "32b45e50-f7df-4a4d-b4b1-5dd2351532bd",
   "metadata": {},
   "source": [
    "#### He 何\n",
    "This method works best on layers using the ReLU activation function (and its variants). It is very similar to Xavier except uses 2 as the numerator instead of 1. This yields slightly smaller movements towards zero when compared to Xavier given the larger numerator.\n",
    "\n",
    "$$\n",
    "W^{[l]}_{init} = \\mathcal{N} \\cdot \\sqrt{\\frac{2}{n_{l-1}}}\n",
    "$$"
   ]
  },
  {
   "cell_type": "code",
   "execution_count": null,
   "id": "09d1c979-61d2-463c-a8ab-0026f10637d6",
   "metadata": {},
   "outputs": [],
   "source": [
    "norm = np.random.randn(2, 5)\n",
    "print(f\"norm distro\\n{norm}\")\n",
    "for prev_n in np.array([10, 20, 50]):\n",
    "    print(f\"\\nn_l-1 = {prev_n}\\n{norm * np.sqrt(2/prev_n)}\")"
   ]
  },
  {
   "cell_type": "markdown",
   "id": "54be2594-8627-4637-872b-b7229afed02b",
   "metadata": {},
   "source": [
    "### Activation Functions"
   ]
  },
  {
   "cell_type": "markdown",
   "id": "6c27da69-c53a-4bfe-9955-55ab0703cbed",
   "metadata": {
    "jp-MarkdownHeadingCollapsed": true
   },
   "source": [
    "#### Overview\n",
    "This section describes activation functions applied to the linear outputs $Z$ to yield $A$, plus their derivatives. Note that the following generic, non-annotated, non-vectorized formula is true for all activations. The superscripts and subscripts may vary as the context changes. This equation is not repeated for individual activation summaries below.\n",
    "\n",
    "$$\n",
    "z = w \\cdot x + b\n",
    "$$"
   ]
  },
  {
   "cell_type": "markdown",
   "id": "0412ad7c-23c8-458c-8581-105d6a11f142",
   "metadata": {},
   "source": [
    "#### Linear/None\n",
    "Returns the input $z$ unchanged. Not useful in a hidden layer, but could be used at the final layer for linear regression.\n",
    "\n",
    "$$\n",
    "\\begin{align}\n",
    "g(z) & = z \\\\\n",
    "\\frac{\\partial g(z)}{\\partial z} & = 1\n",
    "\\end{align}\n",
    "$$"
   ]
  },
  {
   "cell_type": "code",
   "execution_count": null,
   "id": "57416262-7fbe-4b74-b4b5-21c355781a29",
   "metadata": {},
   "outputs": [],
   "source": [
    "def g_linear(z):\n",
    "    return z\n",
    "\n",
    "def dg_linear(z):\n",
    "    return np.ones(z.shape)\n",
    "\n",
    "z_in = np.linspace(-5, 5, 100)\n",
    "plt.plot(z_in, g_linear(z_in), color=\"b\", label=\"g(z)\")\n",
    "plt.plot(z_in, dg_linear(z_in), color=\"r\", label=\"dg(z)\")\n",
    "plt.xlabel(\"z\"); plt.legend()"
   ]
  },
  {
   "cell_type": "markdown",
   "id": "443d26e2-0fe6-4a7e-bfe2-d3b42b79f1c5",
   "metadata": {},
   "source": [
    "#### Sigmoid\n",
    "Returns values between 0 and 1 with most values being close to those two asymptotes. This value corresponds to the probability that $y = 1$. Typically used in the final layer for logistic regression (binary classification).\n",
    "\n",
    "$$\n",
    "\\begin{align}\n",
    "g(z) & = \\frac{1}{1+e^{-z}} \\\\\n",
    "\\frac{\\partial g(z)}{\\partial z} & = g(z) \\cdot (1 - g(z))\n",
    "\\end{align}\n",
    "$$"
   ]
  },
  {
   "cell_type": "code",
   "execution_count": null,
   "id": "8b9834a3-feee-4e4e-a20e-d7d23839159d",
   "metadata": {},
   "outputs": [],
   "source": [
    "def g_sigmoid(z):\n",
    "    return 1 / (1 + np.exp(-z))\n",
    "\n",
    "def dg_sigmoid(z):\n",
    "    gz = g_sigmoid(z)\n",
    "    return np.multiply(gz, 1 - gz)\n",
    "\n",
    "z_in = np.linspace(-5, 5, 100)\n",
    "plt.plot(z_in, g_sigmoid(z_in), color=\"b\", label=\"g(z)\")\n",
    "plt.plot(z_in, dg_sigmoid(z_in), color=\"r\", label=\"dg(z)\")\n",
    "plt.xlabel(\"z\"); plt.legend()"
   ]
  },
  {
   "cell_type": "markdown",
   "id": "53cdd20d-de7a-47d3-8d89-9c2f7829a094",
   "metadata": {},
   "source": [
    "#### Rectified Linear Unit (ReLU)\n",
    "Like the linear activation, returns the input $z$ unchanged when $z$ is positive. When $z$ is negative, returns 0. The function is technically undefined when $z = 0$, but most implementations will return 0 for simplicity.\n",
    "\n",
    "$$\n",
    "\\begin{align}\n",
    "g(z) = &\n",
    "\\begin{cases}\n",
    "z \\lt 0: & 0 \\\\\n",
    "z \\ge 0: & z\n",
    "\\end{cases} \\\\\n",
    "\\frac{\\partial g(z)}{\\partial z} = &\n",
    "\\begin{cases}\n",
    "z \\lt 0: & 0 \\\\\n",
    "z \\ge 0: & 1\n",
    "\\end{cases}\n",
    "\\end{align}\n",
    "$$"
   ]
  },
  {
   "cell_type": "code",
   "execution_count": null,
   "id": "9e9c8bdb-2857-4f67-bbd5-c8e40f0ed476",
   "metadata": {},
   "outputs": [],
   "source": [
    "def g_relu(z):\n",
    "    return z * (z > 0)\n",
    "\n",
    "def dg_relu(z):\n",
    "    return 1.0 * (z > 0)\n",
    "\n",
    "z_in = np.linspace(-5, 5, 100)\n",
    "plt.plot(z_in, g_relu(z_in), color=\"b\", label=\"g(z)\")\n",
    "plt.plot(z_in, dg_relu(z_in), color=\"r\", label=\"dg(z)\")\n",
    "plt.xlabel(\"z\"); plt.legend()"
   ]
  },
  {
   "cell_type": "markdown",
   "id": "82932718-bc85-4ac8-808d-deac82d26f03",
   "metadata": {},
   "source": [
    "#### Leaky ReLU\n",
    "Like the ReLU activation, except when $z$ is negative, returns a small positive number. This allows $z$ values to be preserved but heavily discounted.\n",
    "\n",
    "$$\n",
    "\\begin{align}\n",
    "g(z) = &\n",
    "\\begin{cases}\n",
    "z \\lt 0: & 0.01z \\\\\n",
    "z \\ge 0: & z\n",
    "\\end{cases} \\\\\n",
    "\\frac{\\partial g(z)}{\\partial z} = &\n",
    "\\begin{cases}\n",
    "z \\lt 0: & 0.01 \\\\\n",
    "z \\ge 0: & 1\n",
    "\\end{cases}\n",
    "\\end{align}\n",
    "$$"
   ]
  },
  {
   "cell_type": "code",
   "execution_count": null,
   "id": "15d80014-630e-45aa-bd1d-222b30093821",
   "metadata": {},
   "outputs": [],
   "source": [
    "# Note: Large neg_slope used for visual aid only\n",
    "\n",
    "def g_leakyrelu(z, neg_slope=0.2):\n",
    "    return np.where(z > 0, z, neg_slope * z)\n",
    "\n",
    "def dg_leakyrelu(z, neg_slope=0.2):\n",
    "    return np.where(z > 0, 1, neg_slope)\n",
    "\n",
    "z_in = np.linspace(-5, 5, 100)\n",
    "plt.plot(z_in, g_leakyrelu(z_in), color=\"b\", label=\"g(z)\")\n",
    "plt.plot(z_in, dg_leakyrelu(z_in), color=\"r\", label=\"dg(z)\")\n",
    "plt.xlabel(\"z\"); plt.legend()"
   ]
  },
  {
   "cell_type": "markdown",
   "id": "40b37374-dded-49a4-8549-e28f3c87b0eb",
   "metadata": {},
   "source": [
    "#### Hyperbolic tangent (tanh)\n",
    "Similar in shape to the sigmoid function, it returns values between -1 and 1. The theoretical mean of the activation results is closer to 0, compared to 0.5 with sigmoid.\n",
    "$$\n",
    "\\begin{align}\n",
    "g(z) & = \\frac{e^z - e^{-z}}{{e^z} + e^{-z}} \\\\\n",
    "\\frac{\\partial g(z)}{\\partial z} & = 1 - g(z)^{2}\n",
    "\\end{align}\n",
    "$$"
   ]
  },
  {
   "cell_type": "code",
   "execution_count": 3,
   "id": "c2ad45e1-3f42-4be3-a1fc-eb8407b6e711",
   "metadata": {},
   "outputs": [
    {
     "data": {
      "text/plain": [
       "<matplotlib.legend.Legend at 0x12e391510>"
      ]
     },
     "execution_count": 3,
     "metadata": {},
     "output_type": "execute_result"
    },
    {
     "data": {
      "image/png": "[encoded data removed]",
      "text/plain": [
       "<Figure size 640x480 with 1 Axes>"
      ]
     },
     "metadata": {},
     "output_type": "display_data"
    }
   ],
   "source": [
    "def g_tanh(z):\n",
    "    epz = np.exp(z)\n",
    "    enz = np.exp(-z)\n",
    "    return (epz - enz)/(epz + enz)\n",
    "\n",
    "def dg_tanh(z):\n",
    "    return 1 - np.square(g_tanh(z))\n",
    "\n",
    "z_in = np.linspace(-4, 4, 10000)\n",
    "plt.plot(z_in, g_tanh(z_in), color=\"b\", label=\"g(z)\")\n",
    "plt.plot(z_in, dg_tanh(z_in), color=\"r\", label=\"dg(z)\")\n",
    "plt.xlabel(\"z\"); plt.legend()"
   ]
  },
  {
   "cell_type": "markdown",
   "id": "55d3aa55-d036-4919-9e0e-0c5e6ce9d088",
   "metadata": {},
   "source": [
    "#### Softmax\n",
    "Across $k$ units (classes) in a layer, returns values between 0 and 1 corresponding to the probability of a match for each class. The sum of all activation values is one. Typically used in the final layer for softmax regression (multiple class classification). Cannot be easily visualized as it typically has many dimensions.\n",
    "\n",
    "$$\n",
    "\\begin{align}\n",
    "g(z_{j}) & = \\frac{e^{z_{j}}}{\\sum^{n}_{k=1}{e^{z_{k}}}} = P(y = j|\\vec{x}) \\\\\n",
    "\\frac{\\partial g(z_{j})}{\\partial z_{j}} & = g(z_{j}) \\cdot (1 - g(z_{j})) \\\\\n",
    "\\frac{\\partial g(z_{j})}{\\partial z_{k}} & = -g(z_{j}) \\cdot g(z_{k})\n",
    "\\end{align}\n",
    "$$"
   ]
  },
  {
   "cell_type": "markdown",
   "id": "9deea487-2d11-4f5c-872c-d6df20e846d6",
   "metadata": {},
   "source": [
    "### Model Evaluation"
   ]
  },
  {
   "cell_type": "markdown",
   "id": "6236e57a-5eff-4bc2-9ca9-4db78e99a7fa",
   "metadata": {},
   "source": [
    "#### Overview\n",
    "This section describes the criteria for identifying underfitting and overfitting models. Definitions:\n",
    "  1. $J_{bayes}$: theoretically lowest possible cost (Bayes error)\n",
    "  2. $J_{human}$: human baseline performance\n",
    "  3. $J_{train}$: total cost of training set $X_{train}$\n",
    "  4. $J_{cv}$: total cost of cross validation (aka development or dev) set $X_{cv}$\n",
    "\n",
    "Examples of $X$ should be shuffled between these three sets, especially if they come from different distributions. This may include different sources (real vs. synthetic, official database vs. social media, etc), different geographical regions, or any other differentiating factor. This is especially important with respect to the cross validation and test sets.\n",
    "\n",
    "Selection of a model is based on two types of metrics:\n",
    "  1. __Optimizing__: the single metric that should be improved to the greatest degree. For example, maximizing accuracy or minimizing false positives.\n",
    "  2. __Satisficing__: the remaining metrics that must be satisfied, but not necessarily optimized. For example, ensuring that predictions take less than 10 seconds or ensuring that the model fits into 200 megabytes of memory space.\n",
    "\n",
    "Given these metrics, use the __evaluation criteria__ to intelligently combine them. First, find all models that meet the satisficing metrics. Of those models, select the one with the best optimizing metric. Suppose that accuracy is the optimizing metric while prediction time and memory consumption are satisficing metrics. Following this process, model D is superior in the example table below.\n",
    "\n",
    "|                | Accuracy % | Pred time (s) | Mem con (MB) | Analysis           |\n",
    "| -------------- | ---------- | ------------- | ------------ | ------------------ |\n",
    "| Eval criteria  | $\\ge$ 95   | $\\le$ 10      | $\\le$ 200    |                    |\n",
    "| Model A        | 100        | 5             | 1500         | mem con too high   |\n",
    "| Model B        | 99         | 30            | 75           | pred time too high |\n",
    "| Model C        | 93         | 5             | 150          | accuracy too low   |\n",
    "| Model D        | 97         | 9             | 190          | best option        |\n",
    "\n",
    "To most rapidly improve accuracy, identify the biggest contributor to the error. For example, if 30% of incorrect predictions are due to blurry images, but only 10% are due to upside down images, you should focus on tuning the model to tolerate blurry images first. This isn't rigorously proven, but it provides a general direction for taking the first remedial steps. Make small changes in the chosen direction (e.g. improving burry image performance), see if it helps, then continue to iterate.\n",
    "\n",
    "Use the plots below to help visualize the concepts discussed in the following texts."
   ]
  },
  {
   "cell_type": "code",
   "execution_count": null,
   "id": "475b9cd0-2d5d-4138-beba-e53c016a0b16",
   "metadata": {},
   "outputs": [],
   "source": [
    "# Note: imprecise numbers and curves; conceptual only\n",
    "error_in = np.linspace(0.1, 10.1, 100)\n",
    "desc = []\n",
    "\n",
    "fig, ax = plt.subplots(nrows=1, ncols=2, sharey=True)\n",
    "fig.set_size_inches(12, 4)\n",
    "ax[0].set_ylabel(\"error - $J$\")\n",
    "\n",
    "ax[0].plot(error_in, np.ones(error_in.shape), color=\"b\", label=\"$J_{human}$\")\n",
    "ax[0].axvline(x=5, color=\"gray\", linestyle=\"--\"); ax[0].text(5.1,2,\"good fit\")\n",
    "ax[0].axvline(x=9.5, color=\"gray\", linestyle=\"--\"); ax[0].text(8.2,1.1,\"overfit\")\n",
    "ax[0].axvline(x=0.5, color=\"gray\", linestyle=\"--\"); ax[0].text(0.6,1.1,\"underfit\")\n",
    "\n",
    "ax[1].plot(error_in, np.ones(error_in.shape), color=\"y\", label=\"$J_{bayes}$\")\n",
    "ax[1].plot(error_in, np.ones(error_in.shape) + 0.4, color=\"b\", label=\"$J_{human}$\")\n",
    "\n",
    "for axis in ax:\n",
    "    axis.plot(error_in, -np.log(error_in) * 0.3 + 2, color=\"r\", label=\"$J_{train}$\")\n",
    "    axis.plot(error_in, 0.05 * np.square(error_in) - error_in/2 + 3, color=\"g\", label=\"$J_{cv}$\")\n",
    "    axis.set_xlabel(\"degree of polynomial/model complexity\")\n",
    "    axis.set_xticks([]); axis.set_yticks([]); axis.legend()"
   ]
  },
  {
   "cell_type": "markdown",
   "id": "bef440f6-0861-4df1-a64f-a66508896817",
   "metadata": {},
   "source": [
    "#### Test for \"good\" fit\n",
    "If the errors of the training and cross validation sets are close to the human baseline, the model is a good fit. Both the bias and variance are low.\n",
    "\n",
    "$$\n",
    "J_{human} \\approx J_{train} \\approx J_{cv}\n",
    "$$\n",
    "\n",
    "Note that the human baseline error may still be significantly better than the training and cross validation errors. This is acceptable if the training and cross validation errors are tolerably low and do not suggest an underfit.\n",
    "\n",
    "$$\n",
    "J_{human} \\lesssim J_{train} \\lesssim J_{cv}\n",
    "$$\n",
    "\n",
    "It is sometimes possible to surpass human performance. The theoretical minimum cost is the Bayes error rate (also called Bayes optimal error) which can never be surpassed. However, once the model's performance reaches this point, progress becomes much slower. Determining what to change is difficult because there is no obvious baseline against which to compare.\n",
    "\n",
    "$$\n",
    "J_{human} \\gtrsim J_{train} \\gtrsim J_{cv}\n",
    "$$\n",
    "\n",
    "#### Test for underfit\n",
    "If the error of the training set is far higher than human baseline, and the error of the cross validation set is equally high, the model has underfitted to the training set. The model consistently makes poor predictions on any kind of input. Consider adding features, creating polynomial features to match more complex curves, or removing/decreasing regularization. It is not recommended to remove training examples at random. Also known as \"high bias\".\n",
    "\n",
    "$$\n",
    "\\begin{align}\n",
    "J_{human} & \\ll J_{train} \\\\\n",
    "J_{train} & \\approx J_{cv}\n",
    "\\end{align}\n",
    "$$\n",
    "\n",
    "Note that $J_{train} - J_{human}$ is called \"avoidable\" bias because it is theoretically possible to eliminate via training.\n",
    "\n",
    "#### Test for overfit\n",
    "If the error of the training set is close to the human baseline, but the error of the cross validation set is far higher than both, the model has overfitted to the training set. It will likely generalize poorly to unseen inputs and make inaccurate predictions. Consider adding training examples, removing features, or applying/increasing regularization. Also known as \"high variance\".\n",
    "\n",
    "$$\n",
    "\\begin{align}\n",
    "J_{human} & \\approx J_{train} \\\\\n",
    "J_{train} & \\ll J_{cv}\n",
    "\\end{align}\n",
    "$$\n",
    "\n",
    "You can approximate the variance by computing $J_{cv} - J_{train}$ which can theoretically be reduced, similar to avoidable bias.\n",
    "\n",
    "#### Test for \"worst\" fit\n",
    "If the error of the training set is far higher than human baseline, and the error of the cross validation set is far higher the training error, the model exhibits high bias and high variance simultaneously. This is a rare case that appears impossible to depict in two dimensions. Compute the avoidable bias and variance using the subtraction formulas above and first solve whichever is larger.\n",
    "\n",
    "$$\n",
    "J_{human} \\ll J_{train} \\ll J_{cv}\n",
    "$$"
   ]
  },
  {
   "cell_type": "markdown",
   "id": "4f6e2c7c-f7f0-4cbf-8474-c51ef18872a0",
   "metadata": {},
   "source": [
    "#### Skewed Data Sets\n",
    "Maximizing accuracy (minimizing error) is a good measure of success for regression models and classification models with uniform/diverse data sets. However, it is a poor choice for assessing classification models with skewed data sets. A model can be highly accurate by simply predicting $\\hat{y}=1$ every single time if the data sete contains very few $y=0$ labels, or vice versa.\n",
    "\n",
    "A \"confusion matrix\" has shape $(k, k)$ whereby the $k$ is the number of classes. Assuming binary classification, the shape is $(2, 2)$. The rows and columns represent all possible values and the intersecting cells enumerate the permutations. Assign the results of each training example into one of these four categories. From this, compute accuracy $A$, precision $P$, and recall $R$.\n",
    "\n",
    "|             | $y=1$          | $y=0$          |\n",
    "| ----------- |----------------| -------------- |\n",
    "| $\\hat{y}=1$ | true positive  | false positive |\n",
    "| $\\hat{y}=0$ | false negative | true negative  |\n",
    "\n",
    "As an example, suppose this model predicts whether a patient has a rare and deadly disease.\n",
    "\n",
    "Accuracy $A$: for each training example, how often was the model correct $y=\\hat{y}$? Total the number of \"true\" values then divide by the total.\n",
    "\n",
    "$$\n",
    "A = \\frac{true\\_pos + true\\_neg}{true\\_pos + true\\_neg + false\\_pos + false\\_neg}\n",
    "$$\n",
    "\n",
    "Precision $P$: for each prediction of true $(\\hat{y}=1)$, how often did the model correctly diagnose the disease $(y=1)$? A high precision indicates that the model rarely misdiagnoses a healthy person; the number of false positives will be small.\n",
    "\n",
    "$$\n",
    "P = \\frac{true\\_pos}{true\\_pos + false\\_pos}\n",
    "$$\n",
    "\n",
    "Recall $R$ : for each patient with the disease $(y=1)$, how often did the model correct predict the disease's presence $(\\hat{y}=1)$? A high recall indicates that the model rarely forgets to include a sick person; the number of false negatives will be small.\n",
    "\n",
    "$$\n",
    "R = \\frac{true\\_pos}{true\\_pos + false\\_neg}\n",
    "$$\n",
    "\n",
    "Much like bias and variance, precision and recall must be traded off. In some cases, one metric is more important than the other. As it relates to a rare disease, recall is more important. This ensures the model does not fail to identify a sick patient (fewer false negatives), although this will likely lead to more healthy patients being misdiagnosed (more false positives). In the context of logistic regression, you would select a threshold less than 0.5, leading to a larger share of positive predictions $(\\hat{y}=1)$. A bank lending money to a borrower may prefer high precision. It is less important for the bank lend to all borrowers of interest, but more important that the selected borrowers are capable of repayment. The logistic regression threshold would be increased above 0.5 here.\n",
    "\n",
    "Another way to think about this is in the context of business/personal costs. Maximizing precision is important when the cost of action is high (lending money to a stranger), but the cost of inaction is low (plenty of other candidates exist). Maximizing recall is important when the cost of action is low (treatment for the disease), but the cost of inaction is high (diminished health or death).\n",
    "\n",
    "#### F-score\n",
    "This algorithm helps with the analysis and selection of models. The hyperparameter $\\beta \\in \\mathbb{R}\\,|\\,\\beta > 0$ controls the relative importance of precision and recall.\n",
    "\n",
    "$$\n",
    "F_\\beta = (1 + \\beta^2) \\cdot \\frac{P \\cdot R}{(\\beta^2 \\cdot P) + R}\n",
    "$$\n",
    "\n",
    "Although $\\beta$ can vary widely, three F-scores are most commonly used:\n",
    "  1. $F_1$-score: evenly balance the impact of precision and recall. Good for general-purpose use when there isn't an obvious preference. It provides greater weight to whichever value is lower, believing that a balanced model is better than a lobsided one.\n",
    "\n",
    "$$\n",
    "F_1 = 2 \\cdot \\frac{P \\cdot R}{P + R}\n",
    "$$\n",
    "\n",
    "  2. $F_2$-score: gives greater weight to recall over precision. Good for the rare disease example.\n",
    "\n",
    "$$\n",
    "F_2 = 5 \\cdot \\frac{P \\cdot R}{(4 \\cdot P) + R}\n",
    "$$\n",
    "\n",
    "  3. $F_{0.5}$-score: gives greater weight to precision over recall. Good for the bank lending example.\n",
    "\n",
    "$$\n",
    "F_{0.5} = 1.25 \\cdot \\frac{P \\cdot R}{(0.25 \\cdot P) + R}\n",
    "$$\n",
    "\n",
    "Consider four scenarios arrayed side by side, each representing a model trained with 100 examples.\n",
    "\n",
    "  1. This model performs well in both categories with a slightly higher recall than precision because there are more false positives than false negatives.\n",
    "  2. This model has good precision but poor recall given the small number of false positives and large number of false negatives.\n",
    "  3. This model has poor precision but good recall given the large number of false positives and small number of false negatives.\n",
    "  4. This model performs poorly by all measures with many false positives false negatives.\n",
    "\n",
    "| Scenario 1  | $y=1$        | $y=0$         | Scen 2  | $y=1$ | $y=0$  | Scen 3  | $y=1$ | $y=0$  | Scen 4  | $y=1$ | $y=0$  |\n",
    "| ----------- |--------------| ------------- | ------- |-------| ------ | ------- |-------| ------ | ------- |-------| ------ |\n",
    "| $\\hat{y}=1$ | true pos: 50 | false pos: 10 |         | 30    | 5      |         | 40    | 20     |         | 35    | 20     |\n",
    "| $\\hat{y}=0$ | false neg: 5 | true neg: 35  |         | 25    | 40     |         | 5     | 35     |         | 25    | 15     |"
   ]
  },
  {
   "cell_type": "code",
   "execution_count": null,
   "id": "5702a2ff-d020-4189-8be0-b4795b759b3c",
   "metadata": {},
   "outputs": [],
   "source": [
    "scenario = np.array([[50, 10, 5, 35], [30, 5, 25, 40], [40, 20, 5, 35], [35, 20, 25, 15]])\n",
    "desc = [\"good overall\", \"high false neg\", \"high false pos\", \"high fp & fn\"]\n",
    "beta = np.array([0.25, 0.5, 1.0, 2.0, 3.0])\n",
    "\n",
    "def accuracy(tp, fp, fn, tn): return (tp + tn) / (tp + tn + fp + fn)\n",
    "def precision(tp, fp): return tp / (tp + fp)\n",
    "def recall(tp, fn): return tp / (tp + fn)\n",
    "def fbeta_score(P, R, B): return (1 + B**2) * ((P * R) / ((B**2 * P) + R))\n",
    "\n",
    "fig, ax = plt.subplots(nrows=1, ncols=len(scenario), sharey=True)\n",
    "fig.set_size_inches(12, 4)\n",
    "ax[0].set_ylabel(r\"$F_{\\beta}$ score\")\n",
    "\n",
    "for i in range(len(scenario)):\n",
    "    A = accuracy(*scenario[i])\n",
    "    P = precision(scenario[i, 0], scenario[i, 1])\n",
    "    R = recall(scenario[i, 0], scenario[i, 2])\n",
    "    fscore = np.array([fbeta_score(P, R, B) for B in beta])\n",
    "    ax[i].set_title(f\"Scenario {i+1}: {desc[i]}\")\n",
    "    ax[i].plot(beta, fscore, marker=\"o\")\n",
    "    ax[i].axhline(y=A, color=\"orange\", linestyle=\"--\", label=\"accuracy\")\n",
    "    ax[i].axhline(y=P, color=\"green\", linestyle=\"--\", label=\"precision\")\n",
    "    ax[i].axhline(y=R, color=\"red\", linestyle=\"--\", label=\"recall\")\n",
    "    ax[i].set_xlabel(r\"$\\beta$\");\n",
    "\n",
    "ax[0].legend()"
   ]
  },
  {
   "cell_type": "markdown",
   "id": "ac4a0251-d9be-43fa-8234-2b9a18cc95b2",
   "metadata": {},
   "source": [
    "### Model Recycling"
   ]
  },
  {
   "cell_type": "markdown",
   "id": "664b049a-b987-41c6-abea-06ff5dfbef24",
   "metadata": {},
   "source": [
    "#### Overview\n",
    "This section describes solving multiple problems using some of all of an existing model, ultimately reducing the total training effort."
   ]
  },
  {
   "cell_type": "markdown",
   "id": "4cd4cb19-a3cb-4841-9f40-b2ba65b2cecd",
   "metadata": {},
   "source": [
    "#### Transfer Learning\n",
    "This technique involves first training a model for a generic purpose, such as image recognition, speech transcription, or text generation. Later, perhaps someone introduces a more specific use case for each of these categories, such radiology (image), translation to a specific language (speech), or composing Python code (text). One can \"transfer\" all of the existing layers, excluding the output layer, to a new model. Technically, it transfers the trained parameters, which required time and computing power to learn. In this way, the new model leverages all of the effort already invested. This process is called __pre-training__ and the addition of one or more layers to the end of the model is called __fine-tuning__.\n",
    "\n",
    "Note that the pre-trained model may be effective in its own right, but a finely-tuned model is specialized for a single use case. Such a model can be trained with a relatively small data set. For example, there are many images on the Internet. The total number of radiological images is far fewer, allowing the radiology use case to consume the generic image recognition techniques within the pre-trained layers of the model. In addition to reducing the training time and the burden of collecting training data, transfer learning also enables entirely new use cases that would otherwise be difficult or impossible to implement.\n",
    "\n",
    "The last layers of a neural network are considered at the \"top\" in some frameworks, which are typically retrained, if not entirely replaced or augmented. In general, the less training data available for fine-tuning, the more topmost layers should be retrained. If you have a sizable amount of data for fine-tuning, you may want to retrain a handful of the topmost layers (say, the topmost 5 layers). The pre-trained parameters can serve as good initial values for those final layers. This retraining technique is effective because it enables the high-level features to be retrained (such as facial expressions) while retaining the low-level (such as lines, corners, and curves) seen earlier in the model's architecture. Note that transfer learning is still useful even if you have an enormous training set. You can start from a known-good model, using the trained parameters as initial values, then retraining everything.\n",
    "\n",
    "As an implementation detail, layers that are untrainable effectively turn into a static function that gives a consistent results for any given input. After all, their weights, biases, activations, and hyperparameters never change. Sometimes it can be effective to process all of training examples through the untrainable layers of the model and write those activations at the disk. Suppose that the model has 22 layers with the first 20 being untrainable. The activations of layer 20 $(A^{[20]})$ are stored on disk and serve as inputs to layer 21, the first trainable layer. This can further reduce the computing power required.\n",
    "\n",
    "Also note that the prediction matrix shape $\\hat{Y}$ of the model may also change. For example, consider a generic model with a single sigmoid-activated unit in the output layer (mimicking logistic regression) that determines whether a patient has any kind of cancer $y=1$ or not $y=0$ given a tumor image. This model could be finely-tuned into a softmax regression layer that offers probabilities on the 5 different stages of lung cancer given a tumor image."
   ]
  },
  {
   "cell_type": "markdown",
   "id": "844af9f0-0362-4f3d-9575-d481945cb1da",
   "metadata": {},
   "source": [
    "#### Multi-task Learning\n",
    "In contrast to single task learning, multi-task learning creates a single model to solve multiple problems at the same time. For example, if you are developing an image recognition model to determine if the image contains cars, people, and buildings, the shape of the prediction matrix $\\hat{Y}$ would be $(3,m)$ where $m$ the number of training examples. Each row of this matrix represents the yes $y=1$ or no $y=0$ answer to the 3 aforementioned questions, effectively combining 3 otherwise separate binary classification problems. Note that this is unlike softmax regression as these 3 results are not dependent upon one another.\n",
    "\n",
    "It is also possible to create 3 separate single-task models, each yielding a prediction matrix $\\hat{Y}$ of shape $(1,m)$ to classify the 3 attributes independently. This is a reasonable solution and has the benefit of decoupling the problem set. However, the models would need to be independently trained, despite having nearly identical images as inputs, which requires more time and/or computing power."
   ]
  },
  {
   "cell_type": "markdown",
   "id": "06f95752-064c-438f-a2d1-e06ed8c6d867",
   "metadata": {},
   "source": [
    "### Regularization"
   ]
  },
  {
   "cell_type": "markdown",
   "id": "a363b85e-805a-4a71-8de5-4f6c26315523",
   "metadata": {},
   "source": [
    "#### Overview\n",
    "This section contains techniques to regularize (desensitize) an overfitted model. Regularization reduces the impact of the weights applied to each feature, sometimes entirely eliminating features. Note that this only applies to training, not predictions.\n",
    "\n",
    "Use this conceptual plot to see how $\\lambda$ impacts the quality of a model's fit to various data sets."
   ]
  },
  {
   "cell_type": "code",
   "execution_count": null,
   "id": "4dc5c714-3fd4-41ac-977b-9f33af2f8c8c",
   "metadata": {},
   "outputs": [],
   "source": [
    "# Note: imprecise numbers and curves; conceptual only\n",
    "error_in = np.linspace(0.1, 10.1, 100)\n",
    "plt.plot(error_in, np.ones(error_in.shape), color=\"b\", label=\"$J_{human}$\")\n",
    "plt.plot(error_in, np.exp(error_in/5)/5 + 1, color=\"r\", label=\"$J_{train}$\")\n",
    "plt.plot(error_in, 0.05 * np.square(error_in) - error_in/2 + 3, color=\"g\", label=\"$J_{cv}$\")\n",
    "plt.axvline(x=5, color=\"gray\", linestyle=\"--\"); plt.text(5.1,2,\"good fit\")\n",
    "plt.axvline(9.5, color=\"gray\", linestyle=\"--\"); plt.text(8.2,1.1,\"underfit\")\n",
    "plt.axvline(0.5, color=\"gray\", linestyle=\"--\"); plt.text(0.6,1.1,\"overfit\")\n",
    "plt.xticks([]); plt.yticks([])\n",
    "plt.xlabel(\"regularization hyperparameter $\\lambda$\"); plt.ylabel(\"error\"); plt.legend()"
   ]
  },
  {
   "cell_type": "markdown",
   "id": "e4f6cfd4-ca93-4375-b278-765278f47b15",
   "metadata": {},
   "source": [
    "#### LASSO (L1 norm)\n",
    "Short for Least Absolute Shrinkage and Selection Operator. It sums the absolute values of the weights and can perform automatic feature selection by applying a weight of 0 to certain features. Use this method when there are many useless/nonpredictive features.\n",
    "\n",
    "General definition:\n",
    "\n",
    "$$\n",
    "\\|W\\|_1=\\lambda \\cdot {\\sum\\limits^{n}_{i=1}{|W_{n}|}}\n",
    "$$\n",
    "\n",
    "Adaptation to combine with a given cost function, and its derivative with respect to a specific weight $w_j$, as the \"regularization term\". Note that $|w_j|$ cannot be differentiated (and thus cannot be represented in closed-form) as the function is not continuous.\n",
    "\n",
    "$$\n",
    "\\begin{align}\n",
    "J_{\\vec{w},b}(\\vec{x}^{(i)}) & := J_{\\vec{w},b}(\\vec{x}^{(i)}) +\n",
    "\\biggl(\\frac{1}{m} \\cdot \\|\\vec{w}\\|_1\\biggr) \\\\\n",
    "J_{\\vec{w},b}(\\vec{x}^{(i)}) & := J_{\\vec{w},b}(\\vec{x}^{(i)}) +\n",
    "\\biggl(\\frac{\\lambda}{m} \\cdot {\\sum\\limits^{n}_{i=1}{|\\vec{w}_{n}|}}\\biggr) \\\\\n",
    "\\frac{\\partial}{\\partial w_j}J_{\\vec{w},b}(\\vec{x}^{(i)}) & := \\frac{\\partial}{\\partial w_j}J_{\\vec{w},b}(\\vec{x}^{(i)}) +\n",
    "\\frac{\\lambda}{m} \\cdot\n",
    "\\begin{cases}\n",
    "w_j \\neq 0: & \\frac{w_j}{|w_j|} \\\\\n",
    "w_j = 0: & \\text{undefined}\n",
    "\\end{cases}\n",
    "\\end{align}\n",
    "$$\n",
    "\n",
    "In both plots below, there is a steep change in shape when $w=0$ for both the cost function and derivative. This abrupt change becomes more prominent as $\\lambda$ increases. It drives the weights down to 0, eliminating their impact on the overall cost."
   ]
  },
  {
   "cell_type": "code",
   "execution_count": null,
   "id": "959f9f33-e19a-41fd-ba0b-65ccd1c37626",
   "metadata": {},
   "outputs": [],
   "source": [
    "lambdas = [0, 1, 3, 5]\n",
    "size = 101\n",
    "w = np.linspace(-2, 3, size)\n",
    "\n",
    "# let y=1, x=1, b=0 for simplicity, J(w) = mean squared error\n",
    "x = np.ones(size); y = np.ones(size); b = np.zeros(size)\n",
    "def J(w, b, x, y, lambd):\n",
    "    return ((w * x - y + b) ** 2) + (lambd * np.abs(w))\n",
    "\n",
    "def dJ_dw(w, b, x, y, lambd):\n",
    "    sign = np.sign(w)\n",
    "    sign[sign == 0.] = np.nan\n",
    "    return (w * x - y + b) * 2 + (lambd * sign)\n",
    "\n",
    "params = [\n",
    "    (J, \"L1 Regularization\", \"J(w)\"),\n",
    "    (dJ_dw, \"L1 Regularization Derivative\", \"$\\partial J(w)\\,/\\,\\partial w$\"),\n",
    "]\n",
    "\n",
    "fig, ax = plt.subplots(nrows=1, ncols=2)\n",
    "fig.set_size_inches(12, 4)\n",
    "for axis, param in zip(ax, params):\n",
    "    func, title, ylabel = param\n",
    "    for lambd in lambdas:\n",
    "        axis.plot(w, func(w, b, x, y, lambd), label=f\"$\\lambda$={lambd}\")\n",
    "    axis.set_title(title)\n",
    "    axis.set_ylabel(ylabel)\n",
    "    axis.set_xlabel(\"w\")\n",
    "    axis.legend()\n",
    "    \n",
    "ax[1].axhline(y=0, color=\"gray\", linestyle=\"--\")"
   ]
  },
  {
   "cell_type": "markdown",
   "id": "18275a4f-ed02-4224-8d0c-ef35d36e52e1",
   "metadata": {},
   "source": [
    "#### Ridge (L2 norm)\n",
    "It sums the squares of the weights. Use this method to reduce the impact of weights without eliminating them entirely. Ridge is more commonly used than LASSO for this reason. The L2 regularization term is so called when applied to vectors, but is the Frobenius norm when applied to matrices.\n",
    "\n",
    "General definition:\n",
    "\n",
    "$$\n",
    "\\|W\\|_2=\\lambda \\cdot {\\sum\\limits^{n}_{i=1}{(W_{n})^2}}\n",
    "$$\n",
    "\n",
    "Adaptation to combine with a given cost function, and its derivative with respect to a specific weight $w_j$, as the \"regularization term\":\n",
    "\n",
    "$$\n",
    "\\begin{align}\n",
    "J_{\\vec{w},b}(\\vec{x}^{(i)}) & := J_{\\vec{w},b}(\\vec{x}^{(i)}) +\n",
    "\\biggl(\\frac{1}{2m} \\cdot \\|\\vec{w}\\|_2\\biggr) \\\\\n",
    "J_{\\vec{w},b}(\\vec{x}^{(i)}) & := J_{\\vec{w},b}(\\vec{x}^{(i)}) +\n",
    "\\biggl(\\frac{\\lambda}{2m} \\cdot {\\sum\\limits^{n}_{i=1}{(\\vec{w}_{n})}^2}\\biggr) \\\\\n",
    "\\frac{\\partial}{\\partial w_j}J_{\\vec{w},b}(\\vec{x}^{(i)}) & := \\frac{\\partial}{\\partial w_j}J_{\\vec{w},b}(\\vec{x}^{(i)}) +\n",
    "\\frac{\\lambda}{m} \\cdot w_j\n",
    "\\end{align}\n",
    "$$\n",
    "\n",
    "In the plot below, notice that the parabolic distributions continue to move their minimums towards 0. This drives the weights down ever smaller, reducing their impact on the overall cost."
   ]
  },
  {
   "cell_type": "code",
   "execution_count": null,
   "id": "1c816dd1-c414-485b-9a09-4cab5502d32a",
   "metadata": {},
   "outputs": [],
   "source": [
    "lambdas = [0, 1, 3, 5]\n",
    "size = 101\n",
    "w = np.linspace(-2, 3, size)\n",
    "\n",
    "# let y=1, x=1, b=0 for simplicity, J(w) = mean squared error\n",
    "x = np.ones(size); y = np.ones(size); b = np.zeros(size)\n",
    "def J(w, b, x, y, lambd):\n",
    "    return ((w * x - y + b) ** 2) + ((lambd / 2) * w**2)\n",
    "\n",
    "def dJ_dw(w, b, x, y, lambd):\n",
    "    return (w * x - y + b) * x + (lambd * w)\n",
    "\n",
    "params = [\n",
    "    (J, \"L2 Regularization\", \"J(w)\"),\n",
    "    (dJ_dw, \"L2 Regularization Derivative\", \"$\\partial J(w)\\,/\\,\\partial w$\"),\n",
    "]\n",
    "\n",
    "fig, ax = plt.subplots(nrows=1, ncols=2)\n",
    "fig.set_size_inches(12, 4)\n",
    "for axis, param in zip(ax, params):\n",
    "    func, title, ylabel = param\n",
    "    for lambd in lambdas:\n",
    "        axis.plot(w, func(w, b, x, y, lambd), label=f\"$\\lambda$={lambd}\")\n",
    "    axis.set_title(title)\n",
    "    axis.set_ylabel(ylabel)\n",
    "    axis.set_xlabel(\"w\")\n",
    "    axis.legend()\n",
    "\n",
    "ax[1].axhline(y=0, color=\"gray\", linestyle=\"--\")"
   ]
  },
  {
   "cell_type": "markdown",
   "id": "3755a9a1-3458-4117-b676-acc4221e93ac",
   "metadata": {
    "jp-MarkdownHeadingCollapsed": true
   },
   "source": [
    "#### Dropout\n",
    "Randomly deactivate certain units in a neural network layer for a given iteration of gradient descent. This makes layers more sparse and the remaining units are trained normally. When applied, the model cannot rely heavily on a single feature as the weight values are spread out. Dropout is commonly used in computer vision as there is rarely enough data, making overfitting common.\n",
    "\n",
    "Most implementations define a `keep_prob` input, identifying the probability that any given unit remains in service. Other implementations define a `drop_prob` input, identifying the probability that any given unit is dropped from service. Focusing on the `keep_prob` logic, the range is $\\{p \\in \\mathbb{R}\\,|\\,0 \\lt p \\le 1\\}$. Setting `keep_prob = 1` disables dropout. It is specified on a per-layer basis, and it typically limited to hidden layers. Applying dropout to the input layer means discarding entire features. Applying dropout to the output layer means discarding categorical classes in a softmax regression, for example.\n",
    "\n",
    "It is also common to divide the resulting activation matrix $A$ by the `keep_prob` so that the activation values more closely resemble results from the \"full\" layer. This specific implementation is known as \"inverted dropout\".\n",
    "\n",
    "Because the neural network is different at each iteration of gradient descent, there is no well-defined cost function. Thus, the training and cost cannot be plotted to ensure it continuously decreases. To troubleshoot a model using dropout, set `keep_prob = 1` to temporarily disable dropout, ensure the cost function decreases at each iteration, then re-enable it.\n",
    "\n",
    "Note that some implementations reverse the logic by specifying a `dropout_prob` value in the range $\\{p \\in \\mathbb{R}\\,|\\,0 \\le p \\lt 1\\}$. This determines the probability that a unit is dropped rather than the probability that a unit is kept. The concept is otherwise identical."
   ]
  },
  {
   "cell_type": "markdown",
   "id": "8b2d2a6a-a94f-4c08-b456-363c36a5619a",
   "metadata": {},
   "source": [
    "#### Other Techniques\n",
    "Overfitting can sometimes be solved by supplying additional training examples. Sometimes, sufficient data simply does not exist. Instead, you can create additional examples that are realistic representations of real data. Using the computer vision example, you can flip a picture horizontally or vertically, or perform slight rotations, to create variants of an existing image. Other distortions, such as crops, stretches, and minor color shifts can also help. One particular use of color shifting is to simulate different lighting environments. For example, \"cooler\" light tends to be more blue while warmer light tends to be more yellow. Adjust the RGB values accordingly when creating new images to reflect (no pun intended) these different lighting styles.\n",
    "\n",
    "Not all of these techniques are universally valid. For example, if you are training a model to recognize human faces, you would not flip images vertically as it would yield upside down faces. Perhaps this is useful in some scenarios, but likely not most; context matters. Synthesizing training examples is not mutually exclusive with the aforementioned regularization methods. As an added bonus, data augmentation can also help with transfer learning (described elsewhere in this document).\n",
    "\n",
    "You can also stop the gradient descent process early, preferably when the difference between the cross-validation error and training error is minimized. This is depicted as \"good fit\" in the conceptual plot. First, train the model and plot both the training and cross-validation error curves. Then, find the required minimum and stop the process after the correct number of iterations. The drawback of this solution is that it is tightly couples the training and regularization processes. It limits future options because if you want to modify the training process, you may also inadvertently impact the regularization process. Many experts prefer to use a dedicated regularization method to separate these two efforts (ie, to keep them orthogonal)."
   ]
  },
  {
   "cell_type": "markdown",
   "id": "2a3d6414-5d36-4703-970a-0e6e258e9f07",
   "metadata": {},
   "source": [
    "### Forward Propagation"
   ]
  },
  {
   "cell_type": "markdown",
   "id": "1f428841-1fd1-4e4d-883d-2328e16f3030",
   "metadata": {},
   "source": [
    "#### Overview\n",
    "This section describes the prediction/inference process of a neural network."
   ]
  },
  {
   "cell_type": "markdown",
   "id": "c713ee5d-aebc-43b8-b917-c69c68888a2b",
   "metadata": {},
   "source": [
    "#### Computing Z\n",
    "Each unit performs two steps in series. First, the linear outputs are computed using the formula below. The dot product of matrices $W^{[l]}$ and $A^{[l-1]}$ yields a matrix of shape $(n_l,n_{l-1}) \\bullet (n_{l-1},m) = (n_l,m)$. In order for matrix multiplication to work, the number of columns in $W^{[l]}$ must match the number of rows in $A^{[l-1]}$, which is always equal to the number of units in the previous layer $n_{l-1}$. Adding the column vector $b^{[l]}$ retains the same shape, but applies the bias values on a per column basis. Superscript $[l]$ notations are omitted from the individual matrix elements for cleanliness.\n",
    "\n",
    "$$\n",
    "Z^{[l]} = W^{[l]} \\bullet A^{[l-1]} + b^{[l]}\n",
    "$$\n",
    "\n",
    "First layer matrix expansion for $X = A^{[0]}$.\n",
    "\n",
    "$$\n",
    "\\begin{align}\n",
    "Z^{[1]} & = \n",
    "\\begin{bmatrix}\n",
    "z^{(1)}_1 & z^{(2)}_1 & \\cdots & z^{(m)}_1 \\\\\n",
    "z^{(1)}_2 & z^{(2)}_2 & \\cdots & z^{(m)}_2 \\\\\n",
    "\\vdots & \\vdots & \\ddots & \\vdots \\\\\n",
    "z^{(1)}_{n_l} & z^{(2)}_{n_l} & \\cdots & z^{(m)}_{n_l}\n",
    "\\end{bmatrix}\n",
    "{=}\n",
    "\\begin{bmatrix}\n",
    "w_{1,1} & w_{1,2} & \\cdots & w_{1,n_{l-1}} \\\\\n",
    "w_{2,1} & w_{2,2} & \\cdots & w_{2,n_{l-1}} \\\\\n",
    "\\vdots & \\vdots & \\ddots & \\vdots \\\\\n",
    "w_{n_l,1} & w_{n_l,2} & \\cdots & w_{n_l,n_{l-1}}\n",
    "\\end{bmatrix}\n",
    "\\bullet\n",
    "\\begin{bmatrix}\n",
    "x^{(1)}_1 & x^{(2)}_1 & \\cdots & x^{(m)}_1 \\\\\n",
    "x^{(1)}_2 & x^{(2)}_2 & \\cdots & x^{(m)}_2 \\\\\n",
    "\\vdots & \\vdots & \\ddots & \\vdots \\\\\n",
    "x^{(1)}_{n_0} & x^{(2)}_{n_0} & \\cdots & x^{(m)}_{n_0}\n",
    "\\end{bmatrix}\n",
    "{+}\n",
    "\\begin{bmatrix}\n",
    "b_1 \\\\\n",
    "b_2 \\\\\n",
    "\\vdots \\\\\n",
    "b_{n_l}\n",
    "\\end{bmatrix} \\\\\n",
    "Z^{[1]} & = \n",
    "\\begin{bmatrix}\n",
    "% first row\n",
    "\\sum\\limits^{n_{l-1}}_{j=1}{(w_{1,j} \\cdot x^{(1)}_j)} + b_1 &\n",
    "\\sum\\limits^{n_{l-1}}_{j=1}{(w_{1,j} \\cdot x^{(2)}_j)} + b_1 & \\cdots & \n",
    "\\sum\\limits^{n_{l-1}}_{j=1}{(w_{1,j} \\cdot x^{(m)}_j)} + b_1 \\\\\n",
    "% second row\n",
    "\\sum\\limits^{n_{l-1}}_{j=1}{(w_{2,j} \\cdot x^{(1)}_j)} + b_2 & \n",
    "\\sum\\limits^{n_{l-1}}_{j=1}{(w_{2,j} \\cdot x^{(2)}_j)} + b_2 & \\cdots &\n",
    "\\sum\\limits^{n_{l-1}}_{j=1}{(w_{2,j} \\cdot x^{(m)}_j)} + b_2 \\\\\n",
    "% third row\n",
    "\\vdots & \\vdots & \\ddots & \\vdots \\\\\n",
    "% fourth row\n",
    "\\sum\\limits^{n_{l-1}}_{j=1}{(w_{n_l,j} \\cdot x^{(1)}_j)} + b_{n_l} & \n",
    "\\sum\\limits^{n_{l-1}}_{j=1}{(w_{n_l,j} \\cdot x^{(2)}_j)} + b_{n_l} & \\cdots &\n",
    "\\sum\\limits^{n_{l-1}}_{j=1}{(w_{n_l,j} \\cdot x^{(m)}_j)} + b_{n_l}\n",
    "\\end{bmatrix}\n",
    "\\end{align}\n",
    "$$"
   ]
  },
  {
   "cell_type": "code",
   "execution_count": null,
   "id": "2dc41bb9-a275-4d93-8b51-51c931e5f7db",
   "metadata": {},
   "outputs": [],
   "source": [
    "# TODO"
   ]
  },
  {
   "cell_type": "markdown",
   "id": "cdb46e35-f15e-40f6-9156-0bb5dd7d81b7",
   "metadata": {},
   "source": [
    "#### Computing A\n",
    "\n",
    "Matrix $Z$ serves as the input for the activation function $g$. The result is the activation matrix $A$ which is the same shape as $Z$ because the activation function acts element-wise on $Z$. Activation functions may vary between layers, hence the $[l]$ superscript applied to $g$. Note that $A^{[0]} = X$ and $A^{[L]} = \\hat{Y}$ for a neural network with $L$ layers.\n",
    "\n",
    "$$\n",
    "g^{[l]}(Z^{[l]}) = A^{[l]}\n",
    "$$"
   ]
  },
  {
   "cell_type": "code",
   "execution_count": null,
   "id": "47bda9b9-9a1e-4e92-9503-c44882a4d26b",
   "metadata": {},
   "outputs": [],
   "source": [
    "# TODO"
   ]
  },
  {
   "cell_type": "markdown",
   "id": "3f2ca76a-1036-4e41-ab76-3605fa0c3541",
   "metadata": {},
   "source": [
    "### Cost Functions"
   ]
  },
  {
   "cell_type": "markdown",
   "id": "f6748484-6624-49b4-9855-3cad5ff470d2",
   "metadata": {},
   "source": [
    "#### Overview\n",
    "This section describes common cost functions and their derivatives. Computing the cost happens after a prediction is made (forward propagation) and seeds the process of training the model (backward propagation and gradient descent)."
   ]
  },
  {
   "cell_type": "markdown",
   "id": "076caad2-d999-455e-97d5-1a5ad0941b62",
   "metadata": {},
   "source": [
    "#### Mean Squared Error (MSE)\n",
    "Primarily used for regression problems, such as predicting a continuous value rather than a classification. There is only a single global minimum due to its convex shape (no local minima), assuming linear activation.\n",
    "\n",
    "$$\n",
    "\\begin{align}\n",
    "\\hat{y}^{(i)} & = \\vec{w} \\bullet \\vec{x}^{(i)} + b \\\\\n",
    "J_{w,b}(x^{(i)}) & = \\frac{1}{2m} \\cdot \\sum\\limits^{m}_{i=1}(\\hat{y}^{(i)} - y^{(i)})^2 \\\\\n",
    "\\end{align}\n",
    "$$\n",
    "\n",
    "The cost function can be partially differentiated with respect to $W$ and $b$:\n",
    "\n",
    "$$\n",
    "\\begin{align}\n",
    "J_{\\vec{w},b}(\\vec{x}^{(i)}) & = \\frac{1}{2m} \\cdot \\sum\\limits^{m}_{i=1}(\\hat{y}^{(i)} - y^{(i)})^2 \\\\\n",
    "\\frac{\\partial}{\\partial w}J_{\\vec{w},b}(\\vec{x}^{(i)}) & = \\frac{1}{m} \\cdot \\sum\\limits^{m}_{i=1}(\\hat{y}^{(i)} - y^{(i)}) \\cdot \\vec{x}^{(i)} \\\\\n",
    "\\frac{\\partial}{\\partial b}J_{\\vec{w},b}(\\vec{x}^{(i)}) & = \\frac{1}{m} \\cdot \\sum\\limits^{m}_{i=1}(\\hat{y}^{(i)} - y^{(i)}) \\\\\n",
    "\\end{align}\n",
    "$$"
   ]
  },
  {
   "cell_type": "markdown",
   "id": "de8bb6a2-6413-40bd-9b4a-891000780346",
   "metadata": {
    "jp-MarkdownHeadingCollapsed": true
   },
   "source": [
    "#### Binary Cross Entropy\n",
    "Primarily used for logistic regression problems whereby training examples are labeled with $y = 1$ to indicate presence in a category or $y = 0$ to indicate absence from a category. There is only a single global minimum due to its convex shape (no local minima), assuming sigmoid activation.\n",
    "\n",
    "$$\n",
    "\\begin{align}\n",
    "\\hat{y}^{(i)} = \\sigma(\\vec{w} \\bullet \\vec{x}^{(i)} + b)\n",
    "\\end{align}\n",
    "$$\n",
    "\n",
    "Consider a loss function for a single training example/label pair. Only half of the formula is relevant based on the value of $y^{(i)}$:\n",
    "\n",
    "$$\n",
    "\\begin{align}\n",
    "L_{\\vec{w},b}(\\hat{y}^{(i)}, y^{(i)}) & =\n",
    "\\begin{cases}\n",
    "y^{(i)} = 1: & -\\ln{(\\hat{y}^{(i)})} \\\\\n",
    "y^{(i)} = 0: & -\\ln{(1 - \\hat{y}^{(i)})}\n",
    "\\end{cases} \\\\\n",
    "L_{\\vec{w},b}(\\hat{y}^{(i)}, y^{(i)}) & = (-y^{(i)} \\cdot \\ln{(\\hat{y}^{(i)}))} - (1 - y^{(i)}) \\cdot \\ln{(1 - \\hat{y}^{(i)})}\n",
    "\\end{align}\n",
    "$$\n",
    "\n",
    "Define the total cost function by expanding the per-example loss function:\n",
    "\n",
    "$$\n",
    "\\begin{align}\n",
    "J_{\\vec{w},b}(\\vec{x}^{(i)}) & = \\frac{1}{m} \\cdot \\sum\\limits^{m}_{i=1}L_{\\vec{w},b}(\\hat{y}^{(i)}, y^{(i)}) \\\\\n",
    "J_{\\vec{w},b}(\\vec{x}^{(i)}) & = -\\frac{1}{m} \\cdot \\sum\\limits^{m}_{i=1}(y^{(i)} \\cdot \\ln{(\\hat{y}^{(i)}))} + (1 - y^{(i)}) \\cdot \\ln{(1 - \\hat{y}^{(i)})} \\\\\n",
    "\\end{align}\n",
    "$$\n",
    "\n",
    "The cost function can be partially differentiated with respect to $W$ and $b$:\n",
    "\n",
    "$$\n",
    "\\begin{align}\n",
    "J_{\\vec{w},b}(\\vec{x}^{(i)}) & = \\frac{1}{2m} \\cdot \\sum\\limits^{m}_{i=1}(\\hat{y}^{(i)} - y^{(i)})^2 \\\\\n",
    "\\frac{\\partial}{\\partial w}J_{\\vec{w},b}(\\vec{x}^{(i)}) & = \\frac{1}{m} \\cdot \\sum\\limits^{m}_{i=1}(\\hat{y}^{(i)} - y^{(i)}) \\cdot \\vec{x}^{(i)} \\\\\n",
    "\\frac{\\partial}{\\partial b}J_{\\vec{w},b}(\\vec{x}^{(i)}) & = \\frac{1}{m} \\cdot \\sum\\limits^{m}_{i=1}(\\hat{y}^{(i)} - y^{(i)}) \\\\\n",
    "\\end{align}\n",
    "$$"
   ]
  },
  {
   "cell_type": "markdown",
   "id": "75648df0-6346-4678-9464-31f6bd6b781f",
   "metadata": {},
   "source": [
    "#### Sparse Categorical Cross Entropy\n",
    "Primarily used for softmax regression problems whereby training examples are labeled with values representing their categories where the number of categories is greater than 2. \"Sparse\" means each logit can identify only one class. The loss logic is identical to binary cross entropy except expanded to multiple classes. $n$ is the number of features in the final layer, which is also the number of classes.\n",
    "\n",
    "$$\n",
    "L(a_1, a_2, \\cdots , a_n, y^{(i)}) =\n",
    "\\begin{cases}\n",
    "y^{(i)} = 1: & -\\ln(a_1) \\\\\n",
    "y^{(i)} = 2: & -\\ln(a_2) \\\\\n",
    "& \\vdots \\\\\n",
    "y^{(i)} = n: & -\\ln(a_n)\n",
    "\\end{cases}\n",
    "$$\n",
    "\n",
    "Formally: for each training example, for each class, check if the current class matches the expected class. If so, compute the loss. Note that the quantity inside the $\\ln()$ is the result of softmax activation. This function is always convex.\n",
    "\n",
    "$$\n",
    "J_{\\vec{w},b}(\\vec{x}^{(i)}) = -\\frac{1}{m} \\cdot \\left[\\sum\\limits^m_{i=1}\\sum\\limits^n_{j=1}1\\{y^{(i)}=j\\} \\cdot \\ln \\left(\\frac{e^{z_j}}{\\sum^n_{k=1}e^{z_k}}\\right)\\right]\n",
    "$$"
   ]
  },
  {
   "cell_type": "markdown",
   "id": "6c704a52-edbb-4d45-818f-997fc5a04cca",
   "metadata": {},
   "source": [
    "### Backward Propagation"
   ]
  },
  {
   "cell_type": "markdown",
   "id": "836f59a9-1b11-428b-aac2-5d5aaeae78db",
   "metadata": {
    "jp-MarkdownHeadingCollapsed": true
   },
   "source": [
    "#### Overview\n",
    "This section describes the process by which the model computes derivatives with respect to its parameters at each layer. Just as forward propagation unpacks the action of a single unit into two discrete steps (computing $Z$ then computing $A$), so too does backward propagation (back prop) separate the discrete steps of differentiation."
   ]
  },
  {
   "cell_type": "markdown",
   "id": "abb0f1af-76f7-49b4-be28-d10ea37a0a8e",
   "metadata": {},
   "source": [
    "#### Computing dJ/dZ\n",
    "The derivative of the cost function $J$ with respect to $A^{[l]}$ is computed using $Z^{[l]}$ as an input, which was computed during forward prop. Put simply, this involves differentiating the activation function, resulting in derivative of the cost function with respect to $Z^{[l]}$. The \"chain rule\" of calculus helps show the logical reduction. Each activation has a different derivative to yield exact numbers, which isn't shown here. Note that the $\\odot$ means element-wise multiplication (Hadamard product).\n",
    "\n",
    "$$\n",
    "\\begin{align}\n",
    "A^{[l]} = & g^{[l]}(Z^{[l]}) \\\\\n",
    "\\frac{\\partial J}{\\partial Z^{[l]}} = & \\frac{\\partial J}{\\partial A^{[l]}} \\odot g^{[l]'}(Z^{[l]}) \\\\\n",
    "\\frac{\\partial J}{\\partial Z^{[l]}} = & \\frac{\\partial J}{\\partial A^{[l]}} \\odot \\frac{\\partial g^{[l]}(Z^{[l]})}{\\partial Z^{[l]}} \\\\\n",
    "\\frac{\\partial J}{\\partial Z^{[l]}} = & \\frac{\\partial J}{\\cancel{\\partial A^{[l]}}} \\odot \\frac{\\cancel{\\partial g^{[l]}(Z^{[l]})}}{\\partial Z^{[l]}} \\\\\n",
    "\\end{align}\n",
    "$$"
   ]
  },
  {
   "cell_type": "markdown",
   "id": "8dea7975-3e5a-46ff-ae84-ccc0e21a3d6b",
   "metadata": {},
   "source": [
    "#### Computing dJ/dA, dJ/dW, and dJ/db\n",
    "All three of the derivatives computed in this section rely on $\\frac{\\partial J}{\\partial Z^{[l]}}$ from the previous step. Note that $W^{[l]}$ and $A^{[l-1]}$ are both required below; both were computed during forward prop. Also note that $b^{[l]}$ is not needed for any calculation and thus should not be retained in the forward prop cache during implementation.\n",
    "\n",
    "Two formulas require the use of matrix transpose using superscript $T$. This is required to compute $\\frac{\\partial J}{\\partial A^{[l-1]}}$ given $W^{[l]}$ of shape $(n_l, n_{l-1})$ and $\\frac{\\partial J}{\\partial Z^{[l]}}$ of shape $(n_l, m)$. $W^{[l]}$ must be transposed so that the $n_l$ dimension matches, yielding a matrix of shape $(n_{l-1}, m)$ for $\\frac{\\partial J}{\\partial A^{[l-1]}}$. The same idea applies to the computation of $\\frac{\\partial J}{\\partial W^{[l]}}$. Recall that $\\frac{\\partial J}{\\partial Z^{[l]}}$ has shape $(n_l, m)$ while $A^{[l-1]}$ has shape $(n_{l-1}, m)$. The shapes of the parameter matrices $W$ and $b$ are defined by the neural network's architecture, not the number of training examples, and the transpose operation aligns the $m$ dimensions. This yields a $\\frac{\\partial J}{\\partial W^{[l]}}$ matrix of shape $(n_{l-1}, n_l)$.\n",
    "\n",
    "$$\n",
    "\\begin{align}\n",
    "\\frac{\\partial J}{\\partial A^{[l-1]}} = & W^{{[l]}^T} \\bullet \\frac{\\partial J}{\\partial Z^{[l]}} \\\\\n",
    "\\frac{\\partial J}{\\partial W^{[l]}} = & \\frac{1}{m} \\cdot (\\frac{\\partial J}{\\partial Z^{[l]}} \\bullet A^{{[l-1]}^T}) \\\\\n",
    "\\frac{\\partial J}{\\partial b^{[l]}} = & \\frac{1}{m} \\cdot \\sum\\limits^{m}_{i=1}\\frac{\\partial J}{\\partial Z^{[l](i)}} \\\\\n",
    "\\end{align}\n",
    "$$\n",
    "\n",
    "$\\frac{\\partial J}{\\partial W^{[l]}}$ and $\\frac{\\partial J}{\\partial b^{[l]}}$ measure the direction and magnitude of changes required to the weight and bias parameters at a given layer, respectively. Larger values of either sign indicate that the parameter in question is a relatively large contributor to the overall cost, requiring a larger adjustment by the optimization algorithm. $\\frac{\\partial J}{\\partial A^{[l-1]}}$ is passed backwards to the previous layer. At the end of the process, a generalized implementation may also compute $\\frac{\\partial J}{\\partial A^{[0]}}$ or $\\frac{\\partial J}{\\partial X}$, but this value is unused."
   ]
  },
  {
   "cell_type": "markdown",
   "id": "54ed6b17-83e3-4d78-a94f-37b667cd17bb",
   "metadata": {},
   "source": [
    "### Optimization Algorithms"
   ]
  },
  {
   "cell_type": "markdown",
   "id": "c41ebe9a-fe9a-4a5b-a817-ca687c13fc50",
   "metadata": {},
   "source": [
    "#### Overview\n",
    "This section describes algorithms to train a model given a cost function, its derivative, plus weights and biases computed through forward propagation."
   ]
  },
  {
   "cell_type": "markdown",
   "id": "a1944498-07eb-4a30-b696-be3650dfef93",
   "metadata": {},
   "source": [
    "#### Batch Gradient Descent\n",
    "Update the weights $W$ and biases $b$ at a given layer $[l]$ after a full pass of the training set. It subtracts the product of the learning rate $\\alpha$ and derivative with respect to the parameters in question $\\frac{\\partial J}{\\partial W^{[l]}}$ or $\\frac{\\partial J}{\\partial b^{[l]}}$. The derivative determines the parameters's contribution to the total cost $J$. If the parameter was a major contributor to the total cost, the derivative will be a large positive or negative number. Negative derivatives will result in a positive change to the value, bringing it closer to 0. Positive derivatives achieve the same goal in the opposite direction, reducing the value to bring it closer to 0.\n",
    "\n",
    "The point at which the derivative is 0 is the minimum (the \"valley\" on a 2D or 3D plot). Such a point could be a local minimum rather than the global minimum. Given a highly dimensional plot with many parameters, such local minima are rare as all dimensions would need to be convex (sloping upwards) at once. It is more likely that there is a single global minimum with many \"saddles\" along the way, which slope upwards in some dimensions and downwards in others.\n",
    "\n",
    "$$\n",
    "\\text{repeat until convergence}\n",
    "\\begin{cases}\n",
    "W^{[l]} := & W^{[l]} - \\alpha \\cdot \\frac{\\partial J}{\\partial W^{[l]}} \\\\\n",
    "b^{[l]} := & b^{[l]} - \\alpha \\cdot \\frac{\\partial J}{\\partial b^{[l]}}\n",
    "\\end{cases}\n",
    "$$"
   ]
  },
  {
   "cell_type": "markdown",
   "id": "81b1395f-4911-4d5d-b8a3-fdaa8e35c2f6",
   "metadata": {},
   "source": [
    "#### Mini-batch Gradient Descent\n",
    "When the number of training examples $m$ is large, batch gradient descent cannot act until all training examples have been processed. Minibatches break up this process, allowing gradient descent to act sooner, albeit without seeing the entire training set. This makes the weight and bias adjustments less precise but faster and more frequent.\n",
    "\n",
    "Be sure to shuffle the training data and the corresponding labels before dividing into mini-batches. Use a common random seed to ensure $X$ and $Y$ are shuffled according to the same scheme. It is common to create mini-batches sized by powers of 2, such as 32, 64, 128, 256, and 512. The sizes are chosen so that they can fit inside of GPUs memory, which vary. Each mini-batch matrix is notated as $X^{\\{t\\}}$ where $t$ is the mini-batch number. Given a mini-batch size of $N$ examples, the shape of $X^{\\{t\\}}$ is $(n_0, N)$. The final mini-batch is likely to be smaller than the mini-batch size to collect all the remaining examples, but this is an implementation detail."
   ]
  },
  {
   "cell_type": "markdown",
   "id": "d52a0d88-eaf8-4488-a266-224997d6dbbb",
   "metadata": {},
   "source": [
    "#### Stochastic Gradient Descent (SGD)\n",
    "This is conceptually identical to mini-batch gradient descent, except the number of training examples in each mini-batch $N$ is only 1. This allows the model to run gradient descent very quickly given that only one training example is being processed, although the cost may not monotonically decrease. That is to say, the cost may occasionally increase, although it is expected to trend downward towards. The drawback of SGD is that it requires $m$ iterations, one per training example, which could number in the millions. This can be computationally expensive as it reduces the efficiency benefits of a fully vectorized implementation."
   ]
  },
  {
   "cell_type": "markdown",
   "id": "8bb0c6b5-a910-4aa0-9373-8c3f6cf29ce3",
   "metadata": {},
   "source": [
    "#### Gradient Descent with Momentum\n",
    "This algorithm enhances gradient descent by using an exponentially weighted moving average (EWMA) to compute the gradients, then using that EWMA to update the parameters.\n",
    "\n",
    "The relevant formulas to compute EWMA are shown below. The first value $V_0$ starts off at 0. The next value $V_1$ is a combination of the previous value $V_0$ and the resulting data point $f(t)$ at a given time $t$. The hyperparameter $\\beta$ controls the algorithm's sensitivity to changes.\n",
    "\n",
    "Larger values of $\\beta$ account for more data over a longer time period, making the average less responsive to recent changes. Smaller values of $\\beta$ give more weight to newer samples, making the average more responsive to recent changes. As a rough estimate, the algorithm averages over $\\frac{1}{1-\\beta}$ time entries.\n",
    "\n",
    "The $V_t^{corr}$ value represents the optional bias correction process. During the first few iterations of the algorithm, the EWMA will routinely underestimate the true average. Bias correction yields more accurate results early in the training process but becomes less relevant over time as more data is processed.\n",
    "\n",
    "$$\n",
    "\\begin{align}\n",
    "V_0 = & 0 \\\\\n",
    "V_t = & \\beta \\cdot V_{t-1} + (1-\\beta) \\cdot f(t) \\\\\n",
    "V_t^{corr} = & \\frac{V_t}{1-\\beta^t}\n",
    "\\end{align}\n",
    "$$\n",
    "\n"
   ]
  },
  {
   "cell_type": "code",
   "execution_count": null,
   "id": "9e83ce38-6a09-4f71-abdc-022553eefae1",
   "metadata": {},
   "outputs": [],
   "source": [
    "size_in = 20\n",
    "beta = np.array([0.8, 0.9, 0.95])\n",
    "x_in = np.arange(1, size_in + 1, 1)\n",
    "y_in = np.random.rand(size_in) * 5\n",
    "\n",
    "def ewma(size, y, B):\n",
    "    v, v_corr = np.zeros(size), np.zeros(size)\n",
    "    for t in range(1, len(y)):\n",
    "        v[t] = (B * v[t-1]) + ((1 - B) * y[t])\n",
    "        v_corr[t] = v[t] / (1 - B**t)\n",
    "\n",
    "    return v, v_corr\n",
    "\n",
    "fig, ax = plt.subplots(nrows=1, ncols=len(beta), sharey=True)\n",
    "fig.set_size_inches(12, 4)\n",
    "ax[0].set_ylabel(\"temperature (celsius)\")\n",
    "\n",
    "for B, axis in zip(beta, ax):\n",
    "    v, v_corr = ewma(size_in, y_in, B)\n",
    "    axis.set_title(f\"B = {B} (avg over ~{int(round(1/(1-B)))} days)\")\n",
    "    axis.set_xlabel(\"time (days)\")\n",
    "    axis.plot(x_in, y_in, label=\"data\", linestyle=\"\", marker=\".\")\n",
    "    axis.plot(x_in, v, label=\"v\")\n",
    "    axis.plot(x_in, v_corr, label=\"v_corr\")\n",
    "    axis.legend()"
   ]
  },
  {
   "cell_type": "markdown",
   "id": "a24ea320-35c8-4068-be56-c2ab8faa836a",
   "metadata": {},
   "source": [
    "In the context of gradient descent, the EWMA resembles \"momentum\", allowing the algorithm to trend downhill more quickly without oscillations in dimensions that diverge from the global minimum. This strategy can be combined with any of the aforementioned gradient descent variants (batch, mini-batch, or stochastic).\n",
    "\n",
    "The matrix $v_{\\partial W^{[l]}}$ has the same shape as the weights $W^{[l]}$ and the weight derivatives. The matrix $v_{\\partial b^{[l]}}$ has the same shape as the biases $b^{[l]}$ and the bias derivatives. Both are initialized to all zeros. The derivatives ${\\partial W^{[l]}}$ and ${\\partial b^{[l]}}$ are the normal values computed by backwards propagation, omitting the numerator $\\partial J(\\theta)$ for brevity. The new matrices $v_{\\partial W^{[l]}}$ and $v_{\\partial b^{[l]}}$ represent the computed EWMA values for weight and bias derivatives, respectively.\n",
    "\n",
    "$$\n",
    "\\text{repeat until convergence}\n",
    "\\begin{cases}\n",
    "v_{\\partial W^{[l]}} & = (\\beta \\cdot v_{\\partial W^{[l]}}) + \\bigl((1 - \\beta) \\cdot {\\partial W^{[l]}}\\bigr) \\\\\n",
    "v_{\\partial b^{[l]}} & = (\\beta \\cdot v_{\\partial b^{[l]}}) + \\bigl((1 - \\beta) \\cdot {\\partial b^{[l]}}\\bigr) \\\\\n",
    "\\\\\n",
    "W^{[l]} & := W^{[l]} - \\alpha \\cdot v_{\\partial W^{[l]}} \\\\\n",
    "b^{[l]} & := b^{[l]} - \\alpha \\cdot v_{\\partial b^{[l]}}\n",
    "\\end{cases}\n",
    "$$\n",
    "\n",
    "The algorithm can be modified by including the optional $v_{\\partial W^{[l]}\\_corr}$ and $v_{\\partial b^{[l]}\\_corr}$ bias correction steps. In practice, this is not commonly implemented because given a relatively large $\\beta$ value, the EWMA algorithm will decay the older values. This makes the first few results less relevant over time.\n",
    "\n",
    "$$\n",
    "\\text{repeat until convergence}\n",
    "\\begin{cases}\n",
    "v_{\\partial W^{[l]}} & = (\\beta \\cdot v_{\\partial W^{[l]}}) + \\bigl((1 - \\beta) \\cdot {\\partial W^{[l]}}\\bigr) \\\\\n",
    "v_{\\partial b^{[l]}} & = (\\beta \\cdot v_{\\partial b^{[l]}}) + \\bigl((1 - \\beta) \\cdot {\\partial b^{[l]}}\\bigr) \\\\\n",
    "v_{\\partial W^{[l]}}^{corr} & = \\frac{v_{\\partial W^{[l]}}}{1 - \\beta^t} \\\\\n",
    "v_{\\partial b^{[l]}}^{corr} & = \\frac{v_{\\partial b^{[l]}}}{1 - \\beta^t} \\\\\n",
    "\\\\\n",
    "W^{[l]} & := W^{[l]} - \\alpha \\cdot v_{\\partial W^{[l]}}^{corr} \\\\\n",
    "b^{[l]} & := b^{[l]} - \\alpha \\cdot v_{\\partial b^{[l]}}^{corr}\n",
    "\\end{cases}\n",
    "$$"
   ]
  },
  {
   "cell_type": "markdown",
   "id": "d7e738fb-690b-42fd-9b36-8b67bdeaf586",
   "metadata": {},
   "source": [
    "#### Adaptive Moment Estimation (ADAM)\n",
    "ADAM adds Root Mean Squared (RMS) propagation to the momentum-based gradient descent algorithm. RMS propagation allows gradient descent to speed up in the direction towards the global minimum while slowing down in directions orthogonal to the global minimum. It is similar in concept to momentum except computes the square of the derivatives ${\\partial W^{[l]}}$ and ${\\partial b^{[l]}}$ when computing an EWMA. When updating the weights, it multiplies $\\alpha$ by the ratio of the momentum EWMA and the square root of that RMS-computed EWMA."
   ]
  },
  {
   "cell_type": "code",
   "execution_count": null,
   "id": "a9c8d050-024d-4e47-97ae-70f955df7aac",
   "metadata": {},
   "outputs": [],
   "source": [
    "size_in = 20\n",
    "beta = np.array([0.9, 0.99, 0.999])\n",
    "x_in = np.arange(1, size_in + 1, 1)\n",
    "y_in = np.random.rand(size_in) * 5\n",
    "\n",
    "def rms_prop(size, y, B, epsilon=1e-8):\n",
    "    s, s_corr = np.zeros(size), np.zeros(size)\n",
    "    for t in range(1, len(y)):\n",
    "        s[t] = (B * s[t-1]) + ((1 - B) * y[t]**2)\n",
    "        s_corr[t] = s[t] / (1 - B**t)\n",
    "\n",
    "        s[t] = y[t] / (np.sqrt(s[t]) + epsilon)\n",
    "        s_corr[t] = y[t] / (np.sqrt(s_corr[t]) + epsilon)\n",
    "        \n",
    "    return s, s_corr\n",
    "\n",
    "fig, ax = plt.subplots(nrows=1, ncols=len(beta), sharey=False)\n",
    "fig.set_size_inches(12, 4)\n",
    "ax[0].set_ylabel(\"temperature (celsius)\")\n",
    "\n",
    "for B, axis in zip(beta, ax):\n",
    "    s, s_corr = rms_prop(size_in, y_in, B)\n",
    "    axis.set_title(f\"B = {B}\")\n",
    "    axis.set_xlabel(\"time (days)\")\n",
    "    axis.plot(x_in, y_in, label=\"data\", linestyle=\"\", marker=\".\")\n",
    "    axis.plot(x_in, s, label=\"s\")\n",
    "    axis.plot(x_in, s_corr, label=\"s_corr\")\n",
    "    axis.legend()"
   ]
  },
  {
   "cell_type": "markdown",
   "id": "9b5834f5-a90f-4696-a7b9-46f34f1ab488",
   "metadata": {},
   "source": [
    "The matrices $v_{\\partial W^{[l]}}$ and $s_{\\partial W^{[l]}}$ have the same shape as the weights $W^{[l]}$ and the weight derivatives. The matrices $v_{\\partial b^{[l]}}$ and $s_{\\partial b^{[l]}}$ have the same shape as the biases $b^{[l]}$ and the bias derivatives. These four matrices are initialized to all zeros. Note that both algorithms use $\\beta$ in their formal definitions, which are rewritten as $\\beta_1$ and $\\beta_2$ to differentiate them. Their default values in most implementations are $\\beta_1 = 0.9$ and $\\beta_2 = 0.999$ which are rarely tuned. The tiny value $\\varepsilon = 1 \\times 10^{-8}$ is almost never tuned and only prevents against division by zero errors. The learning rate $\\alpha$ remains the most interesting hyperparameter in ADAM.\n",
    "\n",
    "$$\n",
    "\\text{repeat until convergence}\n",
    "\\begin{cases}\n",
    "v_{\\partial W^{[l]}} & = (\\beta_1 \\cdot v_{\\partial W^{[l]}}) + \\bigl((1 - \\beta_1) \\cdot {\\partial W^{[l]}}\\bigr) \\\\\n",
    "v_{\\partial b^{[l]}} & = (\\beta_1 \\cdot v_{\\partial b^{[l]}}) + \\bigl((1 - \\beta_1) \\cdot {\\partial b^{[l]}}\\bigr) \\\\\n",
    "v_{\\partial W^{[l]}}^{corr} & = \\frac{v_{\\partial W^{[l]}}}{1 - \\beta_1^t} \\\\\n",
    "v_{\\partial b^{[l]}}^{corr} & = \\frac{v_{\\partial b^{[l]}}}{1 - \\beta_1^t} \\\\\n",
    "\\\\\n",
    "s_{\\partial W^{[l]}} & = (\\beta_2 \\cdot s_{\\partial W^{[l]}}) + \\bigl((1 - \\beta_2) \\cdot {\\partial W^{[l]}}^2\\bigr) \\\\\n",
    "s_{\\partial b^{[l]}} & = (\\beta_2 \\cdot s_{\\partial b^{[l]}}) + \\bigl((1 - \\beta_2) \\cdot {\\partial b^{[l]}}^2\\bigr) \\\\\n",
    "s_{\\partial W^{[l]}}^{corr} & = \\frac{s_{\\partial W^{[l]}}}{1 - \\beta_2^t} \\\\\n",
    "s_{\\partial b^{[l]}}^{corr} & = \\frac{s_{\\partial b^{[l]}}}{1 - \\beta_2^t} \\\\\n",
    "\\\\\n",
    "W^{[l]} & := W^{[l]} - \\alpha \\cdot \\frac{v_{\\partial W^{[l]}}^{corr}}{\\sqrt{s_{\\partial W^{[l]}}^{corr}} + \\varepsilon} \\\\\n",
    "b^{[l]} & := b^{[l]} - \\alpha \\cdot \\frac{v_{\\partial b^{[l]}}^{corr}}{\\sqrt{s_{\\partial b^{[l]}}^{corr}} + \\varepsilon}\n",
    "\\end{cases}\n",
    "$$"
   ]
  },
  {
   "cell_type": "markdown",
   "id": "236f2995-e9b0-45b3-a654-60fd0dc87846",
   "metadata": {},
   "source": [
    "#### Optional: Gradient Checking\n",
    "This technique is used for troubleshooting, not training, and can determine if your gradients (derivatives) have been computed correctly. Consider this definition of a derivative that includes sampling on both sides of the function:\n",
    "\n",
    "$$\n",
    "\\frac{\\partial}{\\partial \\theta_i}J(\\vec{\\theta}) = \\lim_{\\varepsilon \\to 0}\n",
    "\\frac{J(\\theta_1, \\theta_2, \\cdots, \\theta_i + \\varepsilon) -\n",
    "J(\\theta_1, \\theta_2, \\cdots, \\theta_i - \\varepsilon)}{2 \\cdot \\varepsilon}\n",
    "$$\n",
    "\n",
    "In this context, $\\vec{\\theta}$ is a 1D vector that contains all of the weights $W$ and biases $b$. The weight matrices are unrolled into one dimension and the biases are concatenated afterwards. This process repeats for every layer, resulting in a giant vector.\n",
    "\n",
    "Next, repeat this flattening process for all of the derivatives computed with respect to each parameter $W$ and $b$. These derivatives are the result of back propagation and are the specific values that gradient checking will validate. Let's call this vector of gradients $\\partial{\\vec{\\theta}}$ for short which has the same length as $\\vec{\\theta}$.\n",
    "\n",
    "The gradient checking algorithm iterates over elements of $\\vec{\\theta}$, computing the cost using fixed values for each element in $\\vec{\\theta}$ except for the current one under evaluation $\\theta_i$. This is how we approximate the derivatives with respect to individual parameters; we must fix all other elements of $\\vec{\\theta}$ and only change $\\theta_i$ up by a tiny amount $\\varepsilon$. The algorithm stores these gradient approximations in a vector that is also the same length as $\\vec{\\theta}$ and $\\partial{\\vec{\\theta}}$. This new vector is $\\partial{\\vec{\\theta}}_a$ with subscript $a$ indicating \"approximate\".\n",
    "\n",
    "Theoretically, the derivatives computed by backward propagation should equal the approximated derivatives computed by gradient checking. In reality, the values will be slightly different. We can measure the similarity of these two vectors using a normalized variant of Euclidean distance.\n",
    "\n",
    "$$\n",
    "d = \\frac{\\|\\partial{\\vec{\\theta}}_a - \\partial{\\vec{\\theta}}\\|_2}{\\|\\partial{\\vec{\\theta}}_a\\|_2 + \\|\\partial{\\vec{\\theta}}\\|_2}\n",
    "$$\n",
    "\n",
    "If the resulting distance $d$ is less than a tiny threshold, such as $1 \\times 10^{-7}$, then backward propagation has computed the correct gradients. If the resulting distance is too large, it suggests a software bug. Examine the two gradient vectors closely and look for pairwise values that have large differences. This indicates the specific parameter at the specific layer where the bug is likely to be.\n",
    "\n",
    "Note that the cost function $J(\\vec{\\theta})$ must include regularization, if applied, when performing gradient checking. If not, the approximated gradients and backprop-computed gradients will be very different. Also, gradient checking cannot work with dropout regularization as the cost function is not well-defined. You can use `keep_prob = 1` temporarily to run gradient checking on models using dropout."
   ]
  },
  {
   "cell_type": "markdown",
   "id": "6cf2d480-b670-4f75-ba24-594ad8adb813",
   "metadata": {},
   "source": [
    "#### Optional: Learning Rate Decay\n",
    "This optional enhancement allows the learning rate $\\alpha$ to send to slowly decrease (decay) as gradient descent runs. This may reduce oscillations near the global minimum, thus speeding up training. As $t$ increases over time, $\\alpha$ decays more slowly, regardless of the implementation. Several plausible options are shown here; many others also exist.\n",
    "\n",
    "1. Reduce the learning rate $\\alpha$ with each epoch $t$ based on a specified rate of decay $r$ based on some initial learning rate $\\alpha_0$. Larger values of $r$ yield faster rates of decay (faster reduction of $\\alpha$), although values slightly greater than 0 are most reasonable. This update occurs after every iteration.\n",
    "\n",
    "$$\n",
    "\\alpha = \\frac{\\alpha_{0}}{1+(r \\cdot t)}\n",
    "$$\n",
    "\n",
    "2. Reduce the learning rate $\\alpha$ after a certain number $n$ epochs $t$. This is a step-based decay using the mathematical \"floor\" function. A smaller value of $n$ yields more rapid decay as the learning rate changes more frequently.\n",
    "$$\n",
    "\\alpha = \\frac{\\alpha_{0}}{1+\\lfloor{\\frac{t}{n}}\\rfloor}\n",
    "$$\n",
    "\n",
    "3. Alternative implementation to per-iteration decay, relying on base $b \\in \\mathbb{R}\\,|\\,0 < b < 1$. It decays more rapidly at first, whereby smaller values of $b$ yield faster rates of decay in general. Values slightly less than 1 are most reasonable.\n",
    " \n",
    "$$\n",
    "\\alpha = \\alpha_{0} \\cdot b^{t}\n",
    "$$"
   ]
  },
  {
   "cell_type": "code",
   "execution_count": null,
   "id": "3cdfd0c0-c261-44ff-bdf8-331b37a0c86f",
   "metadata": {},
   "outputs": [],
   "source": [
    "# Run with 1000 epochs and an initial learning rate\n",
    "t = np.arange(1, 1001, 1, dtype=int)\n",
    "a0 = 1.0e-01\n",
    "\n",
    "# Make 3 subplots, one per option, then graph each function\n",
    "fig, ax = plt.subplots(nrows=1, ncols=3, sharey=True)\n",
    "fig.set_size_inches(12, 4)\n",
    "ax[0].set_ylabel(r\"learning rate - $\\alpha$\")\n",
    "\n",
    "for r in np.array([1.0e-3, 3.0e-3, 9.0e-3]):\n",
    "    ax[0].plot(t, a0 / (1 + r * t), label=f\"$r$={r}\")\n",
    "\n",
    "for n in np.array([50, 100, 200]):\n",
    "    ax[1].plot(t, a0 / (1 + np.floor(t / n)), label=f\"$n$={n}\")\n",
    "\n",
    "for b in np.array([0.995, 0.998, 0.999]):\n",
    "    ax[2].plot(t, a0 * np.power(b, t), label=f\"$b$={b}\")\n",
    "\n",
    "for i, axis in enumerate(ax, start=1):\n",
    "    axis.set_title(f\"Option #{i}\")\n",
    "    axis.set_xlabel(\"epochs - $t$\")\n",
    "    axis.legend()"
   ]
  },
  {
   "cell_type": "markdown",
   "id": "405e0e73-bd20-4137-a826-14b3b73f37b2",
   "metadata": {},
   "source": [
    "#### Optional: Hyperparameter Tuning\n",
    "Hyperparameters are human-selected values that are used by the model but are not trained by it. This section describes common techniques for selecting hyperparameters. Note that as the input data changes over time, hyperparameters should be re-evaluated to ensure they are still adequate for data set.\n",
    "\n",
    "To use an Information Technology (IT) analogy, AI models can be seen as pets or cattle. As pets, we closely monitor them, making small adjustments to hyperparameters to optimize performance. This approach is typically used when compute resources are limited or during training/experimentation. Perhaps only one model can be trained at once. \n",
    "\n",
    "As cattle, we raise several at the same time, combining different hyperparameters together to yield several models. This assumes that compute resources are ample and that hyperparameter combinations have been determined ahead of time. At the end of the process, select the best model based on some metric such as lowest cost, highest accuracy/precision/recall, etc.\n",
    "\n",
    "Suppose we are using gradient descent with momentum, which has 2 important hyperparameters: the learning rate $\\alpha$, and the momentum $\\beta$. There are several methods for selecting values.\n",
    "\n",
    "  1. __Grid uniform__: On the linear scale, select values at fixed intervals across a range of reasonable values for each hyperparameter. When visualized on a 2D plot, it looks like a grid. This approach is conceptually simple and deterministic, but it limits the number of unique hyperparameter values available.\n",
    "\n",
    "  2. __Random uniform__: On a linear scale, randomly generate reasonable values for each hyperparameter. The coverage area is the same as the grid, but tends to work better. If one hyperparameter has a very small impact on the learning algorithm (say $\\beta$), the randomness will yield more options for the other hyperparameter (say $\\alpha$), which presumably has a larger impact.\n",
    "\n",
    "  3. __Random log__: On a logarithmic scale, randomly generate reasonable values for each hyperparameter. This provides the benefits of diverse value selection while also more evenly distributing samples across logarithmic ranges. Consider $\\beta$ which typically ranges from 0.9 to 0.999. Rather than uniformly sample across this range, it's more effective to collect a roughly equal number of samples across the different orders of magnitude. "
   ]
  },
  {
   "cell_type": "code",
   "execution_count": null,
   "id": "1ba18adb-9450-4063-9810-96eaaa273aaa",
   "metadata": {},
   "outputs": [],
   "source": [
    "alpha = [\n",
    "    np.tile(np.arange(0.1, 1.1, 0.1), 10),\n",
    "    np.random.uniform(1e-5, 1,(100,)),\n",
    "    np.array([[10**(-power * np.random.rand()) for _ in range(20)] for power in range(1,5)]).flatten(),\n",
    "]\n",
    "beta = [\n",
    "    np.repeat(np.arange(0.91, 1.01, 0.01), 10),\n",
    "    np.random.uniform(1 - 1e-1, 1 - 1e-5,(100,)),\n",
    "    np.array([[1 - (10**(-power * np.random.rand())) for _ in range(20)] for power in range(4)]).flatten(),\n",
    "]\n",
    "desc = [\"grid uniform\", \"random uniform\", \"random log\"]\n",
    "scale = [\"linear\", \"linear\", \"log\"]\n",
    "\n",
    "fig, ax = plt.subplots(nrows=1, ncols=len(desc), sharey=False)\n",
    "fig.set_size_inches(12, 4)\n",
    "ax[0].set_ylabel(r\"momentum - $\\beta$\")\n",
    "\n",
    "for i in range(len(desc)):\n",
    "    ax[i].set_xscale(scale[i]); plt.yscale(scale[i])\n",
    "    ax[i].set_title(desc[i])\n",
    "    ax[i].set_xlabel(r\"learning rate - $\\alpha$\")\n",
    "    ax[i].plot(alpha[i], beta[i], marker=\".\", linestyle=\"\")"
   ]
  },
  {
   "cell_type": "markdown",
   "id": "0a849c51-915d-4d22-8a95-91bd725e1406",
   "metadata": {},
   "source": [
    "## Convolutional Neural Network (CNN)"
   ]
  },
  {
   "cell_type": "markdown",
   "id": "b135d616-e5ba-4862-b0ee-2b355125ece9",
   "metadata": {},
   "source": [
    "### Convolutional Layer (CONV)"
   ]
  },
  {
   "cell_type": "markdown",
   "id": "70e31c31-90e8-4b91-90d9-51efbd4a5894",
   "metadata": {},
   "source": [
    "#### Overview\n",
    "This layer forms the basis of a CNN. Primarily used for computer vision use-cases, CONV layers examine subsets of an image at a time, and reducing that subset to a single value. Different filters are used to examine different subsets and are used to detect different features by panning across the image using a stride interval. The total number of parameters is greatly reduced when compared to MLP layers, requiring less time and compute power to train.\n",
    "\n",
    "Convolutional layers are effective because the feature-detecting filters are likely to be useful across different parts of the image, which reduces the number of parameters to be trained. Additionally, there are far fewer connections between convolutional layers compared to fully-connected layers. Each convolutional output is depends only on a few inputs (those in the filter's window).\n",
    "\n",
    "Because 2D images are so pervasive, they dominate the discussion of CNNs. However, the concepts can also apply to 1D data (such as EKG streams) and 3D data (such as CT/MRI scans)."
   ]
  },
  {
   "cell_type": "markdown",
   "id": "4914f15a-9a1a-48e1-b4de-fd59c6682292",
   "metadata": {},
   "source": [
    "#### Notation and Matrix Shapes\n",
    "\n",
    "Many of the notational conventions from the MLP section are retained here. The CNN-specific notation of key values at layer $l$ is below.\n",
    "\n",
    "$$\n",
    "\\begin{align}\n",
    "f^{[l]} & = \\text{filter height and width (if square, which is common)} \\\\\n",
    "f_H^{[l]} & = \\text{filter height (if not square)} \\\\\n",
    "f_W^{[l]} & = \\text{filter width (if not square)} \\\\\n",
    "s^{[l]} & = \\text{number of strides} \\\\\n",
    "p^{[l]} & = \\text{thickness of padded cells (number of surrounding layers)} \\\\\n",
    "n_H^{[l]} & = \\text{input matrix height (vertical)} \\\\\n",
    "n_W^{[l]} & = \\text{input matrix width (horizontal)} \\\\\n",
    "n_C^{[l]} & = \\text{input matrix channels (depth)}\n",
    "\\end{align}\n",
    "$$\n",
    "\n",
    "The following equations summarize how to compute the matrix dimensions at layer $l$. In general, a larger value of $f$ implies a larger filter, resulting in smaller values of $n_H^{[l]}$ and $n_W^{[l]}$. Larger values of $p$ imply additional layers of padding, resulting in larger values of $n_H^{[l]}$ and $n_W^{[l]}$. Larger values of $s$ imply longer strides when panning, resulting in smaller values of $n_H^{[l]}$ and $n_W^{[l]}$. In summary, $f$ and $s$ are indirectly proportional to $n_H^{[l]}$ and $n_W^{[l]}$ while $p$ is directly proportional to $n_H^{[l]}$ and $n_W^{[l]}$.\n",
    "\n",
    "$$\n",
    "\\begin{align}\n",
    "n_H^{[l]} & = \\Bigl\\lfloor \\frac{(n_H^{[l-1]} - f^{[l]}) + (2 \\times p^{[l]})}{s^{[l]}} \\Bigr\\rfloor + 1 \\\\\n",
    "n_W^{[l]} & = \\Bigl\\lfloor \\frac{(n_W^{[l-1]} - f^{[l]}) + (2 \\times p^{[l]})}{s^{[l]}} \\Bigr\\rfloor + 1 \\\\\n",
    "n_C^{[l]} & = \\text{number of filters applied}\n",
    "\\end{align}\n",
    "$$\n",
    "\n",
    "Each filter is a feature selector which is squared-shaped, often using an odd natural number for $f^{[l]}$. The depth of the filter is always equals the depth of the matrix being evaluated $n_C^{[l-1]}$. This is because the filter only pans along the height/width 2D plane. For this reason, filters of shape $(1,1,n_C^{[l-1]})$ can be useful as they evaluate the entire depth of the 3D matrix despite only panning one cell at a time in 2D. This special type of filter is called \"network in network\" and can reduce the depth of a 3D volume by ensuring there are fewer such filters at the present layer compared to the previous layer $n_C^{[l]} < n_C^{[l-1]}$. Although less commonly used, these filters can also increase the depth of the volume using a larger number of filters.\n",
    "\n",
    "$$\n",
    "f^{[l]}_{dim} = f^{[l]} \\times f^{[l]} \\times n_C^{[l-1]}\n",
    "$$\n",
    "\n",
    "Each value in the filter is a trainable weight. The number of channels in the current layer $n_C^{[l]}$ represents the number of filters applied by that layer. Therefore, the total number of weights at a layer $w^{[l]}_{dim}$ equals the dimensions of the filter times the number of filters at that layer. Also note that sometimes the word \"kernel\" is used instead of \"filter\" and is the denoted as $k$; they are fully synonymous.\n",
    "\n",
    "$$\n",
    "\\begin{align}\n",
    "w^{[l]}_{dim} & = f^{[l]} \\times f^{[l]} \\times n_C^{[l-1]} \\times n_C^{[l]} \\\\\n",
    "w^{[l]}_{dim} & = f^{[l]}_{dim} \\times n_C^{[l]}\n",
    "\\end{align}\n",
    "$$\n",
    "\n",
    "A single bias is applied element-wise (broadcasted) to each value in each filter. It is also trainable. Therefore, the total number of biases at a layer $b^{[l]}_{dim}$ equals the number to filters at that layer.\n",
    "$$\n",
    "b^{[l]}_{dim} = n_C^{[l]}\n",
    "$$\n",
    "\n",
    "The total number of parameters at a layer $t^{[l]}_{dim}$ is the sum of the numbers of weights and biases at that layer.\n",
    "\n",
    "$$\n",
    "\\begin{align}\n",
    "t^{[l]}_{dim} & = w^{[l]}_{dim} + b^{[l]}_{dim} \\\\\n",
    "t^{[l]}_{dim} & = f^{[l]} \\times f^{[l]} \\times n_C^{[l-1]} \\times n_C^{[l]} + n_C^{[l]} \\\\\n",
    "t^{[l]}_{dim} & = (f^{[l]} \\times f^{[l]} \\times n_C^{[l-1]} + 1) \\times n_C^{[l]}\n",
    "\\end{align}\n",
    "$$"
   ]
  },
  {
   "cell_type": "markdown",
   "id": "44cc1038-eabe-4c38-a405-aeecc3d00fe4",
   "metadata": {},
   "source": [
    "#### Padding Types\n",
    "\n",
    "1. __valid__: No padding applied ($p=0$).\n",
    "2. __same__: Apply padding such that the the output matrix preserves the height and width dimensions of the input matrix. This technique enables the existence of a deeper CNN that doesn't keep shrinking the image after each convolution. It guarantees $n_H^{[l]} = n_H^{[l-1]}$ and $n_W^{[l]} = n_W^{[l-1]}$. Note that $n_C^{[l]}$ and $n_C^{[l-1]}$ may vary as they represent the number of filters applied at their respective layers."
   ]
  },
  {
   "cell_type": "code",
   "execution_count": null,
   "id": "e1abe829-6089-46c2-a3f8-e264cf826436",
   "metadata": {},
   "outputs": [],
   "source": [
    "X = np.random.randint(low=1, high = 9, size=(4,4))\n",
    "for i in range(3):\n",
    "    X_pad = np.pad(X, ((i, i), (i, i)), mode=\"constant\", constant_values = (0, 0))\n",
    "    print(f\"\\nX padding={i} shape{X_pad.shape}\\n{X_pad}\")"
   ]
  },
  {
   "cell_type": "markdown",
   "id": "fa233279-9a88-435a-95d4-9088453b9108",
   "metadata": {},
   "source": [
    "#### Computing Z\n",
    "Unlike MLP inputs, the 2D or 3D matrix is not flattened/unrolled. The formula below describes how to compute a given cell $Z^{[l]}_{m,n}$ of the resulting matrix $Z^{[l]}$. Somewhat similar to an MLP, it is a function of the previous layer's activation matrix $A^{[l-1]}$ and the current layers weight matrix $F^{[l]}$.\n",
    "\n",
    "$$\n",
    "Z^{[l]}_{m,n} = \\sum\\limits^{f^{[l]}_H-1+m}_{i=m} \\sum\\limits^{f^{[l]}_W-1+n}_{j=n} A^{[l-1]}_{i,j} \\cdot F^{[l]}_{i-m, j-n}\n",
    "$$\n",
    "\n",
    "Consider a grayscale ($n_C^{[0]}=1$) input image matrix with shape $n_H^{[0]} \\times n_W^{[0]} = (6,6)$ for a total of 36 pixels. Assuming a filter size of 3 $(f^{[1]}=3)$, the filter matrix has shape $(3,3)$. Valid padding is used ($p^{[1]}=0$) with the minimum stride ($s^{[1]}=1$). The resulting matrix at layer 1 after convolution will have shape $(4,4)$ after computing $n_H^{[1]}$ and $n_W^{[1]}$:\n",
    "\n",
    "$$\n",
    "\\begin{align}\n",
    "n_H^{[1]} & = \\Bigl\\lfloor \\frac{(n_H^{[0]} - f^{[l]}) + (2 \\times p^{[1]})}{s^{[1]}} \\Bigr\\rfloor + 1 \\\\\n",
    "n_H^{[1]} & = \\Bigl\\lfloor \\frac{(6 - 3) + (2 \\times 0)}{1} \\Bigr\\rfloor + 1 = 4\n",
    "\\end{align}\n",
    "$$\n",
    "\n",
    "$$\n",
    "\\begin{align}\n",
    "n_W^{[1]} & = \\Bigl\\lfloor \\frac{(n_W^{[0]} - f^{[l]}) + (2 \\times p^{[1]})}{s^{[1]}} \\Bigr\\rfloor + 1 \\\\\n",
    "n_W^{[1]} & = \\Bigl\\lfloor \\frac{(6 - 3) + (2 \\times 0)}{1} \\Bigr\\rfloor + 1 = 4\n",
    "\\end{align}\n",
    "$$\n",
    "\n",
    "$$\n",
    "Z^{[l]} = \n",
    "\\begin{bmatrix}\n",
    "\\biggl(Z^{[l]}_{0,0} = \\sum\\limits^2_{i=0} \\sum\\limits^2_{j=0} A^{[l-1]}_{i,j} \\cdot F^{[l]}_{i, j}\\biggr) & \n",
    "\\biggl(Z^{[l]}_{0,1} = \\sum\\limits^2_{i=0} \\sum\\limits^3_{j=1} A^{[l-1]}_{i,j} \\cdot F^{[l]}_{i, j-1}\\biggr) &\n",
    "\\biggl(Z^{[l]}_{0,2} = \\sum\\limits^2_{i=0} \\sum\\limits^4_{j=2} A^{[l-1]}_{i,j} \\cdot F^{[l]}_{i, j-2}\\biggr) & \n",
    "\\biggl(Z^{[l]}_{0,3} = \\sum\\limits^2_{i=0} \\sum\\limits^5_{j=3} A^{[l-1]}_{i,j} \\cdot F^{[l]}_{i, j-3}\\biggr) \\\\\n",
    "\\biggl(Z^{[l]}_{1,0} = \\sum\\limits^3_{i=1} \\sum\\limits^2_{j=0} A^{[l-1]}_{i,j} \\cdot F^{[l]}_{i-1, j}\\biggr) & \n",
    "\\biggl(Z^{[l]}_{1,1} = \\sum\\limits^3_{i=1} \\sum\\limits^3_{j=1} A^{[l-1]}_{i,j} \\cdot F^{[l]}_{i-1, j-1}\\biggr) &\n",
    "\\biggl(Z^{[l]}_{1,2} = \\sum\\limits^3_{i=1} \\sum\\limits^4_{j=2} A^{[l-1]}_{i,j} \\cdot F^{[l]}_{i-1, j-2}\\biggr) & \n",
    "\\biggl(Z^{[l]}_{1,3} = \\sum\\limits^3_{i=1} \\sum\\limits^5_{j=3} A^{[l-1]}_{i,j} \\cdot F^{[l]}_{i-1, j-3}\\biggr) \\\\\n",
    "\\biggl(Z^{[l]}_{2,0} = \\sum\\limits^4_{i=2} \\sum\\limits^2_{j=0} A^{[l-1]}_{i,j} \\cdot F^{[l]}_{i-2, j}\\biggr) & \n",
    "\\biggl(Z^{[l]}_{2,1} = \\sum\\limits^4_{i=2} \\sum\\limits^3_{j=1} A^{[l-1]}_{i,j} \\cdot F^{[l]}_{i-2, j-1}\\biggr) &\n",
    "\\biggl(Z^{[l]}_{2,2} = \\sum\\limits^4_{i=2} \\sum\\limits^4_{j=2} A^{[l-1]}_{i,j} \\cdot F^{[l]}_{i-2, j-2}\\biggr) & \n",
    "\\biggl(Z^{[l]}_{2,3} = \\sum\\limits^4_{i=2} \\sum\\limits^5_{j=3} A^{[l-1]}_{i,j} \\cdot F^{[l]}_{i-2, j-3}\\biggr) \\\\\n",
    "\\biggl(Z^{[l]}_{3,0} = \\sum\\limits^5_{i=3} \\sum\\limits^2_{j=0} A^{[l-1]}_{i,j} \\cdot F^{[l]}_{i-3, j}\\biggr) & \n",
    "\\biggl(Z^{[l]}_{3,1} = \\sum\\limits^5_{i=3} \\sum\\limits^3_{j=1} A^{[l-1]}_{i,j} \\cdot F^{[l]}_{i-3, j-1}\\biggr) &\n",
    "\\biggl(Z^{[l]}_{3,2} = \\sum\\limits^5_{i=3} \\sum\\limits^4_{j=2} A^{[l-1]}_{i,j} \\cdot F^{[l]}_{i-3, j-2}\\biggr) & \n",
    "\\biggl(Z^{[l]}_{3,3} = \\sum\\limits^5_{i=3} \\sum\\limits^5_{j=3} A^{[l-1]}_{i,j} \\cdot F^{[l]}_{i-3, j-3}\\biggr) \\\\\n",
    "\\end{bmatrix}\n",
    "$$\n",
    "\n",
    "This concrete example of the previous explanation explains further. The image is a picture of a white plus sign on a gray background. No activation functions are applied for simplicity. It is a 4-bit grayscale image where -8 means black, 7 means white, and values in between are shades of gray. If it were an RGB image, there would be 3 channels ($n_C^{[0]}=3$), each of the same 2D shape $n_H^{[0]} \\times n_W^{[0]} = (6,6)$, with values representing the intensity of red, green, and blue, respectively.\n",
    "\n",
    "$$\n",
    "X = Z^{[0]} =\n",
    "\\begin{bmatrix}\n",
    "0 & 0 & 7 & 7 & 0 & 0 \\\\\n",
    "0 & 0 & 7 & 7 & 0 & 0 \\\\\n",
    "7 & 7 & 7 & 7 & 7 & 7 \\\\\n",
    "7 & 7 & 7 & 7 & 7 & 7 \\\\\n",
    "0 & 0 & 7 & 7 & 0 & 0 \\\\\n",
    "0 & 0 & 7 & 7 & 0 & 0\n",
    "\\end{bmatrix}\n",
    "$$\n",
    "\n",
    "Two filters of shape $(3,3)$ will be applied. All filters applied at a given layer must have the same dimensions. The first filter will detect vertical edges (dark on left, light on right). The second filter will detect horizontal edges (dark on top, light on bottom). The number 3 was chosen to make it easier to visualize when plotting, although other numbers also work.\n",
    "\n",
    "$$\n",
    "F^{[l]}_{vert} = \n",
    "\\begin{bmatrix}\n",
    "3 & 0 & -3 \\\\\n",
    "3 & 0 & -3 \\\\\n",
    "3 & 0 & -3\n",
    "\\end{bmatrix}\n",
    "\\hspace{35pt}F^{[l]}_{horiz} =\n",
    "\\begin{bmatrix}\n",
    "3 & 3 & 3 \\\\\n",
    "0 & 0 & 0 \\\\\n",
    "-3 & -3 & -3\n",
    "\\end{bmatrix}\n",
    "$$\n",
    "\n",
    "The resulting matrix $Z^{[l]}$ will have two channels $(n_C^{[1]}=2)$, one for the result of each filter applied. The final shape of $Z^{[l]}$ will therefore be $(4,4,2)$. The two layers are represented as $Z^{[l]}_{vert}$ for the vertical edge filter result and $Z^{[l]}_{horiz}$ for the horizontal edge filter result. The sharpness of the edge is determined by the difference between adjacent values. The greatest difference occurs along the vertical midpoint division of $Z^{[l]}_{vert}$ and along the horizontal midpoint division of $Z^{[l]}_{horiz}$.\n",
    "\n",
    "$$\n",
    "Z^{[l]}_{vert} = \n",
    "\\begin{bmatrix}\n",
    "-42 & -42 & 42 & 42 \\\\\n",
    "-21 & -21 & 21 & 21 \\\\\n",
    "-21 & -21 & 21 & 21 \\\\\n",
    "-42 & -42 & 42 & 42\n",
    "\\end{bmatrix}\n",
    "\\hspace{35pt}Z^{[l]}_{horiz} =\n",
    "\\begin{bmatrix}\n",
    "-42 & -21 & -21 & -42 \\\\\n",
    "-42 & -21 & -21 & -42 \\\\\n",
    "42 & 21 & 21 & 42 \\\\\n",
    "42 & 21 & 21 & 42\n",
    "\\end{bmatrix}\n",
    "$$\n",
    "\n",
    "The code below demonstrates a simple implementation of the above example. Note that values of $Z^{[l]}$ less than -7 round up to -7 and values greater than 7 round down to 7. The addition of an element-wise bias $b^{[l]}$ is excluded as it doesn't make sense for static, instructive filters. In a real implementation, the bias $b^{[l]}$ is trainable, as are the weights $w^{[l]}$."
   ]
  },
  {
   "cell_type": "code",
   "execution_count": null,
   "id": "4f7017c3-859c-4353-9600-bf81ba9ace79",
   "metadata": {},
   "outputs": [],
   "source": [
    "a007700 = np.array([0, 0, 7, 7, 0, 0])\n",
    "a777777 = np.array([7, 7, 7, 7, 7, 7])\n",
    "X = np.array([a007700, a007700, a777777, a777777, a007700, a007700]) \n",
    "F_vert = np.array([[3, 0, -3], [3, 0, -3], [3, 0, -3]])\n",
    "F_horiz = np.array([[3, 3, 3], [0, 0, 0], [-3, -3, -3]])  # f_vert.T\n",
    "\n",
    "def conv2D(X, F):\n",
    "    X_H, X_W = X.shape\n",
    "    f_H, f_W = F.shape\n",
    "\n",
    "    # Initialize Z based on dimension formula for height/width\n",
    "    Z_H = X_H - f_H + 1\n",
    "    Z_W = X_W - f_W + 1\n",
    "    Z = np.zeros((Z_H, Z_W))\n",
    "\n",
    "    # Update Z[m, n] based on various i,j iterations over X and f\n",
    "    for m in range(Z_H):\n",
    "        for n in range(Z_W):\n",
    "            for i in range(m, f_H + m):  # omitting -1 to include final value\n",
    "                for j in range(n, f_W + n):  # omitting -1 to include final value\n",
    "                    Z[m, n] += X[i, j] * F[i - m, j - n]\n",
    "                    #print(f\"{m=}, {n=}, {i=}, {j=}, X={X[i, j]}, f={F[i - m, j - n]}, Z={Z[m, n]}\")\n",
    "\n",
    "    return Z\n",
    "\n",
    "Z_vert = conv2D(X, F_vert)\n",
    "Z_horiz = conv2D(X, F_horiz)\n",
    "\n",
    "fig, ax = plt.subplots(nrows=1, ncols=5)\n",
    "fig.set_size_inches(12, 4)\n",
    "for axis, name in zip(ax, [\"X\", \"F_vert\", \"F_horiz\", \"Z_vert\", \"Z_horiz\"]):\n",
    "    matrix = locals()[name]\n",
    "    text = f\"{name} {matrix.shape}\"\n",
    "    axis.set_title(text); print(f\"\\n{text}\\n{matrix}\")\n",
    "    axis.imshow(matrix, cmap=\"gray\", vmin=-8, vmax=7)"
   ]
  },
  {
   "cell_type": "markdown",
   "id": "93444117-dfec-4102-b268-72251347f51a",
   "metadata": {},
   "source": [
    "#### Computing dJ/dZ, dJ/dA, dJ/dW, and dJ/db\n",
    "Computing $\\frac{\\partial J}{\\partial Z^{[l]}}$ is the same as an MLP as it requires an element-wise (Hadamard) product between the activation value gradients $\\frac{\\partial J}{\\partial A^{[l]}}$ and the derivative of the activation function $g^{[l]'}(Z^{[l]})$. Unlike MLP, computing $\\frac{\\partial J}{\\partial A^{[l-1]}}$ is not necessary to determine the weight derivatives at layer $l$ but is necessary for backwards propagation calculations at the previous layer. It consists of multiplying a given filter $W_c$ by individual scalar values within $\\frac{\\partial J}{\\partial Z^{[l]}}$, which is the exact same operation as forward propagation in a transverse convolutional layer. Unlike that operation, $A^{[l-1]}$ is required to compute the weights, so the exact code cannot be reused. Computing the weights for a given filter $\\frac{\\partial J}{\\partial W_c^{[l]}}$ multiplies the slice of previous-layer activations $A^{[l-1]}_{slice}$ (used to generate $Z^{[l]}$ during forward propagation) by the comparable values of $\\frac{\\partial J}{\\partial Z^{[l]}}$. Last, computing $\\frac{\\partial J}{\\partial b_c^{[l]}}$, the bias for a given filter, requires summing the values of $\\partial Z^{[l]}$.\n",
    "\n",
    "$$\n",
    "\\begin{align}\n",
    "\\frac{\\partial J}{\\partial Z^{[l]}} & =  \\frac{\\partial J}{\\partial A^{[l]}} \\odot g^{[l]'}(Z^{[l]}) \\\\\n",
    "\\frac{\\partial J}{\\partial A^{[l-1]}} & = \\sum\\limits_{i=1}^{n_H} \\sum\\limits_{j=1}^{n_W} W_c^{[l]} \\odot \\frac{\\partial J}{\\partial Z^{[l]}_{i,j}} \\\\\n",
    "\\frac{\\partial J}{\\partial W_c^{[l]}} & = \\sum\\limits_{i=1}^{n_H} \\sum\\limits_{j=1}^{n_W} A^{[l-1]}_{slice} \\odot \\frac{\\partial J}{\\partial Z^{[l]}_{i,j}}  \\\\\n",
    "\\frac{\\partial J}{\\partial b_c^{[l]}} & = \\sum\\limits_{i=1}^{n_H} \\sum\\limits_{j=1}^{n_W} \\frac{\\partial J}{\\partial Z^{[l]}_{i,j}}\n",
    "\\end{align}\n",
    "$$\n",
    "\n",
    "The matrices below support the example shown in code. Note that `W` is the same as `F` in other contexts, such as those describing forward propagation. Also note that `dZ` replaces `X` (or `A_l1`) in the context of  transposed convolutional forward propagation operations given the reversed directionality. For consistency, `db` is drawn as a matrix with shape $(1,1)$ but in reality, it's a per-filter scalar.\n",
    "\n",
    "$$\n",
    "A^{[l-1]} =\n",
    "\\begin{bmatrix}\n",
    "-1 & 6 & 4 & -1 \\\\\n",
    "2 & 2 & -1 & -2 \\\\\n",
    "-7 & 8 & 2 & 6 \\\\\n",
    "-4 & -2 & -6 & -3\n",
    "\\end{bmatrix}\n",
    "\\hspace{35pt}\\frac{\\partial J}{\\partial Z^{[l]}} =\n",
    "\\begin{bmatrix}\n",
    "-5 & 1 \\\\\n",
    "2 & -2 \n",
    "\\end{bmatrix}\n",
    "\\hspace{35pt}W^{[l]}_c =\n",
    "\\begin{bmatrix}\n",
    "-1 & 0 & 1 \\\\\n",
    "-1 & 0 & 1 \\\\\n",
    "-1 & 0 & 1\n",
    "\\end{bmatrix}\n",
    "$$\n",
    "\n",
    "$$\n",
    "\\frac{\\partial J}{\\partial A^{[l-1]}} =\n",
    "\\begin{bmatrix}\n",
    "-1 & 6 & 4 & -1 \\\\\n",
    "2 & 2 & -1 & -2 \\\\\n",
    "-7 & 8 & 2 & 6 \\\\\n",
    "-4 & -2 & -6 & -3\n",
    "\\end{bmatrix}\n",
    "\\hspace{35pt}\\frac{\\partial J}{\\partial W_c^{[l]}} =\n",
    "\\begin{bmatrix}\n",
    "-11 & -20 & -19 \\\\\n",
    "-38 & 1 & -5 \\\\\n",
    "39 & -30 & -10\n",
    "\\end{bmatrix}\n",
    "\\hspace{35pt}\n",
    "\\frac{\\partial J}{\\partial b_c^{[l]}} =\n",
    "\\begin{bmatrix}\n",
    "-4\n",
    "\\end{bmatrix}\n",
    "$$"
   ]
  },
  {
   "cell_type": "code",
   "execution_count": null,
   "id": "e69983f2-26f4-4f59-9ccc-6d547af2fcd0",
   "metadata": {},
   "outputs": [],
   "source": [
    "A_l1 = np.array([[-1, 6, 4, -1], [2, 2, -1, -2], [-7, 8, 2, 6], [-4, -2, -6, -3]])\n",
    "dZ = np.array([[-5, 1], [2, -2]])\n",
    "W = np.array([[-1, 0, 1], [-1, 0, 1], [-1, 0, 1]]) # F_vert\n",
    "\n",
    "dA_l1 = np.zeros((A_l1.shape)) \n",
    "nH, nW = dZ.shape\n",
    "dW = np.zeros(W.shape)\n",
    "db = np.zeros((1, 1))\n",
    "\n",
    "# Update derivatives based on various i,j iterations over dZ\n",
    "for i in range(nH):\n",
    "    for j in range(nW):\n",
    "            vs = i * s; ve = vs + W.shape[0]\n",
    "            hs = j * s; he = hs + W.shape[1]\n",
    "            dA_l1[vs:ve, hs:he] += W * dZ[i, j]  # same logic as transconv forward prop\n",
    "            dW += A_l1[vs:ve, hs:he] * dZ[i, j]\n",
    "            db += dZ[i, j]\n",
    "\n",
    "fig, ax = plt.subplots(nrows=1, ncols=3)\n",
    "fig.set_size_inches(12, 4)\n",
    "for axis, name in zip(ax, [\"dA_l1\", \"dW\", \"db\"]):\n",
    "    matrix = locals()[name]\n",
    "    text = f\"{name} {matrix.shape}\"\n",
    "    axis.set_title(text); print(f\"\\n{text}\\n{matrix}\")\n",
    "    axis.imshow(matrix, cmap=\"gray\", vmin=-8, vmax=7)"
   ]
  },
  {
   "cell_type": "markdown",
   "id": "5d1d17b2-2f04-4c70-92b3-8c015f9534f9",
   "metadata": {},
   "source": [
    "### Pooling Layer (POOL)"
   ]
  },
  {
   "cell_type": "markdown",
   "id": "2878e59e-6674-4ba7-94ce-3ea7d740a0ce",
   "metadata": {},
   "source": [
    "#### Overview\n",
    "Pooling is a mechanism to decrease the height and width of a matrix (downsample) by reducing all cells under the corresponding filter to a single value."
   ]
  },
  {
   "cell_type": "markdown",
   "id": "d227b64c-dc58-441f-a910-44a3f029ddd8",
   "metadata": {},
   "source": [
    "#### Computing Z\n",
    "In a convolutional layer, multiple filters (feature selectors) can be applied. Each one is represented as a channel in the output matrix $Z^{[l]}$. Those filters always have the same depth as the input matrix $Z^{[l-1]}$. In contrast, pooling filters are always 2D matrices. They are applied individually to each channel of the input matrix $Z^{[l-1]}$, resulting in an output matrix $Z^{[l]}$ that has the same number of channels. As it relates to the output matrix $Z^{[l-1]}$, \"network in network\" filters of shape $(1,1,n_C^{[l-1]})$ can only shrink the number of channels $n_C^{[l]}$ while pooling can only shrink the height $n_H^{[l]}$ and width $n_H^{[l]}$. The techniques can powerfully combine to reform matrices within the network.\n",
    "\n",
    "Pooling layers seldom use padding ($p^{[l]}=0$), although Inception networks are an exception, which is discussed later. This reduces the convolutional dimension equations to the following:\n",
    "\n",
    "$$\n",
    "\\begin{align}\n",
    "n_H^{[l]} & = \\Bigl\\lfloor \\frac{n_H^{[l-1]} - f^{[l]}}{s^{[l]}} \\Bigr\\rfloor + 1 \\\\\n",
    "n_W^{[l]} & = \\Bigl\\lfloor \\frac{n_W^{[l-1]} - f^{[l]}}{s^{[l]}} \\Bigr\\rfloor + 1 \\\\\n",
    "n_C^{[l]} & = n_C^{[l-1]}\n",
    "\\end{align}\n",
    "$$\n",
    "\n",
    "Additionally, pooling does not have any trainable parameters. It has hyperparameters for the filter size $f^{[l]}$, stride $s^{[l]}$, and type of pooling. The two most commonly pooling types are described below:\n",
    "\n",
    "1.  __max__: \"Max pooling\" examines all input matrix $A^{[l-1]}$ cells within the filter's window. It then assigns the maximum value to the proper position in the output matrix $Z^{[l]}_{m,n}$. This technique tends to highlight key aspects with a given window while discarding less important aspects.\n",
    "\n",
    "2.  __average__: \"Average pooling\" examines all input matrix $A^{[l-1]}$ cells within the filter's window. It then assigns the mean (average) value to the proper position in the output matrix $Z^{[l]}_{m,n}$. This technique tends to equally summarize all of the cells within the filter's window.\n",
    "\n",
    "Because there are no trainable parameters for pooling layers, they are often considered \"part\" of the previous convolutional layers in literature. This document treats pooling as a separate layer to be consistent with a notation used for documenting MLP. Pooling layers also have their own formulas for backward propagation. This is only for the benefit of previous layers given the lack of trainable parameters.\n",
    "\n",
    "The code below demonstrates pooling using an input matrix similar to the previous example. Some shades of gray have been changed to differentiate between the types of pooling. Also, the stride is set to the filter size to eliminate any overlap of cell processing. This technique is not required, but is demonstrated for technical variety. Given an input matrix $X=Z^{[0]}$ of shape $(6,6)$, a pooling filter $f^{[l]}$ of shape $(2,2)$, and a stride $s^{[l]}$ of 2, the resulting matrix $Z^{[1]}$ will have shape $(3,3)$."
   ]
  },
  {
   "cell_type": "code",
   "execution_count": null,
   "id": "b093938e-952d-40c7-a0a4-0dda32b125a6",
   "metadata": {},
   "outputs": [],
   "source": [
    "a007700 = np.array([0, 0, 7, 7, 0, 0])\n",
    "a373573 = np.array([3, 7, 3, 5, 7, 3])\n",
    "X = np.array([a007700, a007700, a373573, a373573, a007700, a007700])\n",
    "f_size = 2\n",
    "print(f\"f_size: {f_size}\")\n",
    "\n",
    "def pool2D(X, f_size, pool_func):\n",
    "\n",
    "    s = f_size\n",
    "    X_H, X_W = X.shape\n",
    "\n",
    "    # Initialize Z based on number of times filter fits\n",
    "    Z_H = X_H // f_size\n",
    "    Z_W = X_W // f_size\n",
    "    Z = np.zeros((Z_H, Z_W))\n",
    "\n",
    "    # Update Z[m, n] based on various i,j iterations over X and f\n",
    "    for m in range(Z_H):\n",
    "        for n in range(Z_W):\n",
    "            for i in range(m, f_size + m, s):  # omitting -1 to include final value\n",
    "                for j in range(n, f_size + n, s):  # omitting -1 to include final value\n",
    "                    Z[m, n] = pool_func(X[i * s:i * s + f_size, j * s:j * s + f_size])\n",
    "                    # print(f\"{m=}, {n=}, {i=}, {j=}, X={X[i, j]}, Z={Z[m, n]}\")\n",
    "    return Z\n",
    "\n",
    "Z_max = pool2D(X, f_size, np.max)\n",
    "Z_avg = pool2D(X, f_size, np.mean)\n",
    "\n",
    "fig, ax = plt.subplots(nrows=1, ncols=3)\n",
    "fig.set_size_inches(12, 4)\n",
    "for axis, name in zip(ax, [\"X\", \"Z_max\", \"Z_avg\"]):\n",
    "    matrix = locals()[name]\n",
    "    text = f\"{name} {matrix.shape}\"\n",
    "    axis.set_title(text); print(f\"\\n{text}\\n{matrix}\")\n",
    "    axis.imshow(matrix, cmap=\"gray\", vmin=-8, vmax=7)"
   ]
  },
  {
   "cell_type": "markdown",
   "id": "8570a564-173d-4988-849c-a34136231882",
   "metadata": {},
   "source": [
    "#### Computing dJ/dA given dJ/dZ\n",
    "For max pooling, only the largest value contributes to the overall cost. The remaining activations should have a gradient of 0. A bit mask representing the position of the maximum values from $A^{[l-1]}$ is multiplied by $\\frac{\\partial J}{\\partial Z^{[l]}}$ to form $\\frac{\\partial J}{\\partial A^{[l-1]}}$. This matrix has the same shape as $A^{[l-1]}$.\n",
    "\n",
    "$$\n",
    "A^{[l-1]} =\n",
    "\\begin{bmatrix}\n",
    "-1 & 6 & 4 & -1 \\\\\n",
    "2 & 2 & -1 & -2 \\\\\n",
    "-7 & 8 & 2 & 6 \\\\\n",
    "-4 & -2 & -6 & -3\n",
    "\\end{bmatrix}\n",
    "\\rightarrow \\text{maxpool(s=2,f=2)} \\rightarrow\n",
    "Z^{[l]} =\n",
    "\\begin{bmatrix}\n",
    "6 & 4 \\\\\n",
    "8 & 6\n",
    "\\end{bmatrix}\n",
    "$$\n",
    "\n",
    "$$\n",
    "\\frac{\\partial J}{\\partial A^{[l-1]}} =\n",
    "\\begin{bmatrix}\n",
    "0 & -5 & 1 & 0 \\\\\n",
    "0 & 0 & 0 & 0 \\\\\n",
    "0 & 2 & 0 & -2 \\\\\n",
    "0 & 0 & 0 & 0\n",
    "\\end{bmatrix}\n",
    "\\leftarrow\\\n",
    "A^{[l-1]}_{mask} =\n",
    "\\begin{bmatrix}\n",
    "0 & 1 & 1 & 0 \\\\\n",
    "0 & 0 & 0 & 0 \\\\\n",
    "0 & 1 & 0 & 1 \\\\\n",
    "0 & 0 & 0 & 0\n",
    "\\end{bmatrix}\n",
    "\\leftarrow\n",
    "\\frac{\\partial J}{\\partial Z^{[l]}} =\n",
    "\\begin{bmatrix}\n",
    "-5 & 1 \\\\\n",
    "2 & -2\n",
    "\\end{bmatrix}\n",
    "$$\n",
    "\n",
    "For average pooling, the flow is similar, except the bit mask is replaced by an even distribution across the values of $\\frac{\\partial J}{\\partial Z^{[l]}}$. The shape of this distribution matrix is the same shape as the filter. Given a filter with height $f_H=2$ and width $f_W=2$, the distribution matrix values all become $\\frac{1}{f_H \\cdot f_W} = \\frac{1}{4}$. This is then multiplied by values of $\\frac{\\partial J}{\\partial Z^{[l]}}$ to form $\\frac{\\partial J}{\\partial A^{[l-1]}}$.\n",
    "\n",
    "$$\n",
    "A^{[l-1]} =\n",
    "\\begin{bmatrix}\n",
    "-1 & 6 & 4 & -1 \\\\\n",
    "2 & 2 & -1 & -2 \\\\\n",
    "-7 & 8 & 2 & 6 \\\\\n",
    "-4 & -2 & -6 & -3\n",
    "\\end{bmatrix}\n",
    "\\rightarrow \\text{avgpool(s=2,f=2)} \\rightarrow\n",
    "Z^{[l]} =\n",
    "\\begin{bmatrix}\n",
    "2.25 & 0 \\\\\n",
    "-1.25 & -0.25\n",
    "\\end{bmatrix}\n",
    "$$\n",
    "\n",
    "$$\n",
    "\\frac{\\partial J}{\\partial A^{[l-1]}} =\n",
    "\\begin{bmatrix}\n",
    "-1.25 & -1.25 & 0.25 & 0.25 \\\\\n",
    "-1.25 & -1.25 & 0.25 & 0.25 \\\\\n",
    "0.5 & 0.5 & -0.5 & -0.5 \\\\\n",
    "0.5 & 0.5 & -0.5 & -0.5\n",
    "\\end{bmatrix}\n",
    "\\leftarrow\\\n",
    "\\frac{\\partial J}{\\partial Z^{[l]}_{dist}} =\n",
    "\\begin{bmatrix}\n",
    "0.25 & 0.25 \\\\\n",
    "0.25 & 0.25\n",
    "\\end{bmatrix}\n",
    "\\leftarrow\n",
    "\\frac{\\partial J}{\\partial Z^{[l]}} =\n",
    "\\begin{bmatrix}\n",
    "-5 & 1 \\\\\n",
    "2 & -2\n",
    "\\end{bmatrix}\n",
    "$$"
   ]
  },
  {
   "cell_type": "code",
   "execution_count": null,
   "id": "0c10a5d5-2ae2-44cc-aa4a-5b1f703ed801",
   "metadata": {},
   "outputs": [],
   "source": [
    "# Forward prop activations from previous layer (via cache) and backprop dJ/dZ are inputs\n",
    "A_l1 = np.array([[-1, 6, 4, -1], [2, 2, -1, -2], [-7, 8, 2, 6], [-4, -2, -6, -3]])\n",
    "dZ = np.array([[-5, 1], [2, -2]])\n",
    "nH, nW = dZ.shape\n",
    "s, f = 2, 2\n",
    "\n",
    "dA_l1_dict = {\"max\": np.zeros(A_l1.shape), \"avg\": np.zeros(A_l1.shape)}\n",
    "\n",
    "fig, ax = plt.subplots(nrows=1, ncols=3)\n",
    "fig.set_size_inches(12, 4)\n",
    "print(f\"dZ\\n{dZ}\\n\")\n",
    "print(f\"A_l1\\n{A_l1}\\n\")\n",
    "ax[0].set_title(\"$A^{[l-1]}$ \" + str(A_l1.shape))\n",
    "ax[0].imshow(A_l1, cmap=\"gray\", vmin=-8, vmax=7)\n",
    "\n",
    "for (mode, dA_l1), axis in zip(dA_l1_dict.items(), ax[1:]):\n",
    "\n",
    "    # Loop over each element of dZ\n",
    "    for i in range(nH):\n",
    "        for j in range(nW):\n",
    "            vs = i * s; ve = vs + f\n",
    "            hs = j * s; he = hs + f\n",
    "            A_l1_slice = A_l1[vs:ve, hs:he]\n",
    "\n",
    "            # Compute binary mask matrix of shape (f,f)\n",
    "            if mode == \"max\":\n",
    "                mask = (A_l1_slice == np.max(A_l1_slice))\n",
    "\n",
    "            # Compute mask value (scalar float)\n",
    "            elif mode == \"avg\":\n",
    "                mask = 1 / (f**2)\n",
    "\n",
    "            # Add product of mask (max or avg) and dZ values to dA_l1.\n",
    "            dA_l1[vs:ve, hs:he] += mask * dZ[i, j]\n",
    "        \n",
    "    print(f\"dA_l1 {mode}\\n{dA_l1}\\n\")\n",
    "    axis.set_title(\"$dJ/dA^{[l-1]}$ \" + f\"{mode} {dA_l1.shape}\")\n",
    "    axis.imshow(dA_l1, cmap=\"gray\", vmin=-8, vmax=7)"
   ]
  },
  {
   "cell_type": "markdown",
   "id": "21c602e3-1c72-44c8-bfa8-c7a20fd0f445",
   "metadata": {},
   "source": [
    "### Fully Connected Layer (FC)"
   ]
  },
  {
   "cell_type": "markdown",
   "id": "997a7f2e-521d-4ebb-a0f9-ec9d9559a457",
   "metadata": {},
   "source": [
    "#### Overview\n",
    "This is a \"dense\" layer resembling those within an MLP. The input features must be unrolled/flattened, effectively applying: $n_H^{[l]} \\times n_W^{[l]} \\times n_C^{[l]} = n^{[l]}$. These are typically introduced towards the end of the CNN to make classification predictions, either binary classifications (sigmoid) or multiple classifications (softmax). By this point in the network, the number of units per layer is relatively small, such as on the order of hundreds rather than thousands. This is significantly reduces the dimensions of the weights $W^{[l]}$ and biases $b^{[l]}$ at these dense layers."
   ]
  },
  {
   "cell_type": "markdown",
   "id": "4df63d33-bd4e-4dff-a56b-4d222138efc4",
   "metadata": {},
   "source": [
    "### Tranpose Convolution (TRANSCONV)"
   ]
  },
  {
   "cell_type": "markdown",
   "id": "488ee2b0-969b-4e64-acec-63d83cbe25e8",
   "metadata": {},
   "source": [
    "#### Overview\n",
    "Valid-padded convolution and pooling techniques tend to decrease the height and width of volume while increasing the number of channels (depth). Transpose convolution, sometimes called de-convolution or un-convolution, reverses this process. This is useful when implementing __semantic segmentation__, enabling precise per-pixel classifications rather than using boundary boxes or landmarks. The U-Net architecture makes extensive use of this technique."
   ]
  },
  {
   "cell_type": "markdown",
   "id": "64564d12-a62f-48c4-bdbe-698db0ee08c6",
   "metadata": {},
   "source": [
    "#### Computing Z\n",
    "Each value of the previous layer's activations $A^{[l-1]}$ are multiplied by all of the filter's values in element-wise (broadcasted) fashion, resulting in a new matrix of shape $(f^{[l]}, f^{[l]})$, the same as the filter. This new matrix is overlaid onto $Z^{[l]}$ based on the stride and padding configured. If padding is applied, the padded cells surrounding $Z^{[l]}$ act as sinks. Those cells are only used for alignment with the projected matrix, but don't retain any values. The example below assumes valid padding $(p^{[l]}=0)$ with the minimum stride $(s^{[l]}=1)$.\n",
    "\n",
    "Let $F$ be the filter matrix at layer $l$ of shape $(f^{[l]}, f^{[l]})$. Let $A^m_n=A^{[l-1]}_{m,n}$ to represent the previous layer's activations at a specific cell at row $m$ and column $n$, starting at 0. Assume $A$ has shape $(2,2)$. Both notations are compressed due to page width limitations. The values in the corners are visited once, those on the edges twice, and those in the center 4 times. An interesting property of this generic matrix is that the sum of the superscripts (row) and subscripts (column) for each $A \\cdot F$ quantity equals the cell location of $Z$. For example, at $Z_{1,1}$ there are 4 quantities that comprise the cell's value:\n",
    "\n",
    "1. $A^0_0 \\cdot F^1_1$: $0,0 + 1,1 = 1,1$\n",
    "2. $A^0_1 \\cdot F^1_0$: $0,1 + 1,0 = 1,1$\n",
    "3. $A^1_0 \\cdot F^0_1$: $1,0 + 0,1 = 1,1$\n",
    "4. $A^1_1 \\cdot F^0_0$: $1,1 + 0,0 = 1,1$\n",
    "\n",
    "$$\n",
    "A^{[l-1]} = A^{row}_{col} =\n",
    "\\begin{bmatrix}\n",
    "A^0_0 & A^0_1 \\\\\n",
    "A^1_0 & A^1_1\n",
    "\\end{bmatrix}\n",
    "\\hspace{35pt}F^{[l]} = F^{row}_{col} =\n",
    "\\begin{bmatrix}\n",
    "F^0_0 & F^0_1 & F^0_2 \\\\\n",
    "F^1_0 & F^1_1 & F^1_2 \\\\\n",
    "F^2_0 & F^2_1 & F^2_2\n",
    "\\end{bmatrix}\n",
    "$$\n",
    "\n",
    "$$\n",
    "Z^{[l]} =\n",
    "\\begin{bmatrix}\n",
    "% first row\n",
    "(A^0_0 \\cdot F^0_0) &\n",
    "(A^0_0 \\cdot F^0_1 + A^0_1 \\cdot F^0_0) &\n",
    "(A^0_0 \\cdot F^0_2 + A^0_1 \\cdot F^0_1) &\n",
    "(A^0_1 \\cdot F^0_2) \\\\\n",
    "% second row\n",
    "(A^0_0 \\cdot F^1_0 + A^1_0 \\cdot F^0_0) &\n",
    "(A^0_0 \\cdot F^1_1 + A^0_1 \\cdot F^1_0 + A^1_0 \\cdot F^0_1 + A^1_1 \\cdot F^0_0) &\n",
    "(A^0_0 \\cdot F^1_2 + A^0_1 \\cdot F^1_1 + A^1_0 \\cdot F^0_2 + A^1_1 \\cdot F^0_1) &\n",
    "(A^0_1 \\cdot F^1_2 + A^1_1 \\cdot F^0_2) \\\\\n",
    "% third row\n",
    "(A^0_0 \\cdot F^2_0 + A^1_0 \\cdot F^1_0) &\n",
    "(A^0_0 \\cdot F^2_1 + A^0_1 \\cdot F^2_0 + A^1_0 \\cdot F^1_1 + A^1_1 \\cdot F^1_0) &\n",
    "(A^0_0 \\cdot F^2_2 + A^0_1 \\cdot F^2_1 + A^1_0 \\cdot F^1_2 + A^1_1 \\cdot F^1_1) &\n",
    "(A^0_1 \\cdot F^2_2 + A^1_1 \\cdot F^1_2) \\\\\n",
    "% fourth row\n",
    "(A^1_0 \\cdot F^2_0) &\n",
    "(A^1_0 \\cdot F^2_1 + A^1_1 \\cdot F^2_0) &\n",
    "(A^1_0 \\cdot F^2_2 + A^1_1 \\cdot F^2_1) &\n",
    "(A^1_1 \\cdot F^2_2) \\\\\n",
    "\\end{bmatrix}\n",
    "$$\n",
    "\n",
    "This formula is a good approximation of the aforementioned algorithm. The logic is similar to computing $\\frac{\\partial J}{\\partial A^{[l-1]}}$ for a regular convolutional layer during backwards propagation. The difference is that $Z^{[l]}$, initialized to all zeros, is updated by the element-wise product of the filter $F^{[l]}$ and previous layer's activation values at a given cell $A^{[l-1]}_{i,j}$. These cells were depicted as $A^i_j$ above.\n",
    "\n",
    "$$\n",
    "Z^{[l]} \\mathrel{+}= \\sum\\limits_{i=1}^{n^{[l-1]}_H} \\sum\\limits_{j=1}^{n^{[l-1]}_W} F^{[l]} \\odot A^{[l-1]}_{i,j}\n",
    "$$\n",
    " \n",
    "The specific example implemented in the following code is depicted below using the same 16-bit grayscale method seen in previous examples.\n",
    "\n",
    "$$\n",
    "X =\n",
    "\\begin{bmatrix}\n",
    "0 & 4 \\\\\n",
    "0 & 4\n",
    "\\end{bmatrix}\n",
    "\\hspace{35pt}F^{[1]}_{vert}  =\n",
    "\\begin{bmatrix}\n",
    "-1 & 0 & 1 \\\\\n",
    "-1 & 0 & 1 \\\\\n",
    "-1 & 0 & 1\n",
    "\\end{bmatrix}\n",
    "\\hspace{35pt}Z^{[1]}_{vert} =\n",
    "\\begin{bmatrix}\n",
    "0 & -4 & 0 & 4 \\\\\n",
    "0 & -8 & 0 & 8 \\\\\n",
    "0 & -8 & 0 & 8 \\\\\n",
    "0 & -4 & 0 & 4\n",
    "\\end{bmatrix}\n",
    "\\hspace{35pt}F^{[1]}_{horiz}  =\n",
    "\\begin{bmatrix}\n",
    "-1 & -1 & -1 \\\\\n",
    "0 & 0 & 0 \\\\\n",
    "1 & 1 & 1\n",
    "\\end{bmatrix}\n",
    "\\hspace{35pt}Z^{[1]}_{horiz} =\n",
    "\\begin{bmatrix}\n",
    "0 & -4 & -4 & -4 \\\\\n",
    "0 & -4 & -4 & -4 \\\\\n",
    "0 & 4 & 4 & 4 \\\\\n",
    "0 & 4 & 4 & 4\n",
    "\\end{bmatrix}\n",
    "$$"
   ]
  },
  {
   "cell_type": "code",
   "execution_count": null,
   "id": "eb9c7539-e8ed-40db-86ee-4ac89ccbcbf2",
   "metadata": {},
   "outputs": [],
   "source": [
    "X = np.array([[0, 4], [0, 4]])\n",
    "F_vert = np.array([[-1, 0, 1], [-1, 0, 1], [-1, 0, 1]])\n",
    "F_horiz = np.array([[-1, -1, -1], [0, 0, 0], [1, 1, 1]])\n",
    "\n",
    "def transconv2D(X, F):\n",
    "    fh, fw = F.shape\n",
    "    xh, xw = X.shape\n",
    "    Z = np.zeros((xh + fh - 1, xw + fw - 1))\n",
    "    for i in range(xh):\n",
    "        for j in range(xw):\n",
    "            Z[i: i + fh, j: j + fw] += X[i, j] * F\n",
    "    return Z\n",
    "\n",
    "Z_vert = transconv2D(X,F_vert)\n",
    "Z_horiz = transconv2D(X,F_horiz)\n",
    "\n",
    "fig, ax = plt.subplots(nrows=1, ncols=5)\n",
    "fig.set_size_inches(12, 4)\n",
    "for axis, name in zip(ax, [\"X\", \"F_vert\", \"Z_vert\", \"F_horiz\", \"Z_horiz\"]):\n",
    "    matrix = locals()[name]\n",
    "    text = f\"{name} {matrix.shape}\"; print(f\"\\n{text}\\n{matrix}\")\n",
    "    axis.set_title(text)\n",
    "    axis.imshow(matrix, cmap=\"gray\", vmin=-8, vmax=7)"
   ]
  },
  {
   "cell_type": "markdown",
   "id": "2f69ec62-32df-4270-8fee-73fd1ccbb80d",
   "metadata": {},
   "source": [
    "#### Computing dJ/dA given dJ/dZ\n",
    "\n",
    "Just as the forward propagation step of computing Z in a transpose convolutional layer is similar to the backwards propagation step of computing dA, so too is the reverse. Given $\\frac{\\partial J}{\\partial Z^{[l]}}$, apply the forward propagation convolutional layer step to get $\\frac{\\partial J}{\\partial A^{[l-1]}}$.\n",
    "\n",
    "$$\n",
    "\\frac{\\partial J}{\\partial A^{[l-1]}_{m,n}} = \\sum\\limits^{f^{[l]}_H-1+m}_{i=m} \\sum\\limits^{f^{[l]}_W-1+n}_{j=n}\n",
    "\\frac{\\partial J}{\\partial Z^{[l]}_{i,j}} \\odot F^{[l]}_{i-m, j-n}\n",
    "$$\n",
    "\n",
    "__TODO__: What about weights and biases? Are they trainable here?"
   ]
  },
  {
   "cell_type": "markdown",
   "id": "ccb789d2-b4d3-4a01-b05f-e70cd6b88638",
   "metadata": {},
   "source": [
    "### Object Detection"
   ]
  },
  {
   "cell_type": "markdown",
   "id": "3aa1617e-d9a5-43f9-8309-1104ac7ca89d",
   "metadata": {},
   "source": [
    "#### Overview\n",
    "This section discusses algorithms and strategies for detecting objects within an image using bounding boxes, landmarks, and more. Identifying the specific area occupied by an object of interest it is sometimes called __localization__."
   ]
  },
  {
   "cell_type": "markdown",
   "id": "c28b0530-4459-433a-ae92-fc91ac3d2e58",
   "metadata": {},
   "source": [
    "#### Bounding Boxes and Landmarks\n",
    "When training a CNN, the basic structure of $Y$ changes. A __bounding box__ attempts to draw a rectangle around the object of interest .For a binary classification problem, there are 5 values for each $y^{(m)}$ column vector. $P_c$, short for \"probability of classification\", is the sigmoid activation output to determine whether the object of interest is contained in the image or not. The next 4 values determine the rectangle's shape. $b_x$ and $b_y$ represent the position at the center of the box relative to the image sized, scaled to values between 0 and 1. $b_h$ and $b_w$ measure the ratio of the bounding box compared to image size. For example, a tall and skinny object (like a person) will occupy a larger share of the image's height compared to its width assuming the image with square-shaped.\n",
    "\n",
    "$$\n",
    "y_{singleclass} (5, m) =\n",
    "\\begin{bmatrix}\n",
    "y^{(1)}_{P_c} & y^{(2)}_{P_c} & \\cdots & y^{(m)}_{P_c} \\\\\n",
    "y^{(1)}_{b_x} & y^{(2)}_{b_x} & \\cdots & y^{(m)}_{b_x} \\\\\n",
    "y^{(1)}_{b_y} & y^{(2)}_{b_y} & \\cdots & y^{(m)}_{b_y} \\\\\n",
    "y^{(1)}_{b_h} & y^{(2)}_{b_h} & \\cdots & y^{(m)}_{b_h} \\\\\n",
    "y^{(1)}_{b_w} & y^{(2)}_{b_w} & \\cdots & y^{(m)}_{b_w}\n",
    "\\end{bmatrix}\n",
    "$$\n",
    "\n",
    "If there are multiple classes, additional class variables are neede to specify the type of object contained in the bounding box. If there are 3 classes (e.g., cat, dog, human), then let $k=3$. Thus, $k$ extra class probabilities are appended to $y^{(m)}$. Now, $P_c$ only answers the question as to whether there are any objects of interest in the image. The matrix below generalizes the structure.\n",
    "\n",
    "$$\n",
    "y_{multiclass} (5 + k, m) =\n",
    "\\begin{bmatrix}\n",
    "y^{(1)}_{P_c} & y^{(2)}_{P_c} & \\cdots & y^{(m)}_{P_c} \\\\\n",
    "y^{(1)}_{b_x} & y^{(2)}_{b_x} & \\cdots & y^{(m)}_{b_x} \\\\\n",
    "y^{(1)}_{b_y} & y^{(2)}_{b_y} & \\cdots & y^{(m)}_{b_y} \\\\\n",
    "y^{(1)}_{b_h} & y^{(2)}_{b_h} & \\cdots & y^{(m)}_{b_h} \\\\\n",
    "y^{(1)}_{b_w} & y^{(2)}_{b_w} & \\cdots & y^{(m)}_{b_w} \\\\\n",
    "y^{(1)}_{P_{c1}} & y^{(2)}_{P_{c1}} & \\cdots & y^{(m)}_{P_{c1}} \\\\\n",
    "y^{(1)}_{P_{c2}} & y^{(2)}_{P_{c2}} & \\cdots & y^{(m)}_{P_{c2}} \\\\\n",
    "\\vdots & \\vdots & \\ddots & \\vdots \\\\\n",
    "y^{(1)}_{P_{ck}} & y^{(2)}_{P_{ck}} & \\cdots & y^{(m)}_{P_{ck}}\n",
    "\\end{bmatrix}\n",
    "$$\n",
    "\n",
    "A less common alternative to bounding boxes is __landmarks__. These are specific points on the image specified by $(x,y)$ position relative to the image, similar to the center of a bounding box. Note that when training a CNN with landmark labels, the landmarks specified in $Y$ must be consistently positioned. For example, the first landmark $l_1$ must always be above the left eye, while the second landmark $l_2$ must always be above the right eye. Now, the length of each $y^{(m)}$ column vector becomes a function of both of the number of classes $k$ and the number of two-value landmarks $2l$. Landmarks are often used to modify or enhance images, like adding a \"hat\" or \"sunglasses\" filter on a picture-sharing app.\n",
    "\n",
    "$$\n",
    "y_{multiclass} (1 + 2l + k, m) =\n",
    "\\begin{bmatrix}\n",
    "y^{(1)}_{P_c} & y^{(2)}_{P_c} & \\cdots & y^{(m)}_{P_c} \\\\\n",
    "y^{(1)}_{l_{1x}} & y^{(2)}_{l_{1x}} & \\cdots & y^{(m)}_{l_{1x}} \\\\\n",
    "y^{(1)}_{l_{1y}} & y^{(2)}_{l_{1y}} & \\cdots & y^{(m)}_{l_{1y}} \\\\\n",
    "y^{(1)}_{l_{2x}} & y^{(2)}_{l_{2x}} & \\cdots & y^{(m)}_{l_{2x}} \\\\\n",
    "y^{(1)}_{l_{2y}} & y^{(2)}_{l_{2y}} & \\cdots & y^{(m)}_{l_{2y}} \\\\\n",
    "\\vdots & \\vdots & \\ddots & \\vdots \\\\\n",
    "y^{(1)}_{P_{c1}} & y^{(2)}_{P_{c1}} & \\cdots & y^{(m)}_{P_{c1}} \\\\\n",
    "y^{(1)}_{P_{c2}} & y^{(2)}_{P_{c2}} & \\cdots & y^{(m)}_{P_{c2}} \\\\\n",
    "\\vdots & \\vdots & \\ddots & \\vdots \\\\\n",
    "y^{(1)}_{P_{ck}} & y^{(2)}_{P_{ck}} & \\cdots & y^{(m)}_{P_{ck}}\n",
    "\\end{bmatrix}\n",
    "$$\n",
    "\n",
    "Note that when $P_c=0$, none of the other values matter. There are no bounding boxes to draw or landmarks to identify. Since the image contains no objects of interest, the probabilities for the individual classes ${P_{ck}}$ also don't matter. The CNN will ignore these values on input during training (evaluating $Y$) and will use random noise as output when making predictions (generating $\\hat{Y}$)\n",
    "\n",
    "With respect to cost functions, a hybrid approach is sometimes used. Although mean squared error (MSE) will likely perform tolerably if used across all of $y^{(m)}$, it is common to use a cross entropy variant for the probability values. If $P_c=0$ on a training example, only the loss between $P_c$ components of $Y$ and $\\hat{Y}$ matter, much like logistic regression, because the other values are noise."
   ]
  },
  {
   "cell_type": "markdown",
   "id": "ca77915e-9e67-4ea9-9d72-f1931e80c546",
   "metadata": {},
   "source": [
    "#### Sliding Window\n",
    "This algorithm uses a filter (the sliding window) that pan an image, similar to the motion of a convolutional filter.  In order to determine whether the object under the sliding window matches the object of interest, you typically train a CNN using closely-cropped images, containing those objects of interest. That CNN will make predictions for each sub-image under the sliding window. If the desired object is seen within that filter, the algorithm returns 1, otherwise it returns 0. This process repeats with different values of $f$ to control filter size and $s$ to control stride size.\n",
    "\n",
    "This process is computationally expensive given that the CNN must make many predictions for every sub-image under many variable-sized sliding windows. One optimization is to replace the fully-connected layers with convolutional layers. To do that, set the number of filters is equal to the number of units previously contained in the fully-connected layer ($n_C^{[l]}$). Also, set the height and width of the filters equal to the dimensions of the previous layer's outputs $(f_H^{[l]} = n_H^{[l-1]}, f_W^{[l]} = n_W^{[l-1]})$. This yields an output of shape $(1,1,n_C^{[l]})$, which closely resembles the shape of the fully-connected layer. This is more computationally efficient as it shares computations better when sliding window regions overlap. Said another way, the filter doesn't iteratively \"pan and compute\" in isolation using a convolutional layer."
   ]
  },
  {
   "cell_type": "markdown",
   "id": "410ec3e2-d97f-44e1-9475-63834f8fd478",
   "metadata": {},
   "source": [
    "#### You Only Look Once (YOLO)\n",
    "This algorithm breaks an image into a grid, make it easier to identify precise bounding boxes for objects of interest detected. Objects within the image are assigned to a single cell within the grid. The upper left corner of the image is considered the origin at position $(0,0)$ in the lower right is position $(1,1)$. This way, all positional values are between 0 and 1. Supposing there are 3 possible classes of interesting objects, the training labels for a grid cell will have 8 elements to account for the probability of any object of interest being present in the grid cell ($P_c$), the bounding box location measurements $(b_x, b_y, b_h, b_w)$, and the probabilities of each class $(P_{c1}, P_{c2}, P_{c3})$. These per-class probabilities are typically one-hot encoded for training, better aligning to the softmax-like probabilities generated for each class during prediction. This process operates on a per grid cell basis, so supposing the grid was $10 \\times 10$, each input image would be represented by 100 vectors of length 8. The output volume's shape from the algorithm would therefore be $(10,10,8)$.\n",
    "\n",
    "To evaluate the accuracy of a bounding box prediction is to use the __Intersection over Union (IoU)__ method. This computes the area of the bounding boxes supplied by $Y$ and $\\hat{Y}$ for a given training example. Next, it divides the intersection of the areas by the union of the areas, then compares the quotient to a threshold. If the ratio is greater than 0.5, it is commonly considered a good prediction. Since this is a human-chosen threshold, raising it will lead to more accurate bounding box predictions.\n",
    "\n",
    "When using a finely-grained grid, many adjacent cells may claim to see an object of interest ($P_c \\ge 0.5$), even if they only see a part of it. YOLO requires the object to be assigned to only one cell even if the bounding box spans multiple cells. __Non-max suppression__ compares all of the $P_c$ values and summarily discards those less than a threshold, say 0.6 for example. These cells don't contain any part of the object and don't require further evaluation. Then, the algorithm finds the cell with the highest $P_c$ value and discards adjacent abounding boxes with a high IoU (say, 0.5) with respect to the best bounding box. The algorithm runs independently for each class to get the final prediction. As described by the name, this enhancement suppresses any boxes that are not \"maximal\", leading to a single answer.\n",
    "\n",
    "Sometimes there are multiple objects of different classes within the same grid cell. YOLO can use __anchor boxes__ to classify these objects independently. Each anchor box is represented by its own set of labels in $Y$. For example, if there are 3 classes, there will be 8 values in the the $y$ column vector associated with a single cell. If 2 separate anchor boxes are adequate to capture these 3 classes, there will be 16 values in $y$, one for each anchor box. Objects are now assigned to a specific anchor box within a specific grid cell. The anchor box to which an object is assigned is based on the highest computed IoU. Given a $10 \\times 10$ grid, the resulting volume has shape $(10,10,16)$. Sometimes this is expressed as a 4 dimensional shape which independently accounts for the number of anchor boxes (2), and the values within each anchor box (8), such as $(10,10,2,8)$. This structure is more explicit but is harder to visualize; this book prefers the consolidated 3D format.\n",
    "\n",
    "You can determine anchor box sizes manually if you have an intuition regarding their dimensions and quantity. Alternatively, you can use the k-means unsupervised learning algorithm to discover clusters of objects, then create the appropriate anchor boxes. Anchor boxes are defined only by their height and width, not their position within a grid cell, unlike a bounding box which has all 4.. Note that if the number of object shapes is greater than the number of anchor boxes, the algorithm performs poorly. Also, if several classes have the same anchor box shape, the algorithm is forced to select only one, also leading to poor performance. In practice, multiple objects appearing in the same cell (assuming a finely-grained grid) is relatively rare.\n",
    "\n",
    "The matrix below visualizes the structure just described using $?$ to represent random noise. Each item below describes a corresponding column in the matrix from left to right. Discrete numbers are plausible sample values.\n",
    "\n",
    "1. Notation reference using superscripts $[A]$ and $[B]$ for anchor box identifiers.\n",
    "2. Cell contains an object for anchor box A (class 1) and anchor box B (class 2).\n",
    "3. Cell contains an object for anchor box A (class 2) but not anchor box B.\n",
    "4. Cell contains an object for anchor box B (class 3) but not anchor box A.\n",
    "5. Cell contains no objects of interest.\n",
    "\n",
    "$$\n",
    "Y =\n",
    "\\begin{bmatrix}\n",
    "y^{[A]}_{P_c} & 1 & 1 & 0 & 0 \\\\\n",
    "y^{[A]}_{b_x} & 0.5 & 0.4 & ? & ? \\\\\n",
    "y^{[A]}_{b_y} & 0.2 & 0.7 & ? & ? \\\\\n",
    "y^{[A]}_{b_h} & 1.4 & 2.1 & ? & ? \\\\\n",
    "y^{[A]}_{b_w} & 0.8 & 0.3 & ? & ? \\\\\n",
    "y^{[A]}_{P_{c1}} & 1 & 0 & ? & ? \\\\\n",
    "y^{[A]}_{P_{c2}} & 0 & 1 & ? & ? \\\\\n",
    "y^{[A]}_{P_{c3}} & 0 & 0 & ? & ? \\\\\n",
    "y^{[B]}_{P_c} & 1 & 0 & 1 & 0 \\\\\n",
    "y^{[B]}_{b_x} & 0.3 & ? & 0.5 & ? \\\\\n",
    "y^{[B]}_{b_y} & 0.6 & ? & 0.7 & ? \\\\\n",
    "y^{[B]}_{b_h} & 1.1 & ? & 1.6 & ? \\\\\n",
    "y^{[B]}_{b_w} & 2.4 & ? & 0.9 & ? \\\\\n",
    "y^{[B]}_{P_{c1}} & 0 & ? & 0 & ? \\\\\n",
    "y^{[B]}_{P_{c2}} & 1 & ? & 0 & ? \\\\\n",
    "y^{[B]}_{P_{c3}} & 0 & ? & 1 & ?\n",
    "\\end{bmatrix}\n",
    "$$"
   ]
  },
  {
   "cell_type": "markdown",
   "id": "2af0be4f-2351-488e-b1ea-715d44bd5b88",
   "metadata": {},
   "source": [
    "### Face Recognition"
   ]
  },
  {
   "cell_type": "markdown",
   "id": "7a614b4e-7b01-4a82-be1c-85e905333881",
   "metadata": {},
   "source": [
    "#### Overview\n",
    "The section describes facial verification and recognition text. A new concept is the __siamese network__, which is a CNN that evaluates pairs of images concurrently. The weights and biases are updated on pairs of images rather than individual images. As the network is trained, each training example $x^{(i)}$ will consist of 2 images. The corresponding labels $y^{(i)}$ set to $1$ if the images are the same person and $0$ otherwise.\n",
    "\n",
    "__Face verification__ asks the question \"does this person's face match the expected one?\" It compares encodings of the picture taken in the moment with an existing database picture, both of which are supplied to the function. If a similarity threshold is met, the person is verified.\n",
    "\n",
    "__Face recognition__ asks the question \"who is this person?\" It iterates overall names in the database and measures the similarity to the picture taken in the moment. The smallest difference (greatest similarity) wins.\n",
    "\n",
    "The literature often uses $f(x)$ notation to represent a prediction from the model, which is equivalent to the activations at the final layer $A^{[L]}$. The square of the Frobenius norm represents the difference between the two operands, which is how the loss is measured between two images.\n",
    "\n",
    "$$\n",
    "\\| f(x^{(i)}) - f(x^{(j)}) \\|_F^2 = \\| A^{[L](i)} - A^{[L](i)} \\|_F^2 \\\\\n",
    "$$"
   ]
  },
  {
   "cell_type": "markdown",
   "id": "d33656b8-f066-463d-99b0-4d9a38f011ea",
   "metadata": {},
   "source": [
    "#### Using Triplet Loss\n",
    "Triplet loss compares the two separate predictions using a mix of new formulas and hyperparameters. It was defined in the Facenet paper by Florian Schroff et al in 2015. You can read the details [here](https://arxiv.org/pdf/1503.03832). \n",
    "\n",
    "Each comparison triplet includes three images.\n",
    "\n",
    "1. anchor ($x_a$): the base image containing a person with which other images are compared\n",
    "2. positive ($x_p$): another image depicting the same person as the anchor\n",
    "3. negative ($x_n$): another image depicting someone who is not the anchor\n",
    "\n",
    "Note that the Facenet paper uses notation $x^a_i$ to indicate the anchor image $a$ of a triplet for the $i$-th training example. This section adjusts that notation to $x^{(i)}_a$ for consistency with the rest of the document. The same is true for $p$ and $n$ images.\n",
    "\n",
    "Broadly speaking, the goal is to measure the difference between the anchor and positive, then between the anchor and negative. The first quantity ($a-p$) should be small while the second quantity ($a-n$) should be large. In the context of triplet loss, $\\alpha$ is a hyperparameter called \"margin\". Without $\\alpha$ (or setting it to 0), the algorithm can just set both quantities to 0 for a trivial/useless solution. The algorithm works best when the two quantities are approximately equal so that the algorithm has something to adjust.\n",
    "\n",
    "$$\n",
    "\\| f(x_a) - f(x_p) \\|_F^2 - \\| f(x_a) - f(x_n) \\|_F^2 + \\alpha \\le 0\n",
    "$$\n",
    "\n",
    "Differences will often be large when comparing two random people. Each mini-batch should contain several positive examples along with \"semi-hard\" (ie, low loss) negative examples. The superlatively hard negatives (two people who look very similar) should be avoided as it can lead to local minima by collapsing all operands to 0. The dataset must contain multiple images of same person (e.g., 5,000 images of 500 people). The total cost $J$ is the sum of the losses $L$ for each $m$ training example, which applies a ReLU-like operation to raise all negative costs to 0. Said another way, when the difference between the anchor/positive and the anchor/negative is less than the margin, face verification succeeded and there is no loss.\n",
    "\n",
    "$$\n",
    "\\begin{align}\n",
    "L(x_a,x_p,x_n) & = \\| f(x_a) - f(x_p) \\|_F^2 - \\| f(x_a) - f(x_n) \\|_F^2 + \\alpha \\\\\n",
    "J(x_a,x_p,x_n) & = \\sum\\limits^m_{i=1}\n",
    "\\begin{cases}\n",
    "L(x^{(i)}_a, x^{(i)}_p, x^{(i)}_n) \\le 0: & 0 \\\\\n",
    "L(x^{(i)}_a, x^{(i)}_p, x^{(i)}_n) \\gt 0: & L(x^{(i)}_a, x^{(i)}_p, x^{(i)}_n)\n",
    "\\end{cases}\n",
    "\\end{align}\n",
    "$$"
   ]
  },
  {
   "cell_type": "markdown",
   "id": "b8c560d6-c555-480e-88de-958555337aba",
   "metadata": {},
   "source": [
    "#### Using Binary Classification\n",
    "As an alternate to triplet loss, you can use binary classification. This solution requires passing $f(x^{(i)}$ and $f(x^{(j)}$ into a  logistic regression output layer. Assuming the final fully-connected layer has $L_n$ units, this measures the absolute value of the difference between the image distances, then multiplies by a weight $w_k$ and adds a bias $b$. That result is passed into the sigmoid activation function $\\sigma$ to make a prediction $\\hat{y}$. Note that the cost function is typically binary cross entropy, whereas triplet loss defined a new cost function.\n",
    "\n",
    "$$\n",
    "\\hat{y} = \\sigma\\bigl(\\sum\\limits_{k=1}^{L_n} w_k \\cdot |f(x^{(i)})_k - f(x^{(j)})_k| + b\\bigr)\n",
    "$$\n",
    "\n",
    "An alternative implementation for this option is to use the $\\chi^2$ similarity method.\n",
    "\n",
    "$$\n",
    "\\hat{y} = \\sigma\\bigl(\\sum\\limits_{k=1}^{L_n} w_k \\cdot \\frac{(f(x^{(i)})_k − f(x^{(j)})_k)^2}{f(x^{(i)})_k + f(x^{(j)})_k} + b\\bigr)\n",
    "$$\n",
    "\n",
    "Optionally, you can speed up the prediction process by pre-computing $f(x^{(j)})$ (the image from the database) for quicker comparison to $f(x^{(i)})$ (person being evaluated right now) which is computed in real-time. This optimization technique also works for the triplet loss option."
   ]
  },
  {
   "cell_type": "markdown",
   "id": "c21d2eef-2168-4e9a-bfaa-adb0c30bd07c",
   "metadata": {},
   "source": [
    "### Neural Style Transfer (NST)"
   ]
  },
  {
   "cell_type": "markdown",
   "id": "3d2638a4-99a2-471a-b4f5-60753da44cb4",
   "metadata": {},
   "source": [
    "#### Overview\n",
    "This technique allows for two separate images to be supplied as input for a newly-generated output image using a pre-trained model. The content image $C$ depicts the objects to be included in the output $O$ image. The style image $S$ depicts the style in which the content $C$ should be depicted. For example, a picture of a car (C) drawn in the style of van Gogh's \"The Starry Night\" (S). Note that the output image is often written as $G$ for \"generated\", but the common notation overlaps with the $G$ of \"Gram matrix\" described later. This document uses the separate notation of $O$ for \"output\" while retaining $G$ for Gram matrices to reduce confusion.\n",
    "\n",
    "The general process is:\n",
    "1. Select a pre-trained model, such as VGG-19.\n",
    "2. Select a layer, or set of layers, upon which to focus.\n",
    "    1. Shallower layers typically detect basic features such as edges and simple textures.\n",
    "    2. Deeper layers typically detect rich features such as complex textures and object classes.\n",
    "4. Initialize $O$ to the proper dimensions using random noise.\n",
    "5. Define cost function and run gradient descent to train pixels of the image (not training parameters)."
   ]
  },
  {
   "cell_type": "markdown",
   "id": "5134c1c7-c306-4f98-a352-b45941d2a2ae",
   "metadata": {},
   "source": [
    "#### Cost Function\n",
    "\n",
    "The cost is the sum of the content cost function $J_c$ and style cost function $J_s$. These are scaled by the hyperparameters $\\alpha$ and \\$beta$, respectively. Larger values of these parameters assign a higher level of importance to each cost. Additionally, this document defines $n_T^{[l]}$, which is the product of all 3 dimensions in the output activation volume. This simplifies the notation when describing the cost functions.\n",
    "\n",
    "$$\n",
    "\\begin{align}\n",
    "J(G) & = \\alpha \\cdot J_c(C,O) + \\beta \\cdot J_s(S,O) \\\\\n",
    "n_T^{[l]} & = n_H^{[l]} \\cdot n_W^{[l]} \\cdot n_C^{[l]}\n",
    "\\end{align}\n",
    "$$\n",
    "\n",
    "The content cost function $J_c$ is shown below, which is a function of the content image $C$ and the output ($O$) image. The 3D volumes of activations are unrolled/flattened into 1D vectors $\\vec{a}$. Then, the square of the L2-norm is applied. Note that the final squaring operation affectively removes the square root of the L2-norm. The value $n_T^{[l]}$ is used as the summation limit as this is the total number of iteratively-processed elements in the volume. Some implementations will divide this result by 2 (usually by prepending $\\frac{1}{2}$), but this is unnecessary as the hyperparameter $\\alpha$ can scale it. It is included for completeness only.\n",
    "\n",
    "$$\n",
    "\\begin{align}\n",
    "J_c^{[l]}(C,O) & = \\frac{1}{2} \\cdot \\| \\vec{a}^{[l](C)} - \\vec{a}^{[l](O)} \\|_2^2 \\\\\n",
    "J_c^{[l]}(C,O) & = \\frac{1}{2} \\cdot \\sum\\limits_{i=0}^{n_T^{[l]}} \\bigl(\\vec{a}^{[l](C)}_i - \\vec{a}^{[l](O)}_i \\bigr)^2\n",
    "\\end{align}\n",
    "$$\n",
    "\n",
    "The style cost function $J_s$ is shown below, which is a function of the content image $C$ and the style ($S$) image. Similar to the content cost function $J_c$, it relies on the sum of square differences, except technically using the Frobenius norm as the operands are matricies. It also includes a scaling value, just it can be omitted since the hyperparameter $\\beta$ can be adjusted. In this context, $G$ refers to the \"Gram matrix\" which is always square-shaped with dimensions $(n_C^{[l]},n_C^{[l]})$.\n",
    "\n",
    "$$\n",
    "J_s^{[l]}(S,O) = \\frac{1}{(2 \\cdot n_T^{[l]})^2}\\| G^{[l](S)} - G^{[l](O)} \\|_F^2\n",
    "$$\n",
    "\n",
    "Unpacking the norm expression to build the Gram maticies, $k$ and $k'$ refer to different channels in the volume, computing \"correlations\" (technically the unnormalized cross covariance because the mean $\\mu$ is not used) between channel pairs. The value $G^{[l](M)}_{k,k'}$ specifies the value at cell $(k,k')$ as the product of the corresponding activations. $M$ is a variable to signify the matrix input, which can be either the style matrix $S$ or the output matrix $O$. With this intermediate equation defined, the original style cost function $J_s$ can be expanded.\n",
    "\n",
    "$$\n",
    "\\begin{align}\n",
    "G^{[l](M)}_{k,k'} & = \\sum\\limits^{n_H^{[l]}}_{i=1} \\sum\\limits^{n_W^{[l]}}_{j=1} \\vec{a}^{[l](M)}_{i,j,k} \\cdot \\vec{a}^{[l](M)}_{i,j,k'} \\\\\n",
    "J_s^{[l]}(S,O) & = \\frac{1}{(2 \\cdot n_T^{[l]})^2}\n",
    "\\sum\\limits_{k=1}^{n_C^{[l]}}\\sum\\limits_{k'=1}^{n_C^{[l]}}\\bigl(G^{[l](S)}_{k,k'} - G^{[l](O)}_{k,k'}\\bigr)^2\n",
    "\\end{align}\n",
    "$$\n",
    "\n",
    "For best results, compute the style cost across multiple layers and scale it using a per-layer hyperparameter $\\lambda$. The initial and final values of $l$ in the summation vary based on which layers are selected for style evaluation.\n",
    "\n",
    "$$\n",
    "J_s(S,O) = \\sum\\limits_l \\lambda^{[l]} \\cdot J_s^{[l]}(S,O)\n",
    "$$"
   ]
  },
  {
   "cell_type": "markdown",
   "id": "436da817-cee8-40d2-9bf1-a715fdb05617",
   "metadata": {},
   "source": [
    "### Architectures"
   ]
  },
  {
   "cell_type": "markdown",
   "id": "db9955a0-2d16-475c-9746-76a26a6a6406",
   "metadata": {},
   "source": [
    "#### Overview\n",
    "This section describes common CNN architectures that are formally documented and well-known."
   ]
  },
  {
   "cell_type": "markdown",
   "id": "48bf8227-c27f-437d-a429-429a90a6f73d",
   "metadata": {},
   "source": [
    "#### Classic Networks\n",
    "This section briefly discusses some classic CNNs make use of the foundational techniques discussed so far.\n",
    "\n",
    "__LeNet-5__ was created by Yann LeCun et al in 1998 and is documented [here](http://vision.stanford.edu/cs598_spring07/papers/Lecun98.pdf). The goal of this network is to recognize grayscale handwritten digits of size $(32,32,1)$. At that time, padding and max pooling were not commonly used. The activation functions were sigmoid and hyperbolic tangent (tanh) rather than ReLU. Aside from these implementation differences, LeNet-5 uses several convolutional + average pooling combination layers. The activation function was applied after pooling, which is also uncommon today. The network ends with 2 fully connected layers to make a prediction against 10 classes (1 per digit) in a manner similar to softmax. A non-softmax implementation with 84 units in the final layer was used to achieve this.\n",
    "\n",
    "__AlexNet__ was created by Alex Krizhevsky et al in 2012 and is documented [here](https://proceedings.neurips.cc/paper_files/paper/2012/file/c399862d3b9d6b76c8436e924a68c45b-Paper.pdf). It was designed for general-purpose image recognition. It relies heavily on \"same\" padding to preserve the image size when performing convolutions, while also using max pooling to reduce the image dimension over time. It also relies on the ReLU activation. The general architecture is similar to LeNet-5 as the convolutional/pooling blocks are placed first, followed by some fully-connected layers. The final layer uses a 1000-class softmax activation to classify the images. In terms of total parameters, it was roughly 1,000 times larger than LeNet-5 (60k versus 60M).\n",
    "\n",
    "__VGG-16__ (Visual Geometry Group) was created by Karen Simonyan et al in 2015 and is documented [here](https://arxiv.org/pdf/1409.1556). Although AlexNet worked well for large-scale computer image recognition, VGG-16 proposed a simpler architecture by always using same-padded convolutions combined with uniformly-sized max pooling operations. Specifically, it used convolutional layers with filters of size 3 and stride of 1, plus max pooling of size 2 and stride of 2. This is significantly reduces the number of hyperparameters as they do not vary by layer. Broadly speaking, the pooling operations decrease the height and width by half while the convolutional operations increasing the depth by doubling the number of filters applied. The network is more than twice the size of AlexNet with 138M parameters. Another popular version is VGG-19 which has 19 layers.\n",
    "\n",
    "For their time, these classic architectures were very effective and helped reveal a common pattern in CNN design. As images progress through the network, their heights $n_H$ and widths $n_W$ tend to decrease due to convolutional and pooling layers. Concurrently, their depths $n_C$ tend to increase as more and more filters are applied. Because those filters carry trainable weights, they are unrolled at the end of the convolutional/pooling sequence and fed into fully-connected layers to make a prediction."
   ]
  },
  {
   "cell_type": "markdown",
   "id": "0ae97179-85a7-46ce-b8e2-91a89bf7daf3",
   "metadata": {},
   "source": [
    "#### Residual Network (ResNet)\n",
    "This architecture was designed by Kaiming He et al in 2014 and is documented [here](https://arxiv.org/pdf/1512.03385). As neural networks become deeper, they may suffer from the vanishing/exploding gradients problem described earlier. Although proper weight initialization can reduce the likelihood of this problem occurring, one can insert __residual blocks__ into the network as well. This block is a pair of layers whereby the activation input to the first layer $A^{[l]}$ is used in two different places. First, it is passed to the next layer where it is used as the input to the linear function and its corresponding non-linearity activation function yields the next activation output. This isn't new.\n",
    "\n",
    "$$\n",
    "\\begin{align}\n",
    "Z^{[l+1]} & = W^{[l+1]} \\bullet A^{[l]} + b^{[l+1]} \\\\\n",
    "A^{[l+1]} & = g(Z^{[l+1]})\n",
    "\\end{align}\n",
    "$$\n",
    "\n",
    "Second, the original activation values $A^{[l]}$ are passed via a \"shortcut\" path to layer $l+2$ and are added to that layer's linear combination, modifying the input to the activation function. Note that the matrix $W_s^{[l+1]}$ is meant to reshape the dimensions of $A^{[l]}$ so that they match those of $Z^{[l+2]}$. It doesn't have to materially change the values.\n",
    "\n",
    "$$\n",
    "\\begin{align}\n",
    "Z^{[l+2]} & = W^{[l+2]} \\bullet A^{[l+1]} + b^{[l+2]} \\\\\n",
    "A^{[l+2]} & = g(Z^{[l+2]} + W_s^{[l+2]} \\bullet A^{[l]})\n",
    "\\end{align}\n",
    "$$\n",
    "\n",
    "Expanding $Z^{[l+2]}$ into its component parts, we can eliminate some variables. Assuming some kind of regularization is in use, $W^{[l+2]}$ will be pushed close to 0, reducing its impact on $A^{[l+1]}$. Although the biases $b^{[l+2]}$ are not commonly regularized, it tends to have a minor influence on activation values, especially when compared to the weights. Let's ignore them. Finally, assuming that the activation function is ReLU, positive inputs are returned without modification $ReLU(x) = x, x \\in \\mathbb{R}|x > 0$. This results in the activations at the second layer being equal to activations at the input layer 2 levels before.\n",
    "\n",
    "$$\n",
    "\\begin{align}\n",
    "A^{[l+2]} & = ReLU^{[l+2]}(Z^{[l+2]} + W_s^{[l+1]} \\bullet A^{[l]}) \\\\\n",
    "A^{[l+2]} & = ReLU^{[l+2]}(\\cancel{W^{[l+2]}} \\bullet \\cancel{A^{[l+1]}} + \\cancel{b^{[l+2]}} + W_s^{[l+2]} \\bullet A^{[l]}) \\\\\n",
    "A^{[l+2]} & = ReLU^{[l+2]}(W_s^{[l+2]} \\bullet A^{[l]}) \\\\\n",
    "A^{[l+2]} & = W_s^{[l+2]} \\bullet A^{[l]}\n",
    "\\end{align}\n",
    "$$\n",
    "\n",
    "This unique property of residual blocks allows the network to easily learn the identity function $f(x) = x$. This prevents the degradation of performance because if a future layer of the neural network has the same activations of a layer 2 levels before it, then the neural network's depth (number of layers) can safely increase. If the identity function is the worst that happens due to extra depth, there is no harm done, and performance could potentially increase as well.\n",
    "\n",
    "Residual networks make extensive use of \"same\" padding in their convolutions to ensure that the dimensions of $A^{[l]}$ and $Z^{[l+2]}$ are identical. When this isn't possible or desirable, $W_s^{[l+2]}$ performs the reshaping, as discussed earlier. In some cases, it contains trainable parameters. It can also be used to pad $A^{[l]}$ using an identity matrix. In practice, the implementation of the aforementioned statements involves differentiating between two block types:\n",
    "\n",
    "1. __Identity block__: the dimensions of $A^{[l]}$ and $A^{[l+2]}$ are the same, so no convolutions are needed.\n",
    "\n",
    "2. __Convolutional block__: the dimensions of $A^{[l]}$ and $A^{[l+2]}$ differ. Along the shortcut path, there is a convolutional operation with no/linear activation to represent $W_s^{[l+2]}$. This reshapes $A^{[l]}$ appropriately.\n",
    "\n",
    "For a simplified, ResNet-independent example, consider a 3-length vector needing to be compatible with a 4-length vector. A $(4,3)$ identity matrix is used for $W_s^{[l+2]}$ to effectively append zeros to the 3-length vector."
   ]
  },
  {
   "cell_type": "code",
   "execution_count": null,
   "id": "538293be-fd85-4cd2-b947-31da8adedbb2",
   "metadata": {},
   "outputs": [],
   "source": [
    "a_l = np.array([3,3,3])\n",
    "z_l2 = np.array([4,4,4,4])\n",
    "ws_l2 = np.eye(4, 3, dtype=int)\n",
    "print(\"a_l:\", a_l)\n",
    "print(\"z_l2:\", z_l2)\n",
    "print(f\"ws_l2:\\n{i}\")\n",
    "print(\"ws_l2 @ a_l:\", ws_l2 @ a_l)"
   ]
  },
  {
   "cell_type": "markdown",
   "id": "d8467321-fde3-44c5-a5b5-fec1c62d7fdf",
   "metadata": {},
   "source": [
    "#### Inception Network\n",
    "This architecture was created by Christian Szegedy et al in 2014 and is documented [here](https://arxiv.org/pdf/1409.4842). Sometimes selecting the type of convolution to apply at a given layer, along with its hyperparameters, is difficult. This network architecture suggests using multiple techniques concurrently at a single layer and stacking their resulting volumes depth-wise. This way, then network can adjust whatever weights it needs to, rather than relying on a human to select them beforehand.\n",
    "\n",
    "Consider the following example on an input image of shape $(64,64,3)$.\n",
    "\n",
    "1. Apply 64 filters of shape $(1,1,3)$ yielding a volume of shape $(64,64,64)$.\n",
    "2. Apply 128 filters of shape $(3,3,3)$ with same-padding, yielding a volume of shape $(64,64,128)$.\n",
    "3. Apply 32 filters of shape $(5,5,3)$ with same-padding, yielding a volume of shape $(64,64,32)$.\n",
    "4. Apply 32 max pooling matrices of shape $(3,3)$ with same-padding (rare instance of padding with pooling), yielding a volume of shape $(64,64,32)$.\n",
    "5. Perform channel concatenation to create a volume of shape $(64,64,256)$.\n",
    "\n",
    "This design has high computation cost, but additional $(1,1,3)$ filters can be applied to compress channels along the way. This is sometimes called a \"bottleneck layer\" and doesn't appear to hurt performance when done responsibly. You can apply this compression before the application of a regular filter (steps 2 and 3) and/or after the application of pooling (step 4). It doesn't make sense to apply such a technique when the filter size is $(1,1)$ (step 1)."
   ]
  },
  {
   "cell_type": "markdown",
   "id": "6c85c549-53dd-4fad-ab46-c3e3abf5010d",
   "metadata": {},
   "source": [
    "#### Mobile Network (MobileNet)\n",
    "This architecture was designed for small computers and mobile devices that have a limited computing capacity. As described so far, the standard convolutional process is very computationally expensive, requiring many millions of addition and multiplication operations. An alternative process known as __depthwise separable convolution__ is better suited for small devices. There are two steps:\n",
    "\n",
    "1. Depthwise operation: Convolutional filters typically have the same depth as the volume upon which they are acting ($f_C^{[l]}=n_C^{[l-1]}$). In MobleNet, the filters are flat, 2D matrices ($f_C^{[l]}=1$), but their quantity is equal to the input volume's depth ($n_C^{[l-1]}$). Each filter runs pairwise to a corresponding channel of the input volume, resulting in an intermediate output volume of equal depth as the input volume.\n",
    "2. Pointwise operation: Taking the intermediate output volume of the previous step, apply the desired number of filters $n_C^{[l]}$ of size $(1,1,n_C^{[l-1]})$. This yields the final result $Z^{[l]}$ with the correct number of output channels $n_C^{[l]}$.\n",
    "\n",
    "There are two versions of MobileNet, both of which were written by Andrew Howard et al:\n",
    "1. Version 1 ([2017](https://arxiv.org/pdf/1704.04861)): 13 layers of depthwise-separable convolutions, followed by max pooling, fully-connected layers and a softmax prediction.\n",
    "2. Version 2 ([2019](https://arxiv.org/pdf/1801.04381)): 17 layers of residual connections, expansion (deliberately increase volume with \"network in network\" filters), depthwise convolutions, projection (aka pointwise) convolutions, followed by max pooling, fully-connected layers, and a softmax prediction.\n",
    "\n",
    "In the general case, this modified behavior can result in massive improvements. The formula below computes the ratio between the computational cost required for a MobileNet layer versus a traditional convolutional layer. Suppose that the filter has shape $(3,3)$ and the number of output channels $n_C^{[l]}$ is 512. Smaller numbers represent more dramatic improvements. Dividing 1 by this result provides the magnitude of improvement, which in this example is nearly 9 times better.\n",
    "\n",
    "$$\n",
    "\\begin{align}\n",
    "r & = \\frac{1}{n_C^{[l]}} + \\frac{1}{f^2} \\\\\n",
    "r & = \\frac{1}{512} + \\frac{1}{3^2} \\\\\n",
    "r & = \\frac{1}{512} + \\frac{1}{9} \\\\\n",
    "r & \\approx 0.113 \\\\\n",
    "1/r & \\approx 8.845\n",
    "\\end{align}\n",
    "$$\n",
    "\n",
    "Smaller numbers represent more dramatic improvements. Dividing 1 by this result provides the magnitude of improvement, which in this example is about 8.84 times better."
   ]
  },
  {
   "cell_type": "markdown",
   "id": "d4634163-f485-433c-9d3e-dbd3544eb935",
   "metadata": {},
   "source": [
    "#### Efficient Network (EfficientNet)\n",
    "This architecture was created by Mingxing Tan et al in 2020 and is documented [here](https://arxiv.org/pdf/1905.11946). It proposes a method of adjusting the existing network structure for scaling purposes. This includes the depth of network $d$, the width of its layers $w$, and resolution of the input image $r$. Rather than try to manually adjust these hyperparameters to find the optimal result (often via trial-and-error), EfficientNet can uniformly scale them with a fixed ratio.\n",
    "\n",
    "To discover that ratio, each of the 3 variables is scaled by a constant coefficient described below. All coefficients are real numbers greater than or equal to 1 ($n \\in \\mathbb{R}| \\ge 1$). The algorithm then fixes the coefficient exponent $\\phi$ to 1 and performs a grid search to find values of the coefficient to satisfy the constraint. Example values for these coefficients might be $\\alpha=1.2$, $\\beta=1.12$, and $\\gamma=1.15$. \n",
    "\n",
    "$$\n",
    "\\begin{align}\n",
    "d & := d \\cdot \\alpha^\\phi \\\\\n",
    "w & := w \\cdot \\beta^\\phi \\\\\n",
    "r & := r \\cdot \\gamma^\\phi \\\\\n",
    "2 & \\approx \\alpha \\cdot \\beta^2 \\cdot \\gamma^2\n",
    "\\end{align}\n",
    "$$"
   ]
  },
  {
   "cell_type": "markdown",
   "id": "e5bd39c2-cdf6-440d-8e25-9b71a0cff85f",
   "metadata": {},
   "source": [
    "#### U-Net\n",
    "Rather than draw coarse bounding boxes around detected objects (as seen with YOLO), U-Net classifies individual pixels as being part of a certain class. This is called __semantic segmentation__ and provides precise object detection for its intended use case of medical imaging. This network is so named because it resembles the letter \"U\" when drawn with the left downward sloping curve resembling encoding/contraction and the right upward sloping curve resembling decoding/expansion.\n",
    "\n",
    "Typical CNNs will decrease the volume's height and width while increasing the number of channels. A fully convolutional network (FCN) uses transpose convolutional layers (described earlier) instead of fully-connected layers to expand the volume to its original height and width $(n_H^{[0]}$ and $n_W^{[0]})$. U-Net builds on the FCN concept by using an equal number of contracting (downsampling) and expansion (upsampling) layers to accomplish this. It also adds residual \"skip\" connections between corresponding layers when the volume shapes are the same. Set another way, for every max pooling layer that decrease the height and width, there is an opposite but equal transpose convolutional layer that restores it. These opposing layers are connected with a aforementioned skip connection, reducing data loss from the original input while also reducing overfitting.\n",
    "\n",
    "In general, the contracting layers (aka contracting path) use 2 convolutional layers with ReLU activation, followed by a max pooling layer. The expanding layers (aka expanding path) use 2 convolutional layers with ReLU activation, followed by a transpose convolutional layer. None of the aforementioned convolutional layers change the height or width as they all use the \"same\" padding. Given an RBG input image of shape $(n_H^{[0]}, n_W^{[0]}, 3)$, U-Net outputs a prediction of shape $(n_H^{[0]}, n_W^{[0]}, n_C^{[L]})$ where the output channels $n_C^{[L]}$ equals the number of possible classes. U-Net uses the sparse categorical cross entropy loss function, similar to softmax, to predict the probabilities for each class."
   ]
  },
  {
   "cell_type": "markdown",
   "id": "3c7d426a-1159-48e7-afa8-3936b67c2b9c",
   "metadata": {},
   "source": [
    "## Recurrent Neural Network (RNN)"
   ]
  },
  {
   "cell_type": "markdown",
   "id": "88076200-cb19-4c98-9a5a-414916b7404d",
   "metadata": {},
   "source": [
    "### Architecture"
   ]
  },
  {
   "cell_type": "markdown",
   "id": "ec5e8ba8-2067-496e-88e4-f00a926f47d2",
   "metadata": {},
   "source": [
    "#### Overview\n",
    "Unlike CNNs and MLPs, which are \"feed forward\" networks, RNNs can loop back onto themselves for additional processing. This is effective when making predictions based on time-series data (more context) and also to generate variable-length sequences with a different number of elements than the input."
   ]
  },
  {
   "cell_type": "markdown",
   "id": "69c8f3a3-a88c-4731-aa1e-f5f67fd9edfa",
   "metadata": {},
   "source": [
    "#### Categories\n",
    "There are 3 types of RNN with respect to input and output sizes:\n",
    "  1. __Many to many__: Given many time series inputs from $x$, there are many predictions (outputs) $\\hat{y}$, one at each time step. Sometimes the number of inputs and outputs are equal, such as in Named Entity Recognition (NER). For example, \"Nick slept for one hour\" -> \"NICK slept for ONE hour\". Sometimes the input and output lengths are unequal, such as in language translation, whereby the encoder consumes the inputs and the decoder makes predictions. For example, \"what would you like to eat?\" -> \"你想吃什么？\".\n",
    "  2. __Many to one__: Given many time series inputs from $x$, there is a single prediction (output) $\\hat{y}$ at the end, just one output at the end. An example might be sentiment analysis, mapping \"this ice cream tastes awful\" to 1-star and \"it's the best ice cream ever\" to 5-star.\n",
    "  3. __One to many__: Given a single input $x$, there are many predictions (outputs) $\\hat{y}$, one at each time step. This can be used for music generation, which is a sequence of notes, given only a genre as input. The input could be larger, like an image, while the output can be a text caption. This is also called a __sequence model__ and uses the previous time-step's prediction as input to the current step given that there is only one $x$ input to start the process. Sometimes $x$ can even be all zeros, allowing the sequence model to predict whatever it wants (based on how it was trained)."
   ]
  },
  {
   "cell_type": "markdown",
   "id": "7edfeff1-7d48-40bf-819c-3b33b661f43c",
   "metadata": {},
   "source": [
    "### Basic RNN Unit"
   ]
  },
  {
   "cell_type": "markdown",
   "id": "6aaf8007-95ee-4b58-8e3f-2b8717cb4015",
   "metadata": {},
   "source": [
    "#### Overview\n",
    "Each RNN unit has 2 inputs: the actual training input associated with this time step $x^{<t>}$ and the previous time step's activation values $a^{<t-1>}$. Assuming the network has a single layer (i.e. it is not a Deep RNN), the trainable weights $W$ and biases $b$ are shared across all time steps.\n",
    "\n",
    "$$\n",
    "\\begin{align}\n",
    "x^{<t>} & = \\text{t'th time step of the training input. shape: } (n_x, m) \\\\\n",
    "y^{<t>} & = \\text{t'th time step of the training output. shape: } (n_y, m) \\\\\n",
    "T_x & = \\text{number of time steps in the training input} \\\\\n",
    "T_y & = \\text{number of time steps in the training output} \\\\\n",
    "W_{ax} & = \\text{weights multiplied by an x-value to yield an a-value. shape: } (n_a, n_x) \\\\\n",
    "W_{aa} & = \\text{weights multiplied by an a-value to yield an a-value. shape: } (n_a, n_a) \\\\\n",
    "W_{ya} & = \\text{weights multiplied by an a-value to yield an y-value. shape: } (n_y, n_a) \\\\\n",
    "a^{<t>} & = \\text{activations at the t'th time step. shape: } (n_a, m) \\\\\n",
    "b_a & = \\text{biases for the activations. shape: } (n_a, 1) \\\\\n",
    "b_y & = \\text{biases for the labels. shape: } (n_y, 1) \n",
    "\\end{align}\n",
    "$$"
   ]
  },
  {
   "cell_type": "markdown",
   "id": "458062f3-dce2-4b98-a0ab-32912116eb43",
   "metadata": {},
   "source": [
    "#### Forward Propagation\n",
    "\n",
    "The basic RNN unit, which lacks any kind of long-term memory cells or gates, takes a matrix $x^{<t>}$ as input along with the previous time step's activation values $a^{<t-1>}$. At the first time step, this is commonly set to all zeros. The weight matrices $W$ and bias column vectors $b$ are not specific to a time step and are shared across all units in the layer.\n",
    "\n",
    "At a minimum, the RNN unit outputs the next time step's activation values $a^{<t>}$. It may also output a prediction $\\hat{y}$ based on those activation values.\n",
    "\n",
    "$$\n",
    "\\begin{align}\n",
    "a^{<0>} & = \\vec{0} \\\\\n",
    "a^{<t>} & = g(W_{aa} \\bullet a^{<t-1>} + W_{ax} \\bullet x^{<t>} + b_a) \\\\\n",
    "\\hat{y}^{<t>} & = g(W_{ya} \\bullet a^{<t>} + b_y)\n",
    "\\end{align}\n",
    "$$\n",
    "\n",
    "The above equations are sometimes written in an alternative notation. The two input matrices $a^{<t-1>}$ and $x^{<t>}$ can be vertically concatenated because they share the same number of columns (equal to the number of training examles $m$). The weight matrices $W_{ax}$ and $W_{aa}$ are likewise concatenated, annotated as simple $W_a$, which carries all the weights in one structure. This is an implementation detail only. For simplicity, $W_{ya\n",
    "\n",
    "$$\n",
    "\\begin{align}\n",
    "a^{<t>} & = \\sigma(W_a \\bullet [a^{<t-1>}, x^{<t>}] + b_a) \\\\\n",
    "\\hat{y}^{<t>} & = \\text{softmax}(W_y \\bullet a^{<t>} + b_y)\n",
    "\\end{align}\n",
    "$$"
   ]
  },
  {
   "cell_type": "code",
   "execution_count": 84,
   "id": "f4b74410-29b1-4821-aa04-e883d7177dc9",
   "metadata": {},
   "outputs": [
    {
     "name": "stdout",
     "output_type": "stream",
     "text": [
      "\n",
      "a_t (4, 5):\n",
      "[[ 0.24301521  0.88478664 -0.79578289  0.66607401  0.57861784]\n",
      " [-0.97160825 -0.25363724  0.90638331  0.68734382 -0.46716548]\n",
      " [ 0.98612867  0.99624801  0.97002273  0.99953763  0.81593238]\n",
      " [-0.32167774 -0.50931501 -0.87771549 -0.89086494 -0.50309409]]\n",
      "\n",
      "yhat_t (3, 5):\n",
      "[[0.10084556 0.31132595 0.83056048 0.75792909 0.22572618]\n",
      " [0.89116408 0.67951562 0.15113202 0.23184855 0.76345607]\n",
      " [0.00799036 0.00915844 0.0183075  0.01022237 0.01081776]]\n"
     ]
    }
   ],
   "source": [
    "np.random.seed(5)\n",
    "def basic_block_forward(x_t, a_t1, params):\n",
    "    def sigmoid(z): return 1 / (1 + np.exp(-z))\n",
    "    def softmax(z): return np.exp(z) / np.sum(np.exp(z), axis=0)\n",
    "\n",
    "    # Vertically stack a_t1 and x_t because they both have \"m\" columns\n",
    "    a_t1_x_t = np.concatenate((a_t1, x_t), axis=0)\n",
    "    a_t = np.tanh(params[\"Wa\"].dot(a_t1_x_t) + params[\"ba\"])\n",
    "\n",
    "    # Make sure a_t equals the expanded form version of the formula\n",
    "    assert np.allclose(a_t, np.tanh(params[\"Waa\"].dot(a_t1) + params[\"Wax\"].dot(x_t) + params[\"ba\"]))\n",
    "    \n",
    "    yhat_t = softmax(params[\"Wy\"].dot(a_t) + params[\"by\"])\n",
    "    return a_t, yhat_t\n",
    "\n",
    "n_x = 2; n_y = 3; n_a = 4; m = 5; params = {}\n",
    "params[\"ba\"] = np.random.randn(n_a, 1)\n",
    "params[\"Wy\"] = np.random.randn(n_y, n_a)\n",
    "params[\"by\"] = np.random.randn(n_y, 1)\n",
    "params[\"Waa\"] = np.random.randn(n_a, n_a)\n",
    "params[\"Wax\"] = np.random.randn(n_a, n_x)\n",
    "\n",
    "# Horizontally stack Waa and Wax because they both have \"n_a\" rows\n",
    "params[\"Wa\"] = np.concatenate((params[\"Waa\"], params[\"Wax\"]), axis=1)\n",
    "\n",
    "a_t1 = np.random.randn(n_a, m)\n",
    "x_t = np.random.randn(n_x, m)\n",
    "\n",
    "matrices = basic_block_forward(x_t, a_t1, params)\n",
    "for matrix, name in zip(matrices, [\"a_t\", \"yhat_t\"]):\n",
    "    print(f\"\\n{name} {matrix.shape}:\\n{matrix}\")"
   ]
  },
  {
   "cell_type": "markdown",
   "id": "7ee6ef03-8a9d-4a26-b5d9-b2b8ca99acd9",
   "metadata": {},
   "source": [
    "#### Backward Propagation\n",
    "\n",
    "To make equations easier to understand, this document describes the placeholder value $k$ to represent the element-wise product between the next time step's activation gradients $\\frac{\\partial J}{\\partial a^{<t>}}$ and the derivative of the hyperbolic tangent function. For completeness, both styles of notation are included.\n",
    "\n",
    "$$\n",
    "\\begin{align}\n",
    "k & = \\frac{\\partial J}{\\partial a^{<t>}} \\odot (1 - \\text{tanh}(W_a \\bullet [a^{<t-1>}, x^{<t>}] + b_a)^2) \\\\\n",
    "k & = \\frac{\\partial J}{\\partial a^{<t>}} \\odot (1 - \\text{tanh}(W_{aa} \\bullet a^{<t-1>} + W_{ax} \\bullet x^{<t>} + b_a)^2)\n",
    "\\end{align}\n",
    "$$\n",
    "\n",
    "Thanks to the place holder value $k$, the following derivatives can be computed. Note that $k$ has the same shape of $\\frac{\\partial J}{\\partial a^{<t>}}$, which has the same shape as $a^{<t>}$, which has shape $(n_a, m)$. The other gradient matricies also have the same shapes as their forward propagation counterparts.\n",
    "\n",
    "$$\n",
    "\\begin{align}\n",
    "\\frac{\\partial J}{\\partial W_{ax}} & = k \\bullet x^{<t>^T} \\\\\n",
    "\\frac{\\partial J}{\\partial W_{aa}} & = k \\bullet a^{<t-1>^T} \\\\\n",
    "\\frac{\\partial J}{\\partial b_{a}} & = \\sum \\limits_{i=0}^m k \\\\\n",
    "\\frac{\\partial J}{\\partial x^{<t>}} & = {W_{ax}}^T \\bullet k \\\\\n",
    "\\frac{\\partial J}{\\partial a^{<t-1>}} & = {W_{aa}}^T \\bullet k\n",
    "\\end{align}\n",
    "$$"
   ]
  },
  {
   "cell_type": "code",
   "execution_count": 85,
   "id": "aa7c5ba1-edc4-4d39-b7b6-2461e1ab7b90",
   "metadata": {},
   "outputs": [
    {
     "name": "stdout",
     "output_type": "stream",
     "text": [
      "\n",
      "dx_t (2, 5):\n",
      "[[ 0.36173371  0.07258235 -0.3127076   0.51667735  0.23796537]\n",
      " [ 0.16746586  0.0099127  -0.08901304  0.5075427   0.02782837]]\n",
      "\n",
      "da_t1 (4, 5):\n",
      "[[ 0.30914988 -0.33199847  0.41233003  1.17203946  0.06023531]\n",
      " [ 0.09549288  0.01934565 -0.05286536 -0.2580408   0.15143542]\n",
      " [ 0.09603845  0.1104004   0.43067282 -0.7869324  -0.1809735 ]\n",
      " [-0.09767265  0.44923884 -0.20677381 -0.93088201 -0.29272867]]\n",
      "\n",
      "dWax (4, 2):\n",
      "[[ 0.12854002  0.01784723]\n",
      " [-0.7449965  -0.68421813]\n",
      " [-0.51125855 -0.42117767]\n",
      " [-0.60615459 -0.57714979]]\n",
      "\n",
      "dWaa (4, 4):\n",
      "[[ 0.1408728   0.06199351 -0.29395468 -0.03514647]\n",
      " [ 0.78079271  0.99458584 -1.17711032  0.19267877]\n",
      " [-0.19048651  0.35752149 -0.35359639 -0.16566155]\n",
      " [ 0.01796849  0.67614165 -0.17139042 -1.18797038]]\n",
      "\n",
      "dba (4, 1):\n",
      "[[0.08316439]\n",
      " [1.46755994]\n",
      " [0.41245529]\n",
      " [1.10011785]]\n"
     ]
    }
   ],
   "source": [
    "np.random.seed(5)\n",
    "def basic_block_backward(da_t, fc):\n",
    "    \n",
    "    a_t1_x_t = np.concatenate((fc[\"a_t1\"], fc[\"x_t\"]), axis=0)\n",
    "    k = da_t * (1 - np.tanh(fc[\"Wa\"].dot(a_t1_x_t) + fc[\"ba\"]) ** 2)\n",
    "\n",
    "    # Make sure k equals the expanded form version of the formula\n",
    "    assert np.allclose(k, da_t * (1 - np.tanh(fc[\"Waa\"].dot(fc[\"a_t1\"]) + fc[\"Wax\"].dot(fc[\"x_t\"]) + fc[\"ba\"]) ** 2))\n",
    "\n",
    "    # Compute derivatives for (a_t1,x_t), Wa(a,x), and b\n",
    "    da_t1_x_t = fc[\"Wa\"].T.dot(k)\n",
    "    dWa = k.dot(a_t1_x_t.T)\n",
    "    dba = np.sum(k, keepdims=True, axis=-1)\n",
    "\n",
    "    # Undo concat to split specific derivatives apart from aggregate matrices\n",
    "    dWaa, dWax = dWa[:, :n_a], dWa[:, n_a:] \n",
    "    da_t1, dx_t = da_t1_x_t[:n_a,:], da_t1_x_t[n_a:,:]\n",
    "\n",
    "    return dx_t, da_t1, dWax, dWaa, dba\n",
    "\n",
    "n_x = 2; n_a = 4; m = 5\n",
    "fwd_cache = {k: np.random.randn(n_a, m) for k in [\"a_t1\", \"a_t\", \"da_t\"]}\n",
    "fwd_cache[\"Waa\"] = np.random.randn(n_a, n_a)\n",
    "fwd_cache[\"Wax\"] = np.random.randn(n_a, n_x)\n",
    "fwd_cache[\"ba\"] = np.random.randn(n_a, 1)\n",
    "fwd_cache[\"x_t\"] = np.random.randn(n_x, m)\n",
    "\n",
    "# Horizontally stack Waa and Wax because they both have \"n_a\" rows\n",
    "fwd_cache[\"Wa\"] = np.concatenate((fwd_cache[\"Waa\"], fwd_cache[\"Wax\"]), axis=1)\n",
    "\n",
    "matrices = basic_block_backward(fwd_cache.pop(\"da_t\"), fwd_cache)\n",
    "\n",
    "for matrix, name in zip(matrices, [\"dx_t\", \"da_t1\", \"dWax\", \"dWaa\", \"dba\"]):\n",
    "    print(f\"\\n{name} {matrix.shape}:\\n{matrix}\")"
   ]
  },
  {
   "cell_type": "markdown",
   "id": "70f3e22d-0641-4623-965a-cfe85aecd339",
   "metadata": {},
   "source": [
    "### Gated Recurrent Unit (GRU)"
   ]
  },
  {
   "cell_type": "markdown",
   "id": "872c0466-2b68-49b3-b277-fd847ac43da8",
   "metadata": {},
   "source": [
    "#### Notation\n",
    "\n",
    "This architecture introduces a memory cell $c^{<t>}$ which helps retain information across all the time steps. Somewhat like residual connections in a CNN ResNet, this technique helps resolve the vanishing gradient problem. The architecture introduces 2 gates which helps control the flow of information through the time steps.\n",
    "\n",
    "$$\n",
    "\\begin{align}\n",
    "c^{<t>} & = \\text{memory cell at t'th time step. shape: } (n_a, m) \\\\\n",
    "\\tilde{c}^{<t>} & = \\text{candidate value for replacing the memory cell. shape: } (n_a, m) \\\\\n",
    "\\Gamma_u & = \\text{update gate; 0 permits a change, 1 denies a change. shape: } (n_a, m) \\\\\n",
    "\\Gamma_r & = \\text{reset gate; 0 means retain less info, 1 means retain more info. shape: } (n_a, m)\n",
    "\\end{align}\n",
    "$$"
   ]
  },
  {
   "cell_type": "markdown",
   "id": "776e2ccb-3812-4ebf-be84-49658324af7e",
   "metadata": {},
   "source": [
    "#### Forward Propagation\n",
    "\n",
    "The update gate $\\Gamma_u$ determines whether the memory cell $c^{<t>}$ should be updated using a candidate replacement value $\\tilde{c}^{<t>}$. When the update gate is 0, the last time step's memory cell value $c^{<t-1>}$ is passed along. When the update gate is 1, the candidate replacement value $\\tilde{c}^{<t>}$ is passed along.\n",
    "\n",
    "The reset gate $\\Gamma_r$ determines whether the memory cell $c^{<t>}$ should be reset. When the reset gate $\\Gamma_r$ is 0, the last time step's memory cell value $c^{<t-1>}$ is removed from consideration when computing $\\tilde{c}^{<t>}$. When the reset gate $\\Gamma_r$ is 1, the last time step's memory cell value $c^{<t-1>}$ remains in consideration when computing $\\tilde{c}^{<t>}$. Although the implementation is different, the function has so much similar to the forget gate $\\Gamma_f$ in LSTM.\n",
    "\n",
    "Note that all of these new matrices have the same shape of $(n_a, m)$ as they all relate to activation values. Also, note that $a^{<t>}$ and $c^{<t>}$ are identical, but separating them here will make understanding LSTM blocks easier later.\n",
    "\n",
    "$$\n",
    "\\begin{align}\n",
    "\\Gamma_u & = \\sigma(W_u \\bullet [c^{<t-1>},x^{<t>}] + b_u) \\\\\n",
    "\\Gamma_r & = \\sigma(W_r \\bullet [c^{<t-1>},x^{<t>}] + b_r) \\\\\n",
    "\\tilde{c}^{<t>} & = \\text{tanh}(W_c \\bullet [\\Gamma_r \\odot c^{<t-1>},x^{<t>}] + b_c) \\\\\n",
    "c^{<t>} & = \\Gamma_u \\odot \\tilde{c}^{<t>} + (1-\\Gamma_u) \\odot c^{<t-1>} \\\\\n",
    "a^{<t>} & = c^{<t>} \\\\\n",
    "\\hat{y}^{<t>} & = \\text{softmax}(W_{y} \\bullet a^{<t>} + b_y)\n",
    "\\end{align}\n",
    "$$"
   ]
  },
  {
   "cell_type": "code",
   "execution_count": 86,
   "id": "a7fa13ce-a1dd-461e-adf2-94818f146683",
   "metadata": {},
   "outputs": [
    {
     "name": "stdout",
     "output_type": "stream",
     "text": [
      "a_t (4, 5):\n",
      "[[ 0.89958687  0.4040248   0.59584638 -1.41588439  0.75794585]\n",
      " [ 0.21007908  0.96382507 -0.44370123  1.76041557 -0.99684935]\n",
      " [ 0.72514232  0.55184065 -0.29644799  0.81399907 -0.28379372]\n",
      " [-1.54654969 -1.1450336   0.40978402 -0.3784983  -0.07548489]]\n",
      "\n",
      "yhat_t (3, 5):\n",
      "[[0.51235857 0.69898642 0.17868475 0.24544786 0.13121629]\n",
      " [0.40976102 0.22948506 0.06727819 0.65270014 0.11611912]\n",
      " [0.07788042 0.07152852 0.75403706 0.10185201 0.75266459]]\n"
     ]
    }
   ],
   "source": [
    "np.random.seed(5)\n",
    "def gru_block_forward(x_t, c_t1, params):\n",
    "    def sigmoid(z): return 1 / (1 + np.exp(-z))\n",
    "    def softmax(z): return np.exp(z) / np.sum(np.exp(z), axis=0)\n",
    "    \n",
    "    # Vertically stack c_t1 and x_t because they both have width \"m\"\n",
    "    c_t1_x_t = np.concatenate((c_t1, x_t), axis=0)\n",
    "    gates = {l: sigmoid(params[f\"W{l}\"].dot(c_t1_x_t) + params[f\"b{l}\"]) for l in \"ur\"}\n",
    "\n",
    "    # Only bcast-multiply the \"top half\" of the concat matrix (rows 0 to n_a)\n",
    "    c_t1_x_t[:c_t1.shape[0], :] *= gates[\"r\"]\n",
    "    c_t_tilde = np.tanh(params[\"Wc\"].dot(c_t1_x_t) + params[\"bc\"])\n",
    "    c_t = (gates[\"u\"] * c_t_tilde) + ((1 - gates[\"u\"]) * c_t1)\n",
    "    a_t = c_t\n",
    "    yhat_t = softmax(params[\"Wy\"].dot(a_t) + params[\"by\"])\n",
    "    return a_t, yhat_t\n",
    "\n",
    "n_x = 2; n_y = 3; n_a = 4; m = 5\n",
    "params = {f\"W{l}\": np.random.randn(n_a, n_a + n_x) for l in \"urc\"}\n",
    "params |= {f\"b{l}\": np.random.randn(n_a, 1) for l in \"urc\"}\n",
    "params[\"Wy\"] = np.random.randn(n_y, n_a)\n",
    "params[\"by\"] = np.random.randn(n_y, 1)\n",
    "\n",
    "c_t1 = np.random.randn(n_a, m)\n",
    "x_t = np.random.randn(n_x, m)\n",
    "\n",
    "a_t, yhat_t = gru_block_forward(x_t, c_t1, params)\n",
    "print(f\"a_t {a_t.shape}:\\n{a_t}\\n\")\n",
    "print(f\"yhat_t {yhat_t.shape}:\\n{yhat_t}\")"
   ]
  },
  {
   "cell_type": "markdown",
   "id": "a66016a7-73b0-483d-a0f7-3ee154cbce16",
   "metadata": {},
   "source": [
    "### Long Short Term Memory (LSTM)"
   ]
  },
  {
   "cell_type": "markdown",
   "id": "8a2f76af-e5e3-4a5a-a547-f13472c3b9f7",
   "metadata": {},
   "source": [
    "#### Notation\n",
    "This block type is older and more powerful than GRU, but more complex to implement and slower to run, especially on larger data sets. It also solves the vanishing gradient problem by passing information through the time steps, except uses different equations for $a^{<t>}$ and $c^{<t>}$, along with 3 gates. Note that these activation-related matrices all have the same shape of $(n_a, m)$.\n",
    "\n",
    "$$\n",
    "\\begin{align}\n",
    "{c}^{<t>} & = \\text{memory cell at t'th time step. shape: } (n_a, m) \\\\\n",
    "\\tilde{c}^{<t>} & = \\text{candidate value for replacing the memory cell. shape: } (n_a, m) \\\\\n",
    "\\Gamma_u & = \\text{update gate; 0 permits a change, 1 denies a change. shape: } (n_a, m) \\\\\n",
    "\\Gamma_f & = \\text{forget gate; 0 remembers a value, 1 forgets a value. shape: } (n_a, m) \\\\\n",
    "\\Gamma_o & = \\text{output gate; used to compute the next activation. shape: } (n_a, m)\n",
    "\\end{align}\n",
    "$$"
   ]
  },
  {
   "cell_type": "markdown",
   "id": "6de48649-84ba-41d0-88f1-03f9fe00dd88",
   "metadata": {},
   "source": [
    "#### Forward Propagation\n",
    "\n",
    "The update gate $\\Gamma_u$ plays an similar role in LSTM as it did with GRU, but this time, it only influences whether the candidate memory cell value $\\tilde{c}^{<t>}$ should be included when computing $c^{<t>}$ (when 1) or not (when 0). The forget gate $\\Gamma_f$ determines whether the previous time step's memory cell $c^{<t-1>}$ influences the current time step's memory cell $c^{<t>}$. A value of 0 remembers (does not forget) that previous value, while a value of 1 forgets it. The output gate $\\Gamma_o$ is the final modifier to the time step's activation values $a^{<t>}$, choosing to retain (when 1) or clear (when 0) values before passing to the next time step.\n",
    "\n",
    "$$\n",
    "\\begin{align}\n",
    "\\Gamma_u & = \\sigma(W_u \\bullet [a^{<t-1>},x^{<t>}] + b_u) \\\\\n",
    "\\Gamma_f & = \\sigma(W_f \\bullet [a^{<t-1>},x^{<t>}] + b_f) \\\\\n",
    "\\Gamma_o & = \\sigma(W_o \\bullet [a^{<t-1>},x^{<t>}] + b_o) \\\\\n",
    "\\tilde{c}^{<t>} & = \\text{tanh}(W_c \\bullet [a^{<t-1>},x^{<t>}] + b_c) \\\\\n",
    "c^{<t>} & = \\Gamma_u \\odot \\tilde{c}^{<t>} + (1-\\Gamma_f) \\odot c^{<t-1>} \\\\\n",
    "a^{<t>} & = \\Gamma_o \\odot \\text{tanh}(c^{<t>})\n",
    "\\end{align}\n",
    "$$"
   ]
  },
  {
   "cell_type": "code",
   "execution_count": 87,
   "id": "0bea1e0a-c420-4df3-bb9a-ea64dd3c8b0b",
   "metadata": {},
   "outputs": [
    {
     "name": "stdout",
     "output_type": "stream",
     "text": [
      "c_t (4, 5):\n",
      "[[-0.92629771 -1.04634537 -2.09637026  0.15368677 -0.48567077]\n",
      " [ 0.39501359  1.0440999   0.82786095  0.27254698  0.87291927]\n",
      " [-0.91399404 -0.58501897  0.25829643 -0.63065691  0.55144623]\n",
      " [-0.49132468 -0.61167535  0.62097266  0.08373668 -1.22169781]]\n",
      "\n",
      "a_t (4, 5):\n",
      "[[-0.51722213 -0.69928665 -0.93076489  0.13979062 -0.43831087]\n",
      " [ 0.37323665  0.27677095  0.04980654  0.26464559  0.66962105]\n",
      " [-0.17783203 -0.1722247   0.14266404 -0.28891531  0.34834478]\n",
      " [-0.2337893  -0.16626539  0.30157273  0.00344807 -0.14602265]]\n",
      "\n",
      "yhat_t (3, 5):\n",
      "[[0.10232122 0.11523386 0.09073917 0.12042771 0.03047996]\n",
      " [0.58186336 0.59572435 0.64494706 0.49179344 0.61653583]\n",
      " [0.31581542 0.28904179 0.26431377 0.38777885 0.35298421]]\n"
     ]
    }
   ],
   "source": [
    "np.random.seed(5)\n",
    "def lstm_block_forward(x_t, a_t1, c_t1, params):\n",
    "    def sigmoid(z): return 1 / (1 + np.exp(-z))\n",
    "    def softmax(z): return np.exp(z) / np.sum(np.exp(z), axis=0)\n",
    "    \n",
    "    # Vertically stack a_t1 and x_t because they both have width \"m\"\n",
    "    a_t1_x_t = np.concatenate((a_t1, x_t), axis=0)\n",
    "    gates = {l: sigmoid(params[f\"W{l}\"].dot(a_t1_x_t) + params[f\"b{l}\"]) for l in \"ufo\"}\n",
    "    c_t_tilde = np.tanh(params[\"Wc\"].dot(a_t1_x_t) + params[\"bc\"])\n",
    "    c_t = gates[\"f\"] * c_t1 + gates[\"u\"] * c_t_tilde\n",
    "    a_t = gates[\"o\"] * np.tanh(c_t)\n",
    "    yhat_t = softmax(params[\"Wy\"].dot(a_t) + params[\"by\"])\n",
    "    return c_t, a_t, yhat_t\n",
    "\n",
    "n_x = 2; n_y = 3; n_a = 4; m = 5\n",
    "params = {f\"W{l}\": np.random.randn(n_a, n_a + n_x) for l in \"ufoc\"}\n",
    "params |= {f\"b{l}\": np.random.randn(n_a, 1) for l in \"ufoc\"}\n",
    "params[\"Wy\"] = np.random.randn(n_y, n_a)\n",
    "params[\"by\"] = np.random.randn(n_y, 1)\n",
    "\n",
    "a_t1 = np.random.randn(n_a, m)\n",
    "c_t1 = np.random.randn(n_a, m)\n",
    "x_t = np.random.randn(n_x, m)\n",
    "\n",
    "c_t, a_t, yhat_t = lstm_block_forward(x_t, a_t1, c_t1, params)\n",
    "print(f\"c_t {c_t.shape}:\\n{c_t}\\n\")\n",
    "print(f\"a_t {a_t.shape}:\\n{a_t}\\n\")\n",
    "print(f\"yhat_t {yhat_t.shape}:\\n{yhat_t}\")"
   ]
  },
  {
   "cell_type": "markdown",
   "id": "e3dc6601-e784-43c1-856b-c9eee9d0e2dc",
   "metadata": {},
   "source": [
    "### Alternative Network Types"
   ]
  },
  {
   "cell_type": "markdown",
   "id": "2b8c29f5-2c1c-45d2-bda3-c9a2da4b1d22",
   "metadata": {
    "jp-MarkdownHeadingCollapsed": true
   },
   "source": [
    "#### Overview\n",
    "This section describes RN and architectures that use the aforementioned building blocks in unique configurations. Many of the technologies discussed thus far can be mixed and matched freely given their modularity. For example, you can build a bidirectional RNN using GRU or LSTM cells. The same is true for a Deep RNN. You can even build a Deep RNN that is also bidirectional."
   ]
  },
  {
   "cell_type": "markdown",
   "id": "130c369b-65ed-4514-9f04-0baef654868c",
   "metadata": {},
   "source": [
    "#### Bidirectional RNN (BRNN)\n",
    "\n",
    "Rather than just computing activation values $a^{<t>}$ in the forward direction from $x^{<1>}$ up to $x^{<T_x>}$, perform the same process in reverse. This backwards process computes $a^{<t>}_{back}$ from $x^{<T_x>}$ down to $x^{<1>}$. Said another way, each time step input $x^{<t>}$ feeds into an RNN block to compute $a^{<t>}_{forw}$ and a separate such block to compute $a^{<t>}_{back}$. This allows any prediction $\\hat{y}^{<t>}$ to see all inputs $x^{<t>}$ from past or future time steps. The result is an acyclic graph, where the forward and backward activation values flow in opposite directions, but remain isolated.\n",
    "\n",
    "$$\n",
    "\\begin{align}\n",
    "a^{<t>}_{forw} & = \\sigma(W_{a\\_forw} \\bullet [a^{<t-1>}_{forw}, x^{<t>}] + b_{a\\_forw}) \\\\\n",
    "a^{<t>}_{back} & = \\sigma(W_{a\\_back} \\bullet [a^{<t+1>}_{back}, x^{<t>}] + b_{a\\_back}) \\\\\n",
    "\\hat{y}^{<t>} & = \\text{softmax}(W_y \\bullet [a^{<t>}_{forw},a^{<t>}_{back}] + b_y)\n",
    "\\end{align}\n",
    "$$\n",
    "\n",
    "Note that this is not backwards propagation and is unrelated to computing gradients. The directions are sometimes called \"forward recurrent component\" and \"backwards recurrent component\". The drawback is that a BRNN requires all the input before making a prediction."
   ]
  },
  {
   "cell_type": "markdown",
   "id": "c45fadde-8498-46f9-88af-7b403aaa8bbe",
   "metadata": {},
   "source": [
    "#### Deep RNN\n",
    "\n",
    "In addition to the temporal component, present in all RNs, a deep RNN adds multiple layers. What was normally a prediction $\\hat{y}^{<t>}$ from the first layer $[0]$ becomes the input to the second layer $[1]$ at the corresponding timestamp $t$. The final output from the topmost layer $[L]$ becomes the true prediction $\\hat{y}^{<t>}$. Much like an MLP, there are different trainable weights $W_a^{[l]}$ and biases $b_a^{[l]}$ at each layer.\n",
    "\n",
    "$$\n",
    "\\begin{align}\n",
    "a^{[l]<t>} & = \\sigma(W_a^{[l]} \\bullet [a^{[l]<t-1>},a^{[l-1]<t>}] + b_a^{[l]}) \\\\\n",
    "\\hat{y}^{<t>} & = \\text{softmax}(W_y^{[L]} \\bullet [a^{[L]<t-1>},a^{[L-1]<t>}] + b_y^{[L]})\n",
    "\\end{align}\n",
    "$$\n",
    "\n",
    "Unlike an MLP, RNNs already have temporal dimension, so even 3 or 4 layers is considered \"deep\" given that they are computationally expensive to train. It is also common to take the final layer's output prediction from a given time step and feed it as input into an MLP for additional processing. The same MLP is used at each time step, but the these MLPs are not linked horizontally; they process their individual inputs (the outputs from the deep RNN) separately. The final output from his MLP becomes the actual prediction $\\hat{y}^{<t>}$."
   ]
  },
  {
   "cell_type": "markdown",
   "id": "ca45c59d-19d4-49e0-9f4e-b816d63d3c4e",
   "metadata": {},
   "source": [
    "### Text Embeddings"
   ]
  },
  {
   "cell_type": "markdown",
   "id": "8a2d8617-3331-4552-bacd-1136ad5c3b75",
   "metadata": {},
   "source": [
    "#### Overview\n",
    "\n",
    "Embeddings are numeric representations of text stored in 1D vectors. They allow texts to be contextually compared with one another and rely on many characteristics/features. Using various linear algebra formulas (such as cosine similarity or Euclidean distance), the similarity can be quantified. Viewed as a column vector, each embedding is like a training example, whereas the length of the embedding is the number of features. Many such vectors arrayed horizontally forms an embedding matrix."
   ]
  },
  {
   "cell_type": "markdown",
   "id": "c3a23711-c0b7-40f3-a6e5-731947c15fb8",
   "metadata": {},
   "source": [
    "#### Computation\n",
    "\n",
    "Given a dictionary (list) of words, assign incremental numbers to every word in the dictionary from 1 to $m$ and compute the one-hot encoded (OHE) vector for each word. For example, in a dictionary with 4 words, the second word OHE vector is `[0, 1, 0, 0]`. It is represented as $o_2$ is formulas, or more generally, $o_w$.\n",
    "\n",
    "Given an embedding matrix $E$, take the dot product between the matrix the OHE word vector $o_w$. Matrix $E$ has shape $(D, V)$ where $D$ is the dimensionality of the embedding (number of features) and $V$ is the number of words in the dictionary (vocabulary size). Because vector $o_w$ has shape $(V, 1)$, the resulting word embedding $e_w$ has shape $(D, 1)$. In this way, the word embedding operation selects a column from the embedding matrix.\n",
    "\n",
    "$$\n",
    "\\begin{align}\n",
    "o_w & = \\text{onehot\\_encode}(w) \\\\\n",
    "e_w & = E \\bullet o_w\n",
    "\\end{align}\n",
    "$$\n",
    "\n",
    "Given 2 embedding vectors, one can compare them for similarity. There are two methods:\n",
    "\n",
    "  1.  The __cosine similarity__ ($S_c$) method measures only the angle between 2 vectors from the origin, ignoring their magnitude. This has the advantage of comparing directionality rather than exact position. The values range from -1 to 0, with 0 resembling no correlation (\"happy\" and \"tree\"), 1 resembling close correlation (\"happy\" and \"glad\"), and -1 resembling opposite correlation (\"happy\" and \"sad\"). Note that cosine distance is sometimes used as well, which is $1 - S_c$, ranging from 0 to 2. This time, 1 resembles no correlation (\"happy\" and \"tree\"), 0 resembles close correlation (\"happy\" and \"glad\"), and 2 resembles opposite correlation (\"happy\" and \"sad\").\n",
    "\n",
    "  2.  The __Euclidian distance__ ($d$) method compares the exact position of 2 vectors, accounting for both the angle and magnitude. It is sometimes written as simply $\\|\\vec{a}-\\vec{b}\\|_2$ and can never be negative as it measures distance. As such, it cannot easily distinguish a large negative correlation (\"happy\" and \"sad\") with no correlation (\"happy\" and \"tree\") as both distances are large. It would require multiple computations/comparisons to make such a conclusion. As such, it is less commonly used in modern embedding computations.\n",
    "\n",
    "$$\n",
    "\\begin{align}\n",
    "S_c(\\vec{a}, \\vec{b}) & = \\frac{\\vec{a} \\bullet \\vec{b}}{\\|\\vec{a}\\|_2 - \\|\\vec{b}\\|_2} \\\\\n",
    "d(\\vec{a}, \\vec{b}) & = \\sqrt{\\sum \\limits_{j=0}^n (\\vec{a}_j - \\vec{b}_j)^2} = \\|\\vec{a}-\\vec{b}\\|_2\n",
    "\\end{align}\n",
    "$$\n",
    "\n",
    "Consider this example. There are 4 words in the dictionary and 5 feet. The features range from negative one to one, and I've been populated with possible values. Values close to 0 mean that the word has no relation to the feature; none of these animals can fly and thus have no airspeed. Values close to -1 or 1 means a strong relation to the feature, but in opposite directions. Puppies and kittens have a strong age dimension on one side (young), but dogs and cats also have a strong dimension on the other side (not young). All of the animals are mammals; they all have a strong relation to that feature.\n",
    "\n",
    "|              | puppy (1) | dog (2) | kitten (3) | cat (4) |\n",
    "| ------------ | --------- | ------- | ---------- | ------- |\n",
    "| years age    |  -0.87    |  0.65   |  -0.91     |  0.7    |\n",
    "| dig hole     |  0.82     |  0.9    |  0.03      |  0.1    |\n",
    "| retract claw |  0.02     | -0.09   |  0.85      |  0.92   |\n",
    "| airspeed     |  0.01     | -0.01   |  0.03      |  0.02   |\n",
    "| mammal       |  0.94     |  0.97   |  0.95      |  0.98   |\n",
    "\n",
    "Embeddings allow us to predict new words based on relationships between other words. The code below answers the question: __\"Puppy is to dog as kitten is to what?\"__ The answer is __\"cat\"__, and the vector values are printed to the terminal and plotted using PCA. Because the embedding matrix has more than 2 features, 2D visualization techniques (like PCA and others) are useful for learning/testing."
   ]
  },
  {
   "cell_type": "code",
   "execution_count": 2,
   "id": "737babbc-ee91-486d-9564-8de37b3254da",
   "metadata": {},
   "outputs": [
    {
     "name": "stdout",
     "output_type": "stream",
     "text": [
      "emb_matrix (5, 4)\n",
      "[[ 0.87 -0.65  0.91 -0.7 ]\n",
      " [ 0.82  0.9   0.03  0.1 ]\n",
      " [ 0.02 -0.09  0.85  0.92]\n",
      " [ 0.01 -0.01  0.03  0.02]\n",
      " [ 0.94  0.97  0.95  0.98]]\n",
      "\n",
      "red:    [-0.61  0.11  0.74  0.01  0.98]\n",
      "blue 4: [-0.7   0.1   0.92  0.02  0.98]\n",
      "cosine similarity:  0.9952\n",
      "euclidian distance: 0.2017\n"
     ]
    },
    {
     "data": {
      "image/png": "[encoded data removed]",
      "text/plain": [
       "<Figure size 640x480 with 1 Axes>"
      ]
     },
     "metadata": {},
     "output_type": "display_data"
    }
   ],
   "source": [
    "def cosine_similarity(a, b): return a.dot(b) / (np.linalg.norm(a) * np.linalg.norm(b))\n",
    "def euclidian_distance(a, b): return np.linalg.norm(a - b)\n",
    "\n",
    "emb_matrix = np.array([\n",
    "    [0.87, -0.65, 0.91, -0.7],\n",
    "    [0.82, 0.9, 0.03, .1],\n",
    "    [0.02, -0.09, 0.85, 0.92],\n",
    "    [0.01, -0.01, 0.03, 0.02],\n",
    "    [0.94, 0.97, 0.95, 0.98],\n",
    "])\n",
    "print(f\"emb_matrix {emb_matrix.shape}\\n{emb_matrix}\\n\")\n",
    "names = [\"puppy\", \"dog\", \"kitten\", \"cat\"]\n",
    "word_embs = {name: emb_matrix.dot(row) for row, name in zip(np.eye(len(names)), names)}\n",
    "\n",
    "# puppy - dog = kitten - ?\n",
    "cat_pred = -word_embs[\"puppy\"] + word_embs[\"dog\"] + word_embs[\"kitten\"]\n",
    "print(f\"red:    {cat_pred}\")\n",
    "print(f\"blue 4: {word_embs['cat']}\")\n",
    "print(f\"cosine similarity:  {cosine_similarity(cat_pred, word_embs['cat']):.4f}\")\n",
    "print(f\"euclidian distance: {euclidian_distance(cat_pred, word_embs['cat']):.4f}\")\n",
    "\n",
    "X = np.append(emb_matrix, cat_pred.reshape(-1,1), axis=1).T\n",
    "pca_2 = PCA(n_components=2)\n",
    "pca_2.fit(X)\n",
    "\n",
    "X_pca_2 = pca_2.transform(X)\n",
    "pc1 = X_pca_2[:, 0]\n",
    "pc2 = X_pca_2[:, 1]\n",
    "evr = np.sum(pca_2.explained_variance_ratio_) * 100\n",
    "\n",
    "plt.scatter(pc1[:-1], pc2[:-1], color=\"b\", label=\"original dictionary words\")\n",
    "plt.scatter(pc1[-1], pc2[-1], color=\"r\", label=r\"-puppy + dog + kitten $\\approx$ cat\")\n",
    "plt.xlabel(\"PC1\"); plt.ylabel(\"PC2\")\n",
    "plt.title(f\"Embedding PCA - EVR {evr:.4f}%\"); plt.legend()\n",
    "\n",
    "for i in range(X.shape[0] - 1):\n",
    "    plt.annotate(i+1, (pc1[i], pc2[i]))"
   ]
  },
  {
   "cell_type": "markdown",
   "id": "27138267-44c2-41ef-8053-28320ebd3c0f",
   "metadata": {},
   "source": [
    "#### Learning with Neural Language Model\n",
    "\n",
    "This technique was created by Yoshua Bengio et al in 2003 and is documented [here](https://www.jmlr.org/papers/volume3/bengio03a/bengio03a.pdf). The goal is to learn text embeddings using a relatively simple MLP. First, compute the embedding vectors $e_w$ for a fixed number of words within a sentence. This number of words is a hyperparameter $n$ which influences the number of units in the first MLP layer. Given an embedding dimensionality $D$ and the number of words $n$, the shape of the input matrix $X$ becomes $(D \\times n, m)$ where $m$ is the number of $n$-word training examples. The first layer uses hyperbolic tangent activation.\n",
    "\n",
    "The second and final layer uses a softmax activation, interpreted as an OHE vector selecting the correct next word. As such, it has shape $(V,m)$ where $V$ is the vocabulary size. Both of the MLP layers have traditional weights $W^{[l]}$ and biases $b^{[l]}$ to be trained. Additionally, the embedding matrix $E$ is also trainable."
   ]
  },
  {
   "cell_type": "markdown",
   "id": "ef48121a-7ba4-4bc2-9c2a-c055bc33af54",
   "metadata": {},
   "source": [
    "#### Learning with word2vec\n",
    "\n",
    "This technique was created by Thomas Mikolov et al in 2013 and is documented [here](https://arxiv.org/pdf/1301.3781). word2vec simpler way to learn embeddings and is an implementation of the \"skip gram\" method because given some context, it can skip some words in either direction and predict a target word.\n",
    "\n",
    "create context/target pairs\n",
    "randomly pick context and target (within range of context)\n",
    "\n",
    "just embedding a softmax unit. \n",
    "\n",
    "map c to t (x to y)\n",
    "\n",
    "$\\theta_t$ is change of target word $o_t$ being the correct answer (label).\n",
    "\n",
    "$$\n",
    "\\begin{align}\n",
    "e_c & = o_c \\bullet E \\\\\n",
    "\\hat{y} & = softmax(e_c) \\\\\n",
    "p(t|c) & = \\frac{e^{{\\theta_t}^T} \\bullet e_c}{\\sum_{j=1}^V e^{{\\theta_j}^T} \\bullet e_c}\n",
    "\\end{align}\n",
    "$$\n",
    "\n",
    "In practice, this algorithm is computational expensive due to the softmax activation given a large vocabulary $V$. An alternative is to use a hierarchical softmax design by determining if the correct word is in the first or last \"half\" of the vocabularly. These \"halves\" are not necessarily equal in size and the word order is not necessarily preserved. More common words tend to be shallower in the tree (closer to the ropt), causing the algorithm to run faster. This reduces the algorithm's time complexity from linear to logarithmic."
   ]
  },
  {
   "cell_type": "markdown",
   "id": "de9a7a2f-7487-4385-b3c2-7d614e99c6fd",
   "metadata": {},
   "source": [
    "#### Learning with Negative Sampling"
   ]
  },
  {
   "cell_type": "code",
   "execution_count": null,
   "id": "34998451-0a27-4ec1-8500-e0a336e62d66",
   "metadata": {},
   "outputs": [],
   "source": []
  }
 ],
 "metadata": {
  "kernelspec": {
   "display_name": "Python 3 (ipykernel)",
   "language": "python",
   "name": "python3"
  },
  "language_info": {
   "codemirror_mode": {
    "name": "ipython",
    "version": 3
   },
   "file_extension": ".py",
   "mimetype": "text/x-python",
   "name": "python",
   "nbconvert_exporter": "python",
   "pygments_lexer": "ipython3",
   "version": "3.10.9"
  }
 },
 "nbformat": 4,
 "nbformat_minor": 5
}
